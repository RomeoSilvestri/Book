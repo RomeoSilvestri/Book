{
 "cells": [
  {
   "cell_type": "code",
   "execution_count": 1,
   "id": "cc687a7d",
   "metadata": {},
   "outputs": [],
   "source": [
    "import numpy as np"
   ]
  },
  {
   "cell_type": "markdown",
   "id": "801e5bb1",
   "metadata": {},
   "source": [
    "| Category | Type                      |\n",
    "| :------: | :--:                      |\n",
    "| Boolean  | `bool` |\n",
    "| Complex  | `complex64`, `complex128`, `complex256` |\n",
    "| Float    | `float16`, `float32`, `float64`, `float128` |\n",
    "| Integer  | `int8`, `int16`, `int32`, `int64`, `uint8`, `uint16`, `uint32`, `uint64`   |\n",
    "| Object   | `object` |\n",
    "| String   | `str`, `unicode` |\n",
    "\n",
    "**Creation:**"
   ]
  },
  {
   "cell_type": "code",
   "execution_count": 2,
   "id": "594eb7fa",
   "metadata": {},
   "outputs": [
    {
     "name": "stdout",
     "output_type": "stream",
     "text": [
      "[1 2 3 4 5]\n",
      "<class 'numpy.ndarray'>\n"
     ]
    }
   ],
   "source": [
    "my_array = np.array([1, 2, 3, 4, 5])  # simple array creation\n",
    "print(my_array)\n",
    "print(type(my_array))                 # type"
   ]
  },
  {
   "cell_type": "markdown",
   "id": "d3d7b257",
   "metadata": {},
   "source": [
    "`ndim`: return the number of dimensions of an array\\\n",
    "`shape`: return the number of elements in each dimension (like calling *len()* on each dimension)\\\n",
    "`size`: return the total number of elements in an array (i.e., the product of *shape*)"
   ]
  },
  {
   "cell_type": "code",
   "execution_count": 3,
   "id": "e2a5d72f",
   "metadata": {},
   "outputs": [],
   "source": [
    "array_0d = np.array(1)                                                \n",
    "array_1d = np.array([1, 2, 3, 4, 5, 6])\n",
    "array_2d = np.array([[1, 2, 3], [4, 5, 6]])\n",
    "array_3d = np.array([[[1, 2, 3], [4, 5, 6]], [[3, 2, 1], [6, 5, 4]]])"
   ]
  },
  {
   "cell_type": "code",
   "execution_count": 4,
   "id": "2a8c6af6",
   "metadata": {},
   "outputs": [
    {
     "data": {
      "text/plain": [
       "array([[1, 2],\n",
       "       [3, 4],\n",
       "       [5, 6]])"
      ]
     },
     "execution_count": 4,
     "metadata": {},
     "output_type": "execute_result"
    }
   ],
   "source": [
    "list_2d = [[1, 2], [3, 4], [5, 6]]  # creation from list\n",
    "array_2d = np.array(list_2d)\n",
    "array_2d"
   ]
  },
  {
   "cell_type": "markdown",
   "id": "c45d13f9",
   "metadata": {},
   "source": [
    "| Method        | Paramethers | Description | \n",
    "| :----:        | :---------: | :---------: |\n",
    "| `arange`      | [`start`, ]`stop`, [`step`, ]`dtype=None` | Returns evenly spaced values within a given interval |\n",
    "| `diag`        | `array`, `k=0` | Returns a diagonal 2d-array extracting the values in the array |\n",
    "| `empty`       | `shape`, `dtype=float`, `order='C'` | Returns a new empty array of given shape and type |\n",
    "| `eye`         | `n`, `M=None`, `k=0`, `dtype=float`, `order='C'` | Returns a new identity 2d-array of given number of row (and columns) and type |\n",
    "| `full`        | `shape`, `fill_value`, `dtype=None`, `order='C'` | Returns a new array of given shape and type, filled with a specific value |\n",
    "| `identity`    | `n`, `dtype=None` | Returns a new identity quadratic 2d-array of given number of row and columns *n* type |\n",
    "| `linspace`    | `start`, `stop`, `num=50`, `endpoint=True`, `retstep=False`, `dtype=None`, `axis=0` | Returns evenly spaced numbers over a specified interval |\n",
    "| `ones`        | `shape`, `dtype=None`, `order='C'` | Returns a new array of given shape and type, filled with ones |\n",
    "| `random.choice` | `array`, `size=None`, `replace=True`, `p=None` | Generates random values from an array in a given shape with specific probabilities |\n",
    "| `random.rand` | `d0`, `d1`, `...`, `dN` | Generates random values between 0 and 1 in a given shape |\n",
    "| `random.randint` | `start`, `end`, `size=None` | Generates random integer values between *start* and *end* in a given shape |\n",
    "| `zeros`       | `shape`, `dtype=float`, `order='C'` | Returns a new array of given shape and type, filled with zeros |"
   ]
  },
  {
   "cell_type": "code",
   "execution_count": 5,
   "id": "58d6956d",
   "metadata": {},
   "outputs": [
    {
     "data": {
      "text/plain": [
       "array([1, 2, 3, 4])"
      ]
     },
     "execution_count": 5,
     "metadata": {},
     "output_type": "execute_result"
    }
   ],
   "source": [
    "np.arange(1, 5)"
   ]
  },
  {
   "cell_type": "code",
   "execution_count": 6,
   "id": "ab8ce710",
   "metadata": {},
   "outputs": [
    {
     "data": {
      "text/plain": [
       "array([ 0,  2,  4,  6,  8, 10])"
      ]
     },
     "execution_count": 6,
     "metadata": {},
     "output_type": "execute_result"
    }
   ],
   "source": [
    "np.arange(0, 11, 2)"
   ]
  },
  {
   "cell_type": "code",
   "execution_count": 7,
   "id": "6fa52ede",
   "metadata": {},
   "outputs": [
    {
     "data": {
      "text/plain": [
       "array([ 0. ,  2.5,  5. ,  7.5, 10. ])"
      ]
     },
     "execution_count": 7,
     "metadata": {},
     "output_type": "execute_result"
    }
   ],
   "source": [
    "np.linspace(0, 10, 5)"
   ]
  },
  {
   "cell_type": "code",
   "execution_count": 8,
   "id": "53eeb094",
   "metadata": {},
   "outputs": [
    {
     "data": {
      "text/plain": [
       "array([[0., 0., 0.],\n",
       "       [0., 0., 0.]])"
      ]
     },
     "execution_count": 8,
     "metadata": {},
     "output_type": "execute_result"
    }
   ],
   "source": [
    "np.zeros((2, 3))"
   ]
  },
  {
   "cell_type": "code",
   "execution_count": 9,
   "id": "e771f39f",
   "metadata": {},
   "outputs": [
    {
     "data": {
      "text/plain": [
       "array([[1., 1., 1.],\n",
       "       [1., 1., 1.]])"
      ]
     },
     "execution_count": 9,
     "metadata": {},
     "output_type": "execute_result"
    }
   ],
   "source": [
    "np.ones((2, 3))"
   ]
  },
  {
   "cell_type": "code",
   "execution_count": 10,
   "id": "7b1a6721",
   "metadata": {},
   "outputs": [
    {
     "data": {
      "text/plain": [
       "array([[3.14, 3.14],\n",
       "       [3.14, 3.14],\n",
       "       [3.14, 3.14]])"
      ]
     },
     "execution_count": 10,
     "metadata": {},
     "output_type": "execute_result"
    }
   ],
   "source": [
    "np.full((3, 2), 3.14)"
   ]
  },
  {
   "cell_type": "code",
   "execution_count": 11,
   "id": "7e13fa82",
   "metadata": {},
   "outputs": [
    {
     "data": {
      "text/plain": [
       "array([[0.51511141, 0.13461258],\n",
       "       [0.6594228 , 0.12085344],\n",
       "       [0.25042987, 0.37542223],\n",
       "       [0.64743259, 0.53739307],\n",
       "       [0.98484841, 0.3945653 ]])"
      ]
     },
     "execution_count": 11,
     "metadata": {},
     "output_type": "execute_result"
    }
   ],
   "source": [
    "np.random.rand(5, 2)"
   ]
  },
  {
   "cell_type": "markdown",
   "id": "67d88178",
   "metadata": {},
   "source": [
    "**Access:**\n",
    "\n",
    "Array **indexing** is the same as accessing an array element.\\\n",
    "You can access an array element by referring to its index number.\\\n",
    "As usual, the indexes in NumPy arrays start with 0, meaning that the first element has index 0, and the second has index 1 etc."
   ]
  },
  {
   "cell_type": "code",
   "execution_count": 12,
   "id": "f0d75b9f",
   "metadata": {},
   "outputs": [
    {
     "name": "stdout",
     "output_type": "stream",
     "text": [
      "1st row and 2nd column:  2\n"
     ]
    }
   ],
   "source": [
    "arr = np.array([[1,2,3,4,5,6], [7,8,9,10,11,12]])\n",
    "\n",
    "print('1st row and 2nd column: ', arr[0, 1])"
   ]
  },
  {
   "cell_type": "markdown",
   "id": "863e86d5",
   "metadata": {},
   "source": [
    "Array **slicing** in python means taking elements from one given index to another given index.\\\n",
    "We pass slice instead of index like this: [start:end].\\\n",
    "We can also define a step, like this: [start:end:step].\n",
    "\n",
    "If we don't pass start its considered 0.\\\n",
    "If we don't pass end its considered length of array in that dimension.\\\n",
    "If we don't pass step its considered 1."
   ]
  },
  {
   "cell_type": "code",
   "execution_count": 13,
   "id": "42638b18",
   "metadata": {},
   "outputs": [
    {
     "name": "stdout",
     "output_type": "stream",
     "text": [
      "From the 2nd row, slice elements from column 1 to 4 (not included):  [ 8  9 10]\n"
     ]
    }
   ],
   "source": [
    "print('From the 2nd row, slice elements from column 1 to 4 (not included): ', arr[1, 1:4])"
   ]
  },
  {
   "cell_type": "markdown",
   "id": "c4cf88ce",
   "metadata": {},
   "source": [
    "Array **iterating** means going through elements one by one. You can iterate through the elements of an array using the for loop."
   ]
  },
  {
   "cell_type": "code",
   "execution_count": 14,
   "id": "dea285a8",
   "metadata": {},
   "outputs": [
    {
     "name": "stdout",
     "output_type": "stream",
     "text": [
      "[1 2 3 4 5 6]\n",
      "[ 7  8  9 10 11 12]\n"
     ]
    }
   ],
   "source": [
    "for x in arr:  # iterate through all the rows\n",
    "  print(x)"
   ]
  },
  {
   "cell_type": "code",
   "execution_count": 15,
   "id": "6627fb06",
   "metadata": {},
   "outputs": [
    {
     "name": "stdout",
     "output_type": "stream",
     "text": [
      "1\n",
      "2\n",
      "3\n",
      "4\n",
      "5\n",
      "6\n",
      "7\n",
      "8\n",
      "9\n",
      "10\n",
      "11\n",
      "12\n"
     ]
    }
   ],
   "source": [
    "for x in arr:  # 1) iterate through all the elements\n",
    "  for y in x:\n",
    "    print(y)"
   ]
  },
  {
   "cell_type": "markdown",
   "id": "756e1234",
   "metadata": {},
   "source": [
    "`nditer`(array, flags=None, op_flags=None, op_dtypes=None, order='K', casting='safe', op_axes=None, itershape=None, buffersize=0)[\\*](https://numpy.org/doc/stable/reference/generated/numpy.nditer.html)"
   ]
  },
  {
   "cell_type": "code",
   "execution_count": 16,
   "id": "895e2109",
   "metadata": {},
   "outputs": [
    {
     "name": "stdout",
     "output_type": "stream",
     "text": [
      "1\n",
      "2\n",
      "3\n",
      "4\n",
      "5\n",
      "6\n",
      "7\n",
      "8\n",
      "9\n",
      "10\n",
      "11\n",
      "12\n"
     ]
    }
   ],
   "source": [
    "for x in np.nditer(arr):  # 2) iterate through all the elements\n",
    "  print(x)"
   ]
  },
  {
   "cell_type": "code",
   "execution_count": 17,
   "id": "b2ed57de",
   "metadata": {},
   "outputs": [
    {
     "name": "stdout",
     "output_type": "stream",
     "text": [
      "1\n",
      "3\n",
      "5\n",
      "7\n",
      "9\n",
      "11\n"
     ]
    }
   ],
   "source": [
    "# 3) iterate through all the elements skipping 1 element at a time\n",
    "\n",
    "for x in np.nditer(arr[:, ::2]):\n",
    "  print(x)"
   ]
  },
  {
   "cell_type": "code",
   "execution_count": 18,
   "id": "79eb5962",
   "metadata": {},
   "outputs": [
    {
     "name": "stdout",
     "output_type": "stream",
     "text": [
      "b'1'\n",
      "b'2'\n",
      "b'3'\n",
      "b'4'\n",
      "b'5'\n",
      "b'6'\n",
      "b'7'\n",
      "b'8'\n",
      "b'9'\n",
      "b'10'\n",
      "b'11'\n",
      "b'12'\n"
     ]
    }
   ],
   "source": [
    "# 4) iterate through all the elements changing the data type in-place\n",
    "\n",
    "for x in np.nditer(arr, flags=['buffered'], op_dtypes=['S']):\n",
    "  print(x)"
   ]
  },
  {
   "cell_type": "markdown",
   "id": "5ad23b85",
   "metadata": {},
   "source": [
    "`ndenumerate`(array)[\\*](https://numpy.org/doc/stable/reference/generated/numpy.ndenumerate.html)"
   ]
  },
  {
   "cell_type": "code",
   "execution_count": 19,
   "id": "eeb8f572",
   "metadata": {},
   "outputs": [
    {
     "name": "stdout",
     "output_type": "stream",
     "text": [
      "(0, 0) 1\n",
      "(0, 1) 2\n",
      "(0, 2) 3\n",
      "(0, 3) 4\n",
      "(0, 4) 5\n",
      "(0, 5) 6\n",
      "(1, 0) 7\n",
      "(1, 1) 8\n",
      "(1, 2) 9\n",
      "(1, 3) 10\n",
      "(1, 4) 11\n",
      "(1, 5) 12\n"
     ]
    }
   ],
   "source": [
    "# 5) iterate through all the elements printing the indexes\n",
    "\n",
    "for idx, x in np.ndenumerate(arr):\n",
    "  print(idx, x)"
   ]
  },
  {
   "cell_type": "markdown",
   "id": "0df78389",
   "metadata": {},
   "source": [
    "**filter** and **search**"
   ]
  },
  {
   "cell_type": "code",
   "execution_count": 20,
   "id": "f141170a",
   "metadata": {},
   "outputs": [
    {
     "name": "stdout",
     "output_type": "stream",
     "text": [
      "[[False  True False  True False  True]\n",
      " [False  True False  True False  True]]\n",
      "(array([0, 0, 0, 1, 1, 1], dtype=int64), array([1, 3, 5, 1, 3, 5], dtype=int64))\n",
      "[ 2  4  6  8 10 12]\n"
     ]
    }
   ],
   "source": [
    "print(arr % 2 == 0)\n",
    "print(np.where(arr % 2 == 0))  # search\n",
    "print(arr[arr % 2 == 0])"
   ]
  },
  {
   "cell_type": "markdown",
   "id": "0dabdb8a",
   "metadata": {},
   "source": [
    "**Operations:**\n",
    "\n",
    "**Elementwise:**"
   ]
  },
  {
   "cell_type": "code",
   "execution_count": 21,
   "id": "b5e3687d",
   "metadata": {},
   "outputs": [],
   "source": [
    "array_x = np.array([[1,2,3], [4,5,6]])  # 2x3\n",
    "array_y = np.array([[2,1,3], [6,5,4]])  # 2x3\n",
    "array_z = np.array([[1], [2], [3]])     # 3x1\n",
    "array_w = np.array([[1, 2, 3]])         # 1x3"
   ]
  },
  {
   "cell_type": "code",
   "execution_count": 22,
   "id": "838f48e9",
   "metadata": {},
   "outputs": [
    {
     "data": {
      "text/plain": [
       "array([[2, 3, 4],\n",
       "       [5, 6, 7]])"
      ]
     },
     "execution_count": 22,
     "metadata": {},
     "output_type": "execute_result"
    }
   ],
   "source": [
    "array_x + 1"
   ]
  },
  {
   "cell_type": "code",
   "execution_count": 23,
   "id": "176a9ab6",
   "metadata": {},
   "outputs": [
    {
     "data": {
      "text/plain": [
       "array([[ 3,  3,  6],\n",
       "       [10, 10, 10]])"
      ]
     },
     "execution_count": 23,
     "metadata": {},
     "output_type": "execute_result"
    }
   ],
   "source": [
    "array_x + array_y"
   ]
  },
  {
   "cell_type": "code",
   "execution_count": 24,
   "id": "2463f8b1",
   "metadata": {},
   "outputs": [
    {
     "data": {
      "text/plain": [
       "array([[False, False,  True],\n",
       "       [False,  True, False]])"
      ]
     },
     "execution_count": 24,
     "metadata": {},
     "output_type": "execute_result"
    }
   ],
   "source": [
    "array_x == array_y"
   ]
  },
  {
   "cell_type": "code",
   "execution_count": 25,
   "id": "54619f45",
   "metadata": {},
   "outputs": [
    {
     "data": {
      "text/plain": [
       "True"
      ]
     },
     "execution_count": 25,
     "metadata": {},
     "output_type": "execute_result"
    }
   ],
   "source": [
    "np.array_equal(x, y)"
   ]
  },
  {
   "cell_type": "code",
   "execution_count": 26,
   "id": "ee3248ef",
   "metadata": {},
   "outputs": [
    {
     "data": {
      "text/plain": [
       "array([[14],\n",
       "       [32]])"
      ]
     },
     "execution_count": 26,
     "metadata": {},
     "output_type": "execute_result"
    }
   ],
   "source": [
    "np.dot(array_x, array_z)  #\n",
    "\n",
    "# array_x @ array_z  # equivalent"
   ]
  },
  {
   "cell_type": "code",
   "execution_count": 27,
   "id": "bed55ab4",
   "metadata": {},
   "outputs": [
    {
     "data": {
      "text/plain": [
       "array([[2, 3, 4],\n",
       "       [3, 4, 5],\n",
       "       [4, 5, 6]])"
      ]
     },
     "execution_count": 27,
     "metadata": {},
     "output_type": "execute_result"
    }
   ],
   "source": [
    "array_z + array_w  # broadcasting"
   ]
  },
  {
   "cell_type": "markdown",
   "id": "4dddf067",
   "metadata": {},
   "source": [
    "**Reshape:**"
   ]
  },
  {
   "cell_type": "code",
   "execution_count": 28,
   "id": "d924c27d",
   "metadata": {},
   "outputs": [
    {
     "data": {
      "text/plain": [
       "array([[ 1,  2,  3,  4,  5,  6],\n",
       "       [ 7,  8,  9, 10, 11, 12]])"
      ]
     },
     "execution_count": 28,
     "metadata": {},
     "output_type": "execute_result"
    }
   ],
   "source": [
    "arr.reshape(6, 2)  # \n",
    "\n",
    "arr.reshape(2, -1)  # "
   ]
  },
  {
   "cell_type": "code",
   "execution_count": 29,
   "id": "78e65483",
   "metadata": {},
   "outputs": [
    {
     "data": {
      "text/plain": [
       "array([[[ 1,  2],\n",
       "        [ 3,  4],\n",
       "        [ 5,  6]],\n",
       "\n",
       "       [[ 7,  8],\n",
       "        [ 9, 10],\n",
       "        [11, 12]]])"
      ]
     },
     "execution_count": 29,
     "metadata": {},
     "output_type": "execute_result"
    }
   ],
   "source": [
    "arr.reshape(2, 3, 2)"
   ]
  },
  {
   "cell_type": "code",
   "execution_count": 30,
   "id": "a3b68f29",
   "metadata": {},
   "outputs": [
    {
     "data": {
      "text/plain": [
       "array([ 1,  2,  3,  4,  5,  6,  7,  8,  9, 10, 11, 12])"
      ]
     },
     "execution_count": 30,
     "metadata": {},
     "output_type": "execute_result"
    }
   ],
   "source": [
    "arr.flatten()"
   ]
  },
  {
   "cell_type": "markdown",
   "id": "3889fa2d",
   "metadata": {},
   "source": [
    "**Sort:**"
   ]
  },
  {
   "cell_type": "code",
   "execution_count": 31,
   "id": "f8abebfd",
   "metadata": {},
   "outputs": [
    {
     "data": {
      "text/plain": [
       "array([[ 1,  2,  3,  4,  5,  6],\n",
       "       [ 7,  8,  9, 10, 11, 12]])"
      ]
     },
     "execution_count": 31,
     "metadata": {},
     "output_type": "execute_result"
    }
   ],
   "source": [
    "np.sort(arr)"
   ]
  },
  {
   "cell_type": "markdown",
   "id": "00049ff7",
   "metadata": {},
   "source": [
    "**Join** and **Split**"
   ]
  },
  {
   "cell_type": "code",
   "execution_count": 32,
   "id": "00fc0061",
   "metadata": {},
   "outputs": [
    {
     "data": {
      "text/plain": [
       "array([[[1, 2],\n",
       "        [2, 1],\n",
       "        [3, 3]],\n",
       "\n",
       "       [[4, 6],\n",
       "        [5, 5],\n",
       "        [6, 4]]])"
      ]
     },
     "execution_count": 32,
     "metadata": {},
     "output_type": "execute_result"
    }
   ],
   "source": [
    "np.concatenate((array_x, array_y))\n",
    "np.concatenate((array_x, array_y), axis=1)\n",
    "\n",
    "np.stack((array_x, array_y))\n",
    "np.stack((array_x, array_y), axis=1)\n",
    "\n",
    "np.hstack((array_x, array_y))\n",
    "np.vstack((array_x, array_y))\n",
    "np.dstack((array_x, array_y))"
   ]
  },
  {
   "cell_type": "code",
   "execution_count": 33,
   "id": "1d707dd1",
   "metadata": {},
   "outputs": [
    {
     "ename": "ValueError",
     "evalue": "array split does not result in an equal division",
     "output_type": "error",
     "traceback": [
      "\u001b[1;31m---------------------------------------------------------------------------\u001b[0m",
      "\u001b[1;31mValueError\u001b[0m                                Traceback (most recent call last)",
      "Cell \u001b[1;32mIn[33], line 5\u001b[0m\n\u001b[0;32m      2\u001b[0m np\u001b[38;5;241m.\u001b[39marray_split(array_x, \u001b[38;5;241m3\u001b[39m, axis\u001b[38;5;241m=\u001b[39m\u001b[38;5;241m1\u001b[39m)\n\u001b[0;32m      4\u001b[0m np\u001b[38;5;241m.\u001b[39mhsplit(array_x, \u001b[38;5;241m3\u001b[39m)\n\u001b[1;32m----> 5\u001b[0m \u001b[43mnp\u001b[49m\u001b[38;5;241;43m.\u001b[39;49m\u001b[43mvsplit\u001b[49m\u001b[43m(\u001b[49m\u001b[43marray_x\u001b[49m\u001b[43m,\u001b[49m\u001b[43m \u001b[49m\u001b[38;5;241;43m3\u001b[39;49m\u001b[43m)\u001b[49m\n\u001b[0;32m      6\u001b[0m np\u001b[38;5;241m.\u001b[39mdsplit(array_x, \u001b[38;5;241m3\u001b[39m)\n",
      "File \u001b[1;32m<__array_function__ internals>:200\u001b[0m, in \u001b[0;36mvsplit\u001b[1;34m(*args, **kwargs)\u001b[0m\n",
      "File \u001b[1;32m~\\anaconda3\\lib\\site-packages\\numpy\\lib\\shape_base.py:997\u001b[0m, in \u001b[0;36mvsplit\u001b[1;34m(ary, indices_or_sections)\u001b[0m\n\u001b[0;32m    995\u001b[0m \u001b[38;5;28;01mif\u001b[39;00m _nx\u001b[38;5;241m.\u001b[39mndim(ary) \u001b[38;5;241m<\u001b[39m \u001b[38;5;241m2\u001b[39m:\n\u001b[0;32m    996\u001b[0m     \u001b[38;5;28;01mraise\u001b[39;00m \u001b[38;5;167;01mValueError\u001b[39;00m(\u001b[38;5;124m'\u001b[39m\u001b[38;5;124mvsplit only works on arrays of 2 or more dimensions\u001b[39m\u001b[38;5;124m'\u001b[39m)\n\u001b[1;32m--> 997\u001b[0m \u001b[38;5;28;01mreturn\u001b[39;00m \u001b[43msplit\u001b[49m\u001b[43m(\u001b[49m\u001b[43mary\u001b[49m\u001b[43m,\u001b[49m\u001b[43m \u001b[49m\u001b[43mindices_or_sections\u001b[49m\u001b[43m,\u001b[49m\u001b[43m \u001b[49m\u001b[38;5;241;43m0\u001b[39;49m\u001b[43m)\u001b[49m\n",
      "File \u001b[1;32m<__array_function__ internals>:200\u001b[0m, in \u001b[0;36msplit\u001b[1;34m(*args, **kwargs)\u001b[0m\n",
      "File \u001b[1;32m~\\anaconda3\\lib\\site-packages\\numpy\\lib\\shape_base.py:872\u001b[0m, in \u001b[0;36msplit\u001b[1;34m(ary, indices_or_sections, axis)\u001b[0m\n\u001b[0;32m    870\u001b[0m     N \u001b[38;5;241m=\u001b[39m ary\u001b[38;5;241m.\u001b[39mshape[axis]\n\u001b[0;32m    871\u001b[0m     \u001b[38;5;28;01mif\u001b[39;00m N \u001b[38;5;241m%\u001b[39m sections:\n\u001b[1;32m--> 872\u001b[0m         \u001b[38;5;28;01mraise\u001b[39;00m \u001b[38;5;167;01mValueError\u001b[39;00m(\n\u001b[0;32m    873\u001b[0m             \u001b[38;5;124m'\u001b[39m\u001b[38;5;124marray split does not result in an equal division\u001b[39m\u001b[38;5;124m'\u001b[39m) \u001b[38;5;28;01mfrom\u001b[39;00m \u001b[38;5;28;01mNone\u001b[39;00m\n\u001b[0;32m    874\u001b[0m \u001b[38;5;28;01mreturn\u001b[39;00m array_split(ary, indices_or_sections, axis)\n",
      "\u001b[1;31mValueError\u001b[0m: array split does not result in an equal division"
     ]
    }
   ],
   "source": [
    "np.array_split(array_x, 3)\n",
    "np.array_split(array_x, 3, axis=1)\n",
    "\n",
    "np.hsplit(array_x, 3)\n",
    "np.vsplit(array_x, 3)\n",
    "np.dsplit(array_x, 3)"
   ]
  },
  {
   "cell_type": "markdown",
   "id": "ea2c3cba",
   "metadata": {},
   "source": [
    "**Methods:**\n",
    "\n",
    "\n",
    "| Category   | Function | Description | \n",
    "| :------:   | :------: | :---------: |\n",
    "| Arithmetic  1 array -> 1 array | absolute      | |\n",
    "|            | exp              | |\n",
    "|            | log, log2, log10 | |\n",
    "| Arithmetic  2 array -> 1 array | add           | |\n",
    "|            | subtract       | |\n",
    "|            | multiply       | |\n",
    "|            | divide         | |\n",
    "|            | divmod         | |\n",
    "|            | power          | |\n",
    "|            | mod, remainder | |\n",
    "| Arithmetic  1+ array -> 1 number | sum | |\n",
    "|            | prod           | |\n",
    "|            | cumsum         | |\n",
    "|            | cumprod        | |\n",
    "| Linear Algebra  1 array -> 1 array | linealg.det | |\n",
    "|            | linalg.eig     | |\n",
    "|            | linalg.inv     | |\n",
    "|            | linalg.matrix_rank | |\n",
    "|            | linalg.norm    | |\n",
    "|            | linalg.trace   | |\n",
    "|            | linalg.svd, linalg.qr, linalg.lu | |\n",
    "|            | transpose      | |\n",
    "| Linear Algebra 2 array -> 1 array | dot, matmul, vdot | |\n",
    "| Rounding  1 array -> 1 array | fix, trunc | |\n",
    "|            | around         | |\n",
    "|            | ceil           | |\n",
    "|            | floor          | |\n",
    "| Sets  2 array -> 1 array | unique | |\n",
    "|            | intersect1d    | |\n",
    "|            | setdiff1d      | |\n",
    "|            | union1d        | |\n",
    "| Statistics 1+ array -> 1 number | min, max    | |\n",
    "|            | mean           | |\n",
    "|            | median         | |\n",
    "|            | quantile       | |\n",
    "| Trigonometric  1 array -> 1 number | sin, cos, tan | |"
   ]
  }
 ],
 "metadata": {
  "jupytext": {
   "formats": "md:myst",
   "text_representation": {
    "extension": ".md",
    "format_name": "myst",
    "format_version": 0.13,
    "jupytext_version": "1.11.5"
   }
  },
  "kernelspec": {
   "display_name": "Python 3",
   "language": "python",
   "name": "python3"
  },
  "language_info": {
   "codemirror_mode": {
    "name": "ipython",
    "version": 3
   },
   "file_extension": ".py",
   "mimetype": "text/x-python",
   "name": "python",
   "nbconvert_exporter": "python",
   "pygments_lexer": "ipython3",
   "version": "3.10.11"
  },
  "source_map": [
   15,
   17,
   29,
   33,
   39,
   46,
   50,
   68,
   72,
   76,
   80,
   84,
   88,
   92,
   94,
   104,
   108,
   118,
   120,
   124,
   129,
   133,
   136,
   141,
   148,
   153,
   156,
   161,
   164,
   168,
   176,
   183,
   187,
   191,
   195,
   199,
   205,
   207,
   211,
   217,
   221,
   223,
   227,
   229,
   233,
   245,
   252
  ]
 },
 "nbformat": 4,
 "nbformat_minor": 5
}