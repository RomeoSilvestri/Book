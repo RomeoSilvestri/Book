{
 "cells": [
  {
   "cell_type": "markdown",
   "id": "a6155c40",
   "metadata": {},
   "source": [
    "# R\n",
    "\n",
    "**Output:**\n",
    "\n",
    "Print strings: *print*\\\n",
    "Print strings + variables: *paste*, *paste0*"
   ]
  },
  {
   "cell_type": "code",
   "execution_count": 1,
   "id": "e3c1b50d",
   "metadata": {},
   "outputs": [
    {
     "name": "stdout",
     "output_type": "stream",
     "text": [
      "[1] \"Hello World!\"\n"
     ]
    },
    {
     "name": "stdout",
     "output_type": "stream",
     "text": [
      "[1] \"Hello World! I'm the number: 1\"\n"
     ]
    },
    {
     "name": "stdout",
     "output_type": "stream",
     "text": [
      "[1] \"Hello World! I'm the number: 1\"\n"
     ]
    }
   ],
   "source": [
    "print('Hello World!')\n",
    "\n",
    "one=1\n",
    "print(paste(\"Hello World! I'm the number:\", one))    # print with space\n",
    "print(paste0(\"Hello World! I'm the number: \", one))  # print without space"
   ]
  },
  {
   "cell_type": "markdown",
   "id": "d13d945e",
   "metadata": {},
   "source": [
    "**Basic arithmetic operations:**\n",
    "\n",
    "\\+ addition, - subtraction, * multiplication, / division\\\n",
    "^ power, %% modulus, %/% integer division\\\n",
    "\n",
    "*Comparison*\n",
    "== equal, != not equal\\\n",
    "< less than, <= less than or equal to, > greater than, >= greater than or equal to\\\n",
    "\n",
    "*Logical*\n",
    "& and, | or, !() not\\\n",
    "&& , ||  lazy versions (the execution of an operation is aborted as soon as a condition is not met)\\\n",
    "\\\n",
    "*Identity*\\\n",
    "Identity operators are used to compare the objects, not if they are equal,\\\n",
    "but if they are actually the same object, with the same memory location\\\n",
    "is, is not\\\n",
    "\\\n",
    "*Membership*\\\n",
    "Membership operators are used to test if a sequence is presented in an object\\\n",
    "%in%"
   ]
  },
  {
   "cell_type": "code",
   "execution_count": 2,
   "id": "0ed07936",
   "metadata": {},
   "outputs": [
    {
     "data": {
      "text/html": [
       "7"
      ],
      "text/latex": [
       "7"
      ],
      "text/markdown": [
       "7"
      ],
      "text/plain": [
       "[1] 7"
      ]
     },
     "metadata": {},
     "output_type": "display_data"
    },
    {
     "data": {
      "text/html": [
       "3"
      ],
      "text/latex": [
       "3"
      ],
      "text/markdown": [
       "3"
      ],
      "text/plain": [
       "[1] 3"
      ]
     },
     "metadata": {},
     "output_type": "display_data"
    },
    {
     "data": {
      "text/html": [
       "10"
      ],
      "text/latex": [
       "10"
      ],
      "text/markdown": [
       "10"
      ],
      "text/plain": [
       "[1] 10"
      ]
     },
     "metadata": {},
     "output_type": "display_data"
    },
    {
     "data": {
      "text/html": [
       "2.5"
      ],
      "text/latex": [
       "2.5"
      ],
      "text/markdown": [
       "2.5"
      ],
      "text/plain": [
       "[1] 2.5"
      ]
     },
     "metadata": {},
     "output_type": "display_data"
    },
    {
     "data": {
      "text/html": [
       "25"
      ],
      "text/latex": [
       "25"
      ],
      "text/markdown": [
       "25"
      ],
      "text/plain": [
       "[1] 25"
      ]
     },
     "metadata": {},
     "output_type": "display_data"
    },
    {
     "data": {
      "text/html": [
       "1"
      ],
      "text/latex": [
       "1"
      ],
      "text/markdown": [
       "1"
      ],
      "text/plain": [
       "[1] 1"
      ]
     },
     "metadata": {},
     "output_type": "display_data"
    },
    {
     "data": {
      "text/html": [
       "2"
      ],
      "text/latex": [
       "2"
      ],
      "text/markdown": [
       "2"
      ],
      "text/plain": [
       "[1] 2"
      ]
     },
     "metadata": {},
     "output_type": "display_data"
    },
    {
     "data": {
      "text/html": [
       "FALSE"
      ],
      "text/latex": [
       "FALSE"
      ],
      "text/markdown": [
       "FALSE"
      ],
      "text/plain": [
       "[1] FALSE"
      ]
     },
     "metadata": {},
     "output_type": "display_data"
    },
    {
     "data": {
      "text/html": [
       "TRUE"
      ],
      "text/latex": [
       "TRUE"
      ],
      "text/markdown": [
       "TRUE"
      ],
      "text/plain": [
       "[1] TRUE"
      ]
     },
     "metadata": {},
     "output_type": "display_data"
    },
    {
     "data": {
      "text/html": [
       "TRUE"
      ],
      "text/latex": [
       "TRUE"
      ],
      "text/markdown": [
       "TRUE"
      ],
      "text/plain": [
       "[1] TRUE"
      ]
     },
     "metadata": {},
     "output_type": "display_data"
    },
    {
     "data": {
      "text/html": [
       "TRUE"
      ],
      "text/latex": [
       "TRUE"
      ],
      "text/markdown": [
       "TRUE"
      ],
      "text/plain": [
       "[1] TRUE"
      ]
     },
     "metadata": {},
     "output_type": "display_data"
    },
    {
     "data": {
      "text/html": [
       "FALSE"
      ],
      "text/latex": [
       "FALSE"
      ],
      "text/markdown": [
       "FALSE"
      ],
      "text/plain": [
       "[1] FALSE"
      ]
     },
     "metadata": {},
     "output_type": "display_data"
    }
   ],
   "source": [
    "5 + 2    # -> 7\n",
    "5 - 2    # -> 3\n",
    "5 * 2    # -> 10\n",
    "5 / 2    # -> 2.5\n",
    "5 ^ 2    # -> 25\n",
    "5 %% 2   # -> 1\n",
    "5 %/% 2  # -> 2\n",
    "\n",
    "5 == 2  # -> False  comparison\n",
    "5 != 2  # -> True\n",
    "\n",
    "5 > 2 & 5 < 10     # -> True  logical\n",
    "5 > 10 | 5 < 10    # -> True\n",
    "!(5 > 2 & 5 < 10)  # -> False"
   ]
  },
  {
   "cell_type": "markdown",
   "id": "b5eaeca1",
   "metadata": {},
   "source": [
    "**Basic arithmetic functions:**\\\n",
    "Exponential and Logarithm: exp(), log()\\\n",
    "Trigonometric functions: sin(), cos(), tan(), asin(), acos(), atan()\\\n",
    "Other mathematical functions: abs(), sqrt()"
   ]
  },
  {
   "cell_type": "code",
   "execution_count": 3,
   "id": "133a83c8",
   "metadata": {},
   "outputs": [
    {
     "data": {
      "text/html": [
       "148.413159102577"
      ],
      "text/latex": [
       "148.413159102577"
      ],
      "text/markdown": [
       "148.413159102577"
      ],
      "text/plain": [
       "[1] 148.4132"
      ]
     },
     "metadata": {},
     "output_type": "display_data"
    },
    {
     "data": {
      "text/html": [
       "1.6094379124341"
      ],
      "text/latex": [
       "1.6094379124341"
      ],
      "text/markdown": [
       "1.6094379124341"
      ],
      "text/plain": [
       "[1] 1.609438"
      ]
     },
     "metadata": {},
     "output_type": "display_data"
    },
    {
     "data": {
      "text/html": [
       "2.32192809488736"
      ],
      "text/latex": [
       "2.32192809488736"
      ],
      "text/markdown": [
       "2.32192809488736"
      ],
      "text/plain": [
       "[1] 2.321928"
      ]
     },
     "metadata": {},
     "output_type": "display_data"
    },
    {
     "data": {
      "text/html": [
       "0.479425538604203"
      ],
      "text/latex": [
       "0.479425538604203"
      ],
      "text/markdown": [
       "0.479425538604203"
      ],
      "text/plain": [
       "[1] 0.4794255"
      ]
     },
     "metadata": {},
     "output_type": "display_data"
    },
    {
     "data": {
      "text/html": [
       "5"
      ],
      "text/latex": [
       "5"
      ],
      "text/markdown": [
       "5"
      ],
      "text/plain": [
       "[1] 5"
      ]
     },
     "metadata": {},
     "output_type": "display_data"
    }
   ],
   "source": [
    "exp(5)    # -> 148.413\n",
    "log(5)    # -> 1.609  natural logarithm\n",
    "log(5,2)  # -> 2.322  logarithm in base 2\n",
    "sin(0.5)  # -> 0.479\n",
    "abs(-5)   # -> 5"
   ]
  },
  {
   "cell_type": "markdown",
   "id": "7b70537a",
   "metadata": {},
   "source": [
    "\\\n",
    "**Variables:**\\\n",
    "\\\n",
    "*Data Types*\\\n",
    "Numeric Types: *integer*, *numeric*, *complex*\\\n",
    "Text Type: *character*\\\n",
    "Boolean Type:\t*logical*\\\n",
    "Binary Types:\t*raw*"
   ]
  },
  {
   "cell_type": "code",
   "execution_count": 4,
   "id": "94515584",
   "metadata": {},
   "outputs": [
    {
     "data": {
      "text/html": [
       "'double'"
      ],
      "text/latex": [
       "'double'"
      ],
      "text/markdown": [
       "'double'"
      ],
      "text/plain": [
       "[1] \"double\""
      ]
     },
     "metadata": {},
     "output_type": "display_data"
    },
    {
     "data": {
      "text/html": [
       "'numeric'"
      ],
      "text/latex": [
       "'numeric'"
      ],
      "text/markdown": [
       "'numeric'"
      ],
      "text/plain": [
       "[1] \"numeric\""
      ]
     },
     "metadata": {},
     "output_type": "display_data"
    },
    {
     "data": {
      "text/html": [
       "'numeric'"
      ],
      "text/latex": [
       "'numeric'"
      ],
      "text/markdown": [
       "'numeric'"
      ],
      "text/plain": [
       "[1] \"numeric\""
      ]
     },
     "metadata": {},
     "output_type": "display_data"
    }
   ],
   "source": [
    "# Assignment\n",
    "\n",
    "x = 5\n",
    "y = 'John'\n",
    "a = b = c = 'apple'  # multiple assignment\n",
    "\n",
    "\n",
    "# Casting\n",
    "\n",
    "d = as.integer(5.8)  # -> 5\n",
    "d = as.integer('5')  # -> 5\n",
    "d = as.numeric(5)    # -> 5.0\n",
    "d = as.character(5)  # -> '5'\n",
    "\n",
    "\n",
    "# Get Type\n",
    "\n",
    "typeof(x)  # basic type of the object\n",
    "class(x)   # class of the object, which may be a base class or a user-defined class\n",
    "mode(x)    # mode of the object, which indicates how the data is stored in memory"
   ]
  }
 ],
 "metadata": {
  "jupytext": {
   "formats": "md:myst",
   "text_representation": {
    "extension": ".md",
    "format_name": "myst",
    "format_version": 0.13,
    "jupytext_version": "1.11.5"
   }
  },
  "kernelspec": {
   "display_name": "R",
   "language": "R",
   "name": "ir"
  },
  "language_info": {
   "codemirror_mode": "r",
   "file_extension": ".r",
   "mimetype": "text/x-r-source",
   "name": "R",
   "pygments_lexer": "r",
   "version": "3.6.1"
  },
  "source_map": [
   13,
   23,
   29,
   52,
   67,
   73,
   79,
   89
  ]
 },
 "nbformat": 4,
 "nbformat_minor": 5
}