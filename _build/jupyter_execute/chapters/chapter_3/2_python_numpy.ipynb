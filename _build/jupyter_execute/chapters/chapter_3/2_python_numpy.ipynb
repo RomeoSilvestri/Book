{
 "cells": [
  {
   "cell_type": "markdown",
   "id": "23cbe384",
   "metadata": {},
   "source": [
    "# Numpy\n",
    "\n",
    "![](images/numpy.png)\n",
    "\n",
    "NumPy is a powerful Python library for numerical computation. It provides efficient multi-dimensional array operations, along with a wide range of mathematical functions. NumPy's compact syntax and high-performance capabilities make it essential for scientific and data-related tasks."
   ]
  },
  {
   "cell_type": "code",
   "execution_count": 1,
   "id": "9bfb7fdf",
   "metadata": {},
   "outputs": [],
   "source": [
    "import numpy as np"
   ]
  },
  {
   "cell_type": "markdown",
   "id": "07e50337",
   "metadata": {},
   "source": [
    "**Data Types**\n",
    "\n",
    "NumPy introduces specialized data types that are more memory-efficient and offer faster computations compared to the built-in Python data types. These NumPy data types are designed to handle large arrays efficiently, enabling vectorized operations and better numerical precision. In contrast, the standard Python data types are more general-purpose but may not perform as efficiently when dealing with large-scale numerical computations.\n",
    "\n",
    "| Category | Type                      |\n",
    "| :------: | :--:                      |\n",
    "| Boolean  | `bool` |\n",
    "| Complex  | `complex64`, `complex128`, `complex256` |\n",
    "| Float    | `float16`, `float32`, `float64`, `float128` |\n",
    "| Integer  | `int8`, `int16`, `int32`, `int64`, `uint8`, `uint16`, `uint32`, `uint64`   |\n",
    "| Object   | `object` |\n",
    "| String   | `str`, `unicode` |\n",
    "\n",
    "\n",
    "## Creation"
   ]
  },
  {
   "cell_type": "code",
   "execution_count": 2,
   "id": "decdc177",
   "metadata": {},
   "outputs": [
    {
     "data": {
      "text/plain": [
       "array([1, 2, 3, 4, 5])"
      ]
     },
     "execution_count": 2,
     "metadata": {},
     "output_type": "execute_result"
    }
   ],
   "source": [
    "my_array = np.array([1, 2, 3, 4, 5])  # simple array creation\n",
    "my_array"
   ]
  },
  {
   "cell_type": "code",
   "execution_count": 3,
   "id": "a657fcec",
   "metadata": {},
   "outputs": [
    {
     "name": "stdout",
     "output_type": "stream",
     "text": [
      "<class 'numpy.ndarray'>\n"
     ]
    }
   ],
   "source": [
    "print(type(my_array))"
   ]
  },
  {
   "cell_type": "markdown",
   "id": "7456e98a",
   "metadata": {},
   "source": [
    "`ndim`: returns the number of dimensions of an array\\\n",
    "`shape`: returns the number of elements in each dimension (like calling *len* on each dimension)\\\n",
    "`size`: returns the total number of elements in an array (i.e., the product of *shape*)"
   ]
  },
  {
   "cell_type": "code",
   "execution_count": 4,
   "id": "53bb0a9f",
   "metadata": {},
   "outputs": [],
   "source": [
    "array_0d = np.array(1)                                                \n",
    "array_1d = np.array([1, 2, 3, 4, 5, 6])\n",
    "array_2d = np.array([[1, 2, 3], [4, 5, 6]])\n",
    "array_3d = np.array([[[1, 2, 3], [4, 5, 6]], [[3, 2, 1], [6, 5, 4]]])"
   ]
  },
  {
   "cell_type": "code",
   "execution_count": 5,
   "id": "3547bc89",
   "metadata": {},
   "outputs": [
    {
     "data": {
      "text/plain": [
       "array([[1, 2],\n",
       "       [3, 4],\n",
       "       [5, 6]])"
      ]
     },
     "execution_count": 5,
     "metadata": {},
     "output_type": "execute_result"
    }
   ],
   "source": [
    "list_2d = [[1, 2], [3, 4], [5, 6]]  # creation from list\n",
    "array_2d = np.array(list_2d)\n",
    "array_2d"
   ]
  },
  {
   "cell_type": "code",
   "execution_count": 6,
   "id": "e6b2b903",
   "metadata": {},
   "outputs": [
    {
     "name": "stdout",
     "output_type": "stream",
     "text": [
      "2\n",
      "(3, 2)\n",
      "6\n"
     ]
    }
   ],
   "source": [
    "print(np.ndim(array_2d))\n",
    "print(np.shape(array_2d))\n",
    "print(np.size(array_2d))"
   ]
  },
  {
   "cell_type": "markdown",
   "id": "e0f9341a",
   "metadata": {},
   "source": [
    "**Functions**\n",
    "\n",
    "| Function      | Paramethers | Description | \n",
    "| :------:      | :---------: | :---------: |\n",
    "| `arange`      | start, stop, step*, dtype*=None ... | Returns evenly spaced values within a given interval |\n",
    "| `diag`        | v, k*=0 | Returns a diagonal 2d-array extracting the values in the array |\n",
    "| `empty`       | shape, dtype*=float ... | Returns a new empty array of given shape and type |\n",
    "| `eye`         | N, M*=None, k*=0, dtype*=float ... | Returns a new identity 2d-array of given number of row (and columns) and type |\n",
    "| `full`        | shape, fill_value, dtype*=None ... | Returns a new array of given shape and type, filled with a specific value |\n",
    "| `identity`    | n, dtype*=None ... | Returns a new identity quadratic 2d-array of given number of row and columns |\n",
    "| `linspace`    | start, stop, num*=50, dtype*=None ... | Returns evenly spaced numbers over a specified interval |\n",
    "| `ones`        | shape, dtype*=None ... | Returns a new array of given shape and type, filled with ones |\n",
    "| `random.choice` | a, size*=None, replace*=True, p*=None | Generates random values from a given 1d-array in a given shape with specific probabilities |\n",
    "| `random.rand` | d0, d1, ..., dN | Generates random values between 0 and 1 in a given shape |\n",
    "| `random.randint` | low, high*=None, size*=None, dtype*=None | Generates random integer values between *start* and *end* in a given shape |\n",
    "| `zeros`       | shape, dtype*=float ... | Returns a new array of given shape and type, filled with zeros |\n",
    "\n",
    "***Examples***"
   ]
  },
  {
   "cell_type": "code",
   "execution_count": 7,
   "id": "d2937860",
   "metadata": {},
   "outputs": [
    {
     "data": {
      "text/plain": [
       "array([1, 2, 3, 4])"
      ]
     },
     "execution_count": 7,
     "metadata": {},
     "output_type": "execute_result"
    }
   ],
   "source": [
    "np.arange(1, 5)"
   ]
  },
  {
   "cell_type": "code",
   "execution_count": 8,
   "id": "4165c2a8",
   "metadata": {},
   "outputs": [
    {
     "data": {
      "text/plain": [
       "array([ 0,  2,  4,  6,  8, 10])"
      ]
     },
     "execution_count": 8,
     "metadata": {},
     "output_type": "execute_result"
    }
   ],
   "source": [
    "np.arange(0, 11, 2)"
   ]
  },
  {
   "cell_type": "code",
   "execution_count": 9,
   "id": "ae2ccfb1",
   "metadata": {},
   "outputs": [
    {
     "data": {
      "text/plain": [
       "array([[1, 0, 0],\n",
       "       [0, 2, 0],\n",
       "       [0, 0, 3]])"
      ]
     },
     "execution_count": 9,
     "metadata": {},
     "output_type": "execute_result"
    }
   ],
   "source": [
    "np.diag([1, 2, 3])"
   ]
  },
  {
   "cell_type": "code",
   "execution_count": 10,
   "id": "8af36098",
   "metadata": {},
   "outputs": [
    {
     "data": {
      "text/plain": [
       "array([[1.00495342e-311, 3.16202013e-322, 0.00000000e+000,\n",
       "        0.00000000e+000],\n",
       "       [1.78019082e-306, 7.49693855e-067, 2.03916465e+184,\n",
       "        8.61167287e-043],\n",
       "       [2.57120419e+184, 5.68709652e-062, 4.74778581e+174,\n",
       "        1.61872971e-051]])"
      ]
     },
     "execution_count": 10,
     "metadata": {},
     "output_type": "execute_result"
    }
   ],
   "source": [
    "np.empty((3, 4))"
   ]
  },
  {
   "cell_type": "code",
   "execution_count": 11,
   "id": "2f456ff5",
   "metadata": {},
   "outputs": [
    {
     "data": {
      "text/plain": [
       "array([[1., 0., 0., 0.],\n",
       "       [0., 1., 0., 0.],\n",
       "       [0., 0., 1., 0.]])"
      ]
     },
     "execution_count": 11,
     "metadata": {},
     "output_type": "execute_result"
    }
   ],
   "source": [
    "np.eye(3, 4)"
   ]
  },
  {
   "cell_type": "code",
   "execution_count": 12,
   "id": "a3c328e6",
   "metadata": {},
   "outputs": [
    {
     "data": {
      "text/plain": [
       "array([[3.14, 3.14, 3.14, 3.14],\n",
       "       [3.14, 3.14, 3.14, 3.14],\n",
       "       [3.14, 3.14, 3.14, 3.14]])"
      ]
     },
     "execution_count": 12,
     "metadata": {},
     "output_type": "execute_result"
    }
   ],
   "source": [
    "np.full((3, 4), 3.14)"
   ]
  },
  {
   "cell_type": "code",
   "execution_count": 13,
   "id": "159dcd3c",
   "metadata": {},
   "outputs": [
    {
     "data": {
      "text/plain": [
       "array([[1., 0., 0.],\n",
       "       [0., 1., 0.],\n",
       "       [0., 0., 1.]])"
      ]
     },
     "execution_count": 13,
     "metadata": {},
     "output_type": "execute_result"
    }
   ],
   "source": [
    "np.identity(3)"
   ]
  },
  {
   "cell_type": "code",
   "execution_count": 14,
   "id": "a1e04579",
   "metadata": {},
   "outputs": [
    {
     "data": {
      "text/plain": [
       "array([ 0. ,  2.5,  5. ,  7.5, 10. ])"
      ]
     },
     "execution_count": 14,
     "metadata": {},
     "output_type": "execute_result"
    }
   ],
   "source": [
    "np.linspace(0, 10, 5)"
   ]
  },
  {
   "cell_type": "code",
   "execution_count": 15,
   "id": "88882ed7",
   "metadata": {},
   "outputs": [
    {
     "data": {
      "text/plain": [
       "array([[1., 1., 1., 1.],\n",
       "       [1., 1., 1., 1.],\n",
       "       [1., 1., 1., 1.]])"
      ]
     },
     "execution_count": 15,
     "metadata": {},
     "output_type": "execute_result"
    }
   ],
   "source": [
    "np.ones((3, 4))"
   ]
  },
  {
   "cell_type": "code",
   "execution_count": 16,
   "id": "85953a82",
   "metadata": {},
   "outputs": [
    {
     "data": {
      "text/plain": [
       "array([[2, 3, 5, 2],\n",
       "       [4, 2, 2, 5],\n",
       "       [4, 4, 3, 2]])"
      ]
     },
     "execution_count": 16,
     "metadata": {},
     "output_type": "execute_result"
    }
   ],
   "source": [
    "np.random.choice([1, 2, 3, 4, 5], (3, 4))"
   ]
  },
  {
   "cell_type": "code",
   "execution_count": 17,
   "id": "96b69e2d",
   "metadata": {},
   "outputs": [
    {
     "data": {
      "text/plain": [
       "array([[0.86815169, 0.19590931, 0.69263452, 0.28635748],\n",
       "       [0.2506415 , 0.76924008, 0.05125605, 0.13768645],\n",
       "       [0.17261099, 0.98847502, 0.28581617, 0.26194419]])"
      ]
     },
     "execution_count": 17,
     "metadata": {},
     "output_type": "execute_result"
    }
   ],
   "source": [
    "np.random.rand(3, 4)"
   ]
  },
  {
   "cell_type": "code",
   "execution_count": 18,
   "id": "f93c0848",
   "metadata": {},
   "outputs": [
    {
     "data": {
      "text/plain": [
       "array([[44, 20, 37, 39],\n",
       "       [29, -7, 35, -7],\n",
       "       [47, 42, 21, 22]])"
      ]
     },
     "execution_count": 18,
     "metadata": {},
     "output_type": "execute_result"
    }
   ],
   "source": [
    "np.random.randint(-10, 50, (3, 4))"
   ]
  },
  {
   "cell_type": "code",
   "execution_count": 19,
   "id": "faff4c4d",
   "metadata": {},
   "outputs": [
    {
     "data": {
      "text/plain": [
       "array([[0., 0., 0., 0.],\n",
       "       [0., 0., 0., 0.],\n",
       "       [0., 0., 0., 0.]])"
      ]
     },
     "execution_count": 19,
     "metadata": {},
     "output_type": "execute_result"
    }
   ],
   "source": [
    "np.zeros((3, 4))"
   ]
  },
  {
   "cell_type": "markdown",
   "id": "318c1691",
   "metadata": {},
   "source": [
    "## Access\n",
    "\n",
    "Array **indexing** is the same as accessing an array element.\\\n",
    "You can access an array element by referring to its index number.\\\n",
    "As usual, the indexes in NumPy arrays start with 0, meaning that the first element has index 0, and the second has index 1 etc."
   ]
  },
  {
   "cell_type": "code",
   "execution_count": 20,
   "id": "13a05150",
   "metadata": {},
   "outputs": [
    {
     "name": "stdout",
     "output_type": "stream",
     "text": [
      "1st row and 2nd column:  2\n"
     ]
    }
   ],
   "source": [
    "arr = np.array([[1,2,3,4], [5,6,7,8]])\n",
    "\n",
    "print('1st row and 2nd column: ', arr[0, 1])"
   ]
  },
  {
   "cell_type": "markdown",
   "id": "081eb257",
   "metadata": {},
   "source": [
    "Array **slicing** in python means taking elements from one given index to another given index.\\\n",
    "We pass slice instead of index like this: *[start:end]*.\\\n",
    "We can also define a step, like this: *[start:end:step]*.\n",
    "\n",
    "If we don't pass start its considered 0.\\\n",
    "If we don't pass end its considered length of array in that dimension.\\\n",
    "If we don't pass step its considered 1."
   ]
  },
  {
   "cell_type": "code",
   "execution_count": 21,
   "id": "4a75bba3",
   "metadata": {},
   "outputs": [
    {
     "name": "stdout",
     "output_type": "stream",
     "text": [
      "From the 2nd row, slice elements from column 1 to 4 (not included):  [6 7 8]\n"
     ]
    }
   ],
   "source": [
    "print('From the 2nd row, slice elements from column 1 to 4 (not included): ', arr[1, 1:4])"
   ]
  },
  {
   "cell_type": "markdown",
   "id": "3e0a22ba",
   "metadata": {},
   "source": [
    "Array **iterating** means going through elements one by one. You can iterate through the elements of an array using the for loop."
   ]
  },
  {
   "cell_type": "code",
   "execution_count": 22,
   "id": "6d2e154a",
   "metadata": {},
   "outputs": [
    {
     "name": "stdout",
     "output_type": "stream",
     "text": [
      "[1 2 3 4]\n",
      "[5 6 7 8]\n"
     ]
    }
   ],
   "source": [
    "for x in arr:  # iterate through all the rows\n",
    "  print(x)"
   ]
  },
  {
   "cell_type": "code",
   "execution_count": 23,
   "id": "28dcc59c",
   "metadata": {},
   "outputs": [
    {
     "name": "stdout",
     "output_type": "stream",
     "text": [
      "1\n",
      "2\n",
      "3\n",
      "4\n",
      "5\n",
      "6\n",
      "7\n",
      "8\n"
     ]
    }
   ],
   "source": [
    "for x in arr:  # 1) iterate through all the elements\n",
    "  for y in x:\n",
    "    print(y)"
   ]
  },
  {
   "cell_type": "markdown",
   "id": "9704a07e",
   "metadata": {},
   "source": [
    "To iterate through the elements of an array, the `nditer`(op, flags*=None, op_dtypes*=None ...) function or the `ndenumerate`(arr) function can be used:"
   ]
  },
  {
   "cell_type": "code",
   "execution_count": 24,
   "id": "a6c9ee53",
   "metadata": {},
   "outputs": [
    {
     "name": "stdout",
     "output_type": "stream",
     "text": [
      "1\n",
      "2\n",
      "3\n",
      "4\n",
      "5\n",
      "6\n",
      "7\n",
      "8\n"
     ]
    }
   ],
   "source": [
    "for x in np.nditer(arr):  # 2) iterate through all the elements\n",
    "  print(x)"
   ]
  },
  {
   "cell_type": "code",
   "execution_count": 25,
   "id": "b9b1d07a",
   "metadata": {},
   "outputs": [
    {
     "name": "stdout",
     "output_type": "stream",
     "text": [
      "1\n",
      "3\n",
      "5\n",
      "7\n"
     ]
    }
   ],
   "source": [
    "# 3) iterate through all the elements skipping 1 element at a time\n",
    "\n",
    "for x in np.nditer(arr[:, ::2]):\n",
    "  print(x)"
   ]
  },
  {
   "cell_type": "code",
   "execution_count": 26,
   "id": "4d870a31",
   "metadata": {},
   "outputs": [
    {
     "name": "stdout",
     "output_type": "stream",
     "text": [
      "b'1'\n",
      "b'2'\n",
      "b'3'\n",
      "b'4'\n",
      "b'5'\n",
      "b'6'\n",
      "b'7'\n",
      "b'8'\n"
     ]
    }
   ],
   "source": [
    "# 4) iterate through all the elements changing the data type in-place\n",
    "\n",
    "for x in np.nditer(arr, flags=['buffered'], op_dtypes=['S']):\n",
    "  print(x)"
   ]
  },
  {
   "cell_type": "code",
   "execution_count": 27,
   "id": "5aa7bdae",
   "metadata": {},
   "outputs": [
    {
     "name": "stdout",
     "output_type": "stream",
     "text": [
      "(0, 0) 1\n",
      "(0, 1) 2\n",
      "(0, 2) 3\n",
      "(0, 3) 4\n",
      "(1, 0) 5\n",
      "(1, 1) 6\n",
      "(1, 2) 7\n",
      "(1, 3) 8\n"
     ]
    }
   ],
   "source": [
    "# 5) iterate through all the elements printing the indexes\n",
    "\n",
    "for idx, x in np.ndenumerate(arr):\n",
    "  print(idx, x)"
   ]
  },
  {
   "cell_type": "markdown",
   "id": "7d2ceafe",
   "metadata": {},
   "source": [
    "Array **filtering** refers to the operation of extracting elements from an array that meet a particular condition, creating a new array that contains only those selected elements."
   ]
  },
  {
   "cell_type": "code",
   "execution_count": 28,
   "id": "71319b79",
   "metadata": {},
   "outputs": [
    {
     "name": "stdout",
     "output_type": "stream",
     "text": [
      "[2 4 6 8]\n"
     ]
    }
   ],
   "source": [
    "print(arr[arr % 2 == 0])"
   ]
  },
  {
   "cell_type": "markdown",
   "id": "6a21790c",
   "metadata": {},
   "source": [
    "Array **searching** refers to the process of finding specific elements or their indices within an array based on a given condition or value. To search for element indexes, the `where`(condition) function can be used:"
   ]
  },
  {
   "cell_type": "code",
   "execution_count": 29,
   "id": "23905ed1",
   "metadata": {},
   "outputs": [
    {
     "name": "stdout",
     "output_type": "stream",
     "text": [
      "[[False  True False  True]\n",
      " [False  True False  True]]\n",
      "(array([0, 0, 1, 1], dtype=int64), array([1, 3, 1, 3], dtype=int64))\n"
     ]
    }
   ],
   "source": [
    "print(arr % 2 == 0)\n",
    "print(np.where(arr % 2 == 0))"
   ]
  },
  {
   "cell_type": "markdown",
   "id": "969ff6a6",
   "metadata": {},
   "source": [
    "## Operations\n",
    "\n",
    "**Elementwise**\n",
    "\n",
    "Elementwise operations involve performing mathematical operations independently on each element of a set. They enable efficient processing of large datasets and are commonly used in programming and mathematical computations."
   ]
  },
  {
   "cell_type": "code",
   "execution_count": 30,
   "id": "3a1edf66",
   "metadata": {},
   "outputs": [],
   "source": [
    "array_x = np.array([[1,2,3], [4,5,6]])     # 2x3\n",
    "array_y = np.array([[12,11,10], [9,8,7]])  # 2x3\n",
    "array_z = np.array([[1], [2], [3]])        # 3x1\n",
    "array_w = np.array([[1, 2, 3]])            # 1x3"
   ]
  },
  {
   "cell_type": "code",
   "execution_count": 31,
   "id": "00a84209",
   "metadata": {},
   "outputs": [
    {
     "data": {
      "text/plain": [
       "array([[2, 3, 4],\n",
       "       [5, 6, 7]])"
      ]
     },
     "execution_count": 31,
     "metadata": {},
     "output_type": "execute_result"
    }
   ],
   "source": [
    "array_x + 1  # operation between array and scalar"
   ]
  },
  {
   "cell_type": "code",
   "execution_count": 32,
   "id": "3d521bb2",
   "metadata": {},
   "outputs": [
    {
     "data": {
      "text/plain": [
       "array([[13, 13, 13],\n",
       "       [13, 13, 13]])"
      ]
     },
     "execution_count": 32,
     "metadata": {},
     "output_type": "execute_result"
    }
   ],
   "source": [
    "array_x + array_y  # operation between two arrays"
   ]
  },
  {
   "cell_type": "code",
   "execution_count": 33,
   "id": "58225f33",
   "metadata": {},
   "outputs": [
    {
     "data": {
      "text/plain": [
       "array([[False, False, False],\n",
       "       [False, False, False]])"
      ]
     },
     "execution_count": 33,
     "metadata": {},
     "output_type": "execute_result"
    }
   ],
   "source": [
    "array_x == array_y  # compares the elements of two arrays by returning an array                     # of Boolean values indicating which elements are equal"
   ]
  },
  {
   "cell_type": "code",
   "execution_count": 34,
   "id": "26a9554a",
   "metadata": {},
   "outputs": [
    {
     "data": {
      "text/plain": [
       "True"
      ]
     },
     "execution_count": 34,
     "metadata": {},
     "output_type": "execute_result"
    }
   ],
   "source": [
    "np.array_equal(x, y)  # checks whether two arrays are identical"
   ]
  },
  {
   "cell_type": "code",
   "execution_count": 35,
   "id": "aa1d7eaa",
   "metadata": {},
   "outputs": [
    {
     "data": {
      "text/plain": [
       "array([[14],\n",
       "       [32]])"
      ]
     },
     "execution_count": 35,
     "metadata": {},
     "output_type": "execute_result"
    }
   ],
   "source": [
    "np.dot(array_x, array_z)  # scalar product between arrays\n",
    "\n",
    "# array_x @ array_z  # equivalent"
   ]
  },
  {
   "cell_type": "code",
   "execution_count": 36,
   "id": "143fa68f",
   "metadata": {},
   "outputs": [
    {
     "data": {
      "text/plain": [
       "array([[2, 3, 4],\n",
       "       [3, 4, 5],\n",
       "       [4, 5, 6]])"
      ]
     },
     "execution_count": 36,
     "metadata": {},
     "output_type": "execute_result"
    }
   ],
   "source": [
    "array_z + array_w  # broadcasting"
   ]
  },
  {
   "cell_type": "markdown",
   "id": "75dac993",
   "metadata": {},
   "source": [
    "**Reshape**\n",
    "\n",
    "The `reshape` function in NumPy allows for changing the shape or dimensions of an array without altering its data. It enables reorganizing the elements of an array into a different shape while ensuring that the total number of elements remains the same. The reshape function does not change the array in place."
   ]
  },
  {
   "cell_type": "code",
   "execution_count": 37,
   "id": "678f3b8b",
   "metadata": {},
   "outputs": [
    {
     "data": {
      "text/plain": [
       "array([[[1, 2],\n",
       "        [3, 4]],\n",
       "\n",
       "       [[5, 6],\n",
       "        [7, 8]]])"
      ]
     },
     "execution_count": 37,
     "metadata": {},
     "output_type": "execute_result"
    }
   ],
   "source": [
    "arr.reshape(4, 2)  # changes the shape\n",
    "\n",
    "arr.reshape(2, -1)  # changes the shape by recognizing missing dimensions\n",
    "\n",
    "arr.reshape(2, 2, 2)  # changes shape and dimensions"
   ]
  },
  {
   "cell_type": "markdown",
   "id": "c8698ed2",
   "metadata": {},
   "source": [
    "The `resize` function in NumPy allows modifying the shape of an array, either by adding or removing elements, to fit the specified dimensions. It can resize the array inplace, altering its data, and can also introduce or discard elements based on the new shape."
   ]
  },
  {
   "cell_type": "code",
   "execution_count": 38,
   "id": "e09d40e3",
   "metadata": {},
   "outputs": [],
   "source": [
    "arr.resize(4, 2)  # changes the shape in place"
   ]
  },
  {
   "cell_type": "markdown",
   "id": "cd05c3df",
   "metadata": {},
   "source": [
    "The `flatten` function in NumPy converts a multi-dimensional array into a 1D array by concatenating all the elements in a row-major order. It creates a flat array, which is useful for simplifying the array structure and iterating over the elements sequentially. The flatten function does not change the array in place."
   ]
  },
  {
   "cell_type": "code",
   "execution_count": 39,
   "id": "59fb3952",
   "metadata": {},
   "outputs": [
    {
     "data": {
      "text/plain": [
       "array([1, 2, 3, 4, 5, 6, 7, 8])"
      ]
     },
     "execution_count": 39,
     "metadata": {},
     "output_type": "execute_result"
    }
   ],
   "source": [
    "arr.flatten()"
   ]
  },
  {
   "cell_type": "markdown",
   "id": "6b437b4c",
   "metadata": {},
   "source": [
    "**Sort**\n",
    "\n",
    "The `sort` function in NumPy arranges the elements of an array in ascending order by default, or in descending order if specified. This enables efficient data analysis, searching, and retrieval of specific values within the array."
   ]
  },
  {
   "cell_type": "code",
   "execution_count": 40,
   "id": "27b55f8d",
   "metadata": {},
   "outputs": [
    {
     "data": {
      "text/plain": [
       "array([[1, 2],\n",
       "       [3, 4],\n",
       "       [5, 6],\n",
       "       [7, 8]])"
      ]
     },
     "execution_count": 40,
     "metadata": {},
     "output_type": "execute_result"
    }
   ],
   "source": [
    "np.sort(arr)"
   ]
  },
  {
   "cell_type": "markdown",
   "id": "18148d14",
   "metadata": {},
   "source": [
    "**Join** and **Split**\n",
    "\n",
    "Joining in NumPy usually refers to concatenating or combining arrays along a specified axis. Splitting, on the other hand, involves dividing an array into multiple smaller arrays along a specified axis.\n",
    "\n",
    "To do the join between two arrays there are basically two ways: chaining (`concatenate` function) joins two arrays without adding additional dimensions, while stacking (`stack` function) adds another dimension."
   ]
  },
  {
   "cell_type": "code",
   "execution_count": 41,
   "id": "f7ac149f",
   "metadata": {},
   "outputs": [
    {
     "name": "stdout",
     "output_type": "stream",
     "text": [
      "(2, 3) (2, 3)\n",
      "[[ 1  2  3]\n",
      " [ 4  5  6]\n",
      " [12 11 10]\n",
      " [ 9  8  7]]\n",
      "(4, 3)\n",
      "[[ 1  2  3 12 11 10]\n",
      " [ 4  5  6  9  8  7]]\n",
      "(2, 6)\n"
     ]
    }
   ],
   "source": [
    "print(np.shape(array_x), np.shape(array_y))\n",
    "\n",
    "array_c1 = np.concatenate((array_x, array_y))           # concatenates along columns\n",
    "print(array_c1)\n",
    "print(np.shape(array_c1))\n",
    "\n",
    "array_c2 = np.concatenate((array_x, array_y), axis=1)   # concatenates along rows\n",
    "print(array_c2)\n",
    "print(np.shape(array_c2))"
   ]
  },
  {
   "cell_type": "code",
   "execution_count": 42,
   "id": "ba61ea2b",
   "metadata": {},
   "outputs": [
    {
     "name": "stdout",
     "output_type": "stream",
     "text": [
      "[[[ 1  2  3]\n",
      "  [ 4  5  6]]\n",
      "\n",
      " [[12 11 10]\n",
      "  [ 9  8  7]]]\n",
      "(2, 2, 3)\n",
      "[[[ 1  2  3]\n",
      "  [12 11 10]]\n",
      "\n",
      " [[ 4  5  6]\n",
      "  [ 9  8  7]]]\n",
      "(2, 2, 3)\n"
     ]
    }
   ],
   "source": [
    "array_s1 = np.stack((array_x, array_y))           # stacks two arrays along columns\n",
    "print(array_s1)\n",
    "print(np.shape(array_s1))\n",
    "\n",
    "array_s2 = np.stack((array_x, array_y), axis=1)   # stacks two arrays along rows\n",
    "print(array_s2)\n",
    "print(np.shape(array_s2))"
   ]
  },
  {
   "cell_type": "code",
   "execution_count": 43,
   "id": "b6f86866",
   "metadata": {},
   "outputs": [
    {
     "name": "stdout",
     "output_type": "stream",
     "text": [
      "[[ 1  2  3 12 11 10]\n",
      " [ 4  5  6  9  8  7]]\n",
      "(2, 6)\n",
      "[[ 1  2  3]\n",
      " [ 4  5  6]\n",
      " [12 11 10]\n",
      " [ 9  8  7]]\n",
      "(4, 3)\n",
      "[[[ 1 12]\n",
      "  [ 2 11]\n",
      "  [ 3 10]]\n",
      "\n",
      " [[ 4  9]\n",
      "  [ 5  8]\n",
      "  [ 6  7]]]\n",
      "(2, 3, 2)\n"
     ]
    }
   ],
   "source": [
    "array_s3 = np.hstack((array_x, array_y))  # stacks horizontally (along columns)\n",
    "print(array_s3)\n",
    "print(np.shape(array_s3))\n",
    "\n",
    "array_s4 = np.vstack((array_x, array_y))  # stacks vertically (along rows)\n",
    "print(array_s4)\n",
    "print(np.shape(array_s4))\n",
    "\n",
    "array_s5 = np.dstack((array_x, array_y))  # stacks adding a depth dimension\n",
    "print(array_s5)\n",
    "print(np.shape(array_s5))"
   ]
  },
  {
   "cell_type": "markdown",
   "id": "2de8bbce",
   "metadata": {},
   "source": [
    "To split an array into many subarrays, the `array_split` functions or variants of the `split` function are used in a similar and opposite manner to the join functions."
   ]
  },
  {
   "cell_type": "code",
   "execution_count": 44,
   "id": "5bd2162f",
   "metadata": {},
   "outputs": [
    {
     "name": "stdout",
     "output_type": "stream",
     "text": [
      "[array([[1, 2, 3]]), array([[4, 5, 6]])]\n",
      "[array([[1, 2],\n",
      "       [4, 5]]), array([[3],\n",
      "       [6]])]\n"
     ]
    }
   ],
   "source": [
    "array_split1 = np.array_split(array_x, 2)          # splits an array into n arrays by columns\n",
    "print(array_split1)\n",
    "\n",
    "array_split2 = np.array_split(array_x, 2, axis=1)  # splits an array into n arrays by rows\n",
    "print(array_split2)\n",
    "\n",
    "# np.hsplit(array_x, 2)\n",
    "# np.vsplit(array_x, 2)\n",
    "# np.dsplit(array_x, 2)"
   ]
  },
  {
   "cell_type": "markdown",
   "id": "e45af628",
   "metadata": {},
   "source": [
    "## Functions\n",
    "\n",
    "| Category | Transformation | Function | Description | \n",
    "| :------: | :------------: | :------: | :---------: |\n",
    "| Arithmetic | 1 array -> 1 array | `absolute` | Computes the absolute values of the elements in an array |\n",
    "|            | | `cumsum` | Returns the cumulative sum of elements in an array along a specified axis |\n",
    "|            | | `cumprod` | Returns the cumulative product of elements in an array along a specified axis |\n",
    "|            | | `exp` | Computes the exponential values of the elements in an array |\n",
    "|            | | `log`, `log2`, `log10` | Compute the logarithms of the elements in an array |\n",
    "|            | 2 array -> 1 array | `add` | Performs element-wise addition between two arrays |\n",
    "|            | | `subtract` | Performs element-wise subtraction between two arrays |\n",
    "|            | | `multiply` | Performs element-wise multiplication between two arrays |\n",
    "|            | | `divide` | Performs element-wise division between two arrays |\n",
    "|            | | `divmod` | Returns the quotient and the remainder of element-wise division between two arrays |\n",
    "|            | | `power` | Raises the elements of an array to the power of corresponding elements in another array |\n",
    "|            | | `mod`, `remainder` | Returns the remainder of element-wise division between two arrays |\n",
    "|            | 1+ array -> 1 number | `sum` | Returns the sum of elements in an array |\n",
    "|            | | `prod` | Returns the product of elements in an array |\n",
    "| Linear Algebra | 1 array -> 1 array | `linealg.det` | Returns the determinant of a square matrix |\n",
    "|            | | `linalg.eig` | Returns the eigenvalues and eigenvectors of a square matrix |\n",
    "|            | | `linalg.inv` | Returns the inverse of a square matrix |\n",
    "|            | | `linalg.matrix_rank` | Returns the rank of a matrix |\n",
    "|            | | `linalg.norm` | Returns the Euclidean norm of a vector or the matrix norm of an array |\n",
    "|            | | `linalg.trace` | Returns the trace of a matrix |\n",
    "|            | | `linalg.svd`, `linalg.qr`, `linalg.lu` | Returns a specific decomposition of a matrix |\n",
    "|            | | `transpose` | Returns the transposed matrix |\n",
    "|            | 2 array -> 1 array | `dot`, `matmul`, `vdot` | Performs matrix multiplication between two arrays |\n",
    "| Rounding | 1 array -> 1 array | `fix`, `trunc` | Rounds the elements of an array towards zero to the nearest integer |\n",
    "|          | | `around` | Rounds the elements of an array to the specified number of decimals or to the nearest integer if no decimals are provided |\n",
    "|          | | `ceil` | Rounds the elements of an array up to the nearest integer |\n",
    "|          | | `floor` | Rounds the elements of an array down to the nearest integer |\n",
    "| Sets | 2 array -> 1 array | `unique` | Returns the sorted unique values in an array, removing any duplicates |\n",
    "|      | | `intersect1d` | Returns the sorted, unique values that are common to two input arrays |\n",
    "|      | | `setdiff1d` | Returns the sorted, unique values that are in one input array but not in the other |\n",
    "|      | | `union1d` | Returns the sorted, unique values from combining two input arrays, removing any duplicates |\n",
    "| Statistics | 1+ array -> 1 number | `min`, `max` | Returns the minimum / maximum value along a specified axis or the minimum / maximum element in an array |\n",
    "|            | | `mean` | Returns the arithmetic mean of elements in an array along a specified axis |\n",
    "|            | | `median` | Returns the median value of elements in an array along a specified axis |\n",
    "|            | | `quantile` | Returns the specified quantile(s) of elements in an array along a specified axis |\n",
    "| Trigonometric | 1 array -> 1 array | `sin`, `cos`, `tan` | Returns the specific trigonometric function of elements in an array |"
   ]
  }
 ],
 "metadata": {
  "jupytext": {
   "formats": "md:myst",
   "text_representation": {
    "extension": ".md",
    "format_name": "myst",
    "format_version": 0.13,
    "jupytext_version": "1.11.5"
   }
  },
  "kernelspec": {
   "display_name": "Python 3",
   "language": "python",
   "name": "python3"
  },
  "language_info": {
   "codemirror_mode": {
    "name": "ipython",
    "version": 3
   },
   "file_extension": ".py",
   "mimetype": "text/x-python",
   "name": "python",
   "nbconvert_exporter": "python",
   "pygments_lexer": "ipython3",
   "version": "3.8.18"
  },
  "source_map": [
   13,
   21,
   23,
   41,
   46,
   48,
   54,
   61,
   67,
   71,
   92,
   96,
   100,
   104,
   108,
   112,
   116,
   120,
   124,
   128,
   132,
   136,
   140,
   142,
   151,
   155,
   165,
   167,
   171,
   176,
   180,
   184,
   189,
   196,
   203,
   208,
   212,
   214,
   218,
   221,
   230,
   237,
   241,
   245,
   249,
   253,
   259,
   261,
   267,
   273,
   277,
   279,
   283,
   285,
   291,
   293,
   301,
   313,
   323,
   335,
   339,
   349
  ]
 },
 "nbformat": 4,
 "nbformat_minor": 5
}