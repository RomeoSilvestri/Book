{
 "cells": [
  {
   "cell_type": "markdown",
   "id": "352741ad",
   "metadata": {},
   "source": [
    "# Statsmodels\n",
    "\n",
    "![](images/statsmodels.png)\n",
    "\n",
    "Statsmodels provides statistical models and tools for data analysis. It is designed to support the estimation and testing of statistical models in various contexts, including econometrics, linear and non-linear regression, time series analysis, and more. The library is divided into different modules that cover a wide range of statistical techniques and allows users to perform hypothesis testing, statistical modeling, and exploration of relationships within datasets."
   ]
  },
  {
   "cell_type": "code",
   "execution_count": 1,
   "id": "21c53b21",
   "metadata": {},
   "outputs": [],
   "source": [
    "import statsmodels.api as sm"
   ]
  },
  {
   "cell_type": "code",
   "execution_count": 2,
   "id": "7ba2796e",
   "metadata": {},
   "outputs": [
    {
     "data": {
      "text/html": [
       "<div>\n",
       "<style scoped>\n",
       "    .dataframe tbody tr th:only-of-type {\n",
       "        vertical-align: middle;\n",
       "    }\n",
       "\n",
       "    .dataframe tbody tr th {\n",
       "        vertical-align: top;\n",
       "    }\n",
       "\n",
       "    .dataframe thead th {\n",
       "        text-align: right;\n",
       "    }\n",
       "</style>\n",
       "<table border=\"1\" class=\"dataframe\">\n",
       "  <thead>\n",
       "    <tr style=\"text-align: right;\">\n",
       "      <th></th>\n",
       "      <th>Target</th>\n",
       "      <th>X1</th>\n",
       "      <th>X2</th>\n",
       "      <th>X3_B</th>\n",
       "    </tr>\n",
       "  </thead>\n",
       "  <tbody>\n",
       "    <tr>\n",
       "      <th>0</th>\n",
       "      <td>117.640523</td>\n",
       "      <td>0.720218</td>\n",
       "      <td>14.335329</td>\n",
       "      <td>False</td>\n",
       "    </tr>\n",
       "    <tr>\n",
       "      <th>1</th>\n",
       "      <td>104.001572</td>\n",
       "      <td>7.271368</td>\n",
       "      <td>94.466892</td>\n",
       "      <td>False</td>\n",
       "    </tr>\n",
       "    <tr>\n",
       "      <th>2</th>\n",
       "      <td>109.787380</td>\n",
       "      <td>3.805189</td>\n",
       "      <td>52.184832</td>\n",
       "      <td>False</td>\n",
       "    </tr>\n",
       "    <tr>\n",
       "      <th>3</th>\n",
       "      <td>122.408932</td>\n",
       "      <td>0.608375</td>\n",
       "      <td>41.466194</td>\n",
       "      <td>True</td>\n",
       "    </tr>\n",
       "    <tr>\n",
       "      <th>4</th>\n",
       "      <td>118.675580</td>\n",
       "      <td>2.219316</td>\n",
       "      <td>26.455561</td>\n",
       "      <td>True</td>\n",
       "    </tr>\n",
       "    <tr>\n",
       "      <th>5</th>\n",
       "      <td>90.227221</td>\n",
       "      <td>1.668372</td>\n",
       "      <td>77.423369</td>\n",
       "      <td>False</td>\n",
       "    </tr>\n",
       "    <tr>\n",
       "      <th>6</th>\n",
       "      <td>109.500884</td>\n",
       "      <td>7.470395</td>\n",
       "      <td>45.615033</td>\n",
       "      <td>True</td>\n",
       "    </tr>\n",
       "    <tr>\n",
       "      <th>7</th>\n",
       "      <td>98.486428</td>\n",
       "      <td>-1.025791</td>\n",
       "      <td>56.843395</td>\n",
       "      <td>False</td>\n",
       "    </tr>\n",
       "    <tr>\n",
       "      <th>8</th>\n",
       "      <td>98.967811</td>\n",
       "      <td>1.565339</td>\n",
       "      <td>1.878980</td>\n",
       "      <td>False</td>\n",
       "    </tr>\n",
       "    <tr>\n",
       "      <th>9</th>\n",
       "      <td>104.105985</td>\n",
       "      <td>-4.270479</td>\n",
       "      <td>61.763550</td>\n",
       "      <td>True</td>\n",
       "    </tr>\n",
       "  </tbody>\n",
       "</table>\n",
       "</div>"
      ],
      "text/plain": [
       "       Target        X1         X2   X3_B\n",
       "0  117.640523  0.720218  14.335329  False\n",
       "1  104.001572  7.271368  94.466892  False\n",
       "2  109.787380  3.805189  52.184832  False\n",
       "3  122.408932  0.608375  41.466194   True\n",
       "4  118.675580  2.219316  26.455561   True\n",
       "5   90.227221  1.668372  77.423369  False\n",
       "6  109.500884  7.470395  45.615033   True\n",
       "7   98.486428 -1.025791  56.843395  False\n",
       "8   98.967811  1.565339   1.878980  False\n",
       "9  104.105985 -4.270479  61.763550   True"
      ]
     },
     "execution_count": 2,
     "metadata": {},
     "output_type": "execute_result"
    }
   ],
   "source": [
    "import numpy as np\n",
    "import pandas as pd\n",
    "\n",
    "np.random.seed(0)\n",
    "\n",
    "data = pd.DataFrame({\n",
    "    'Target': np.random.normal(100, 10, 10),\n",
    "    'X1': np.random.normal(0, 5, 10),\n",
    "    'X2': np.random.uniform(0, 100, 10),\n",
    "    'X3': np.random.choice(['A', 'B'], 10)\n",
    "})\n",
    "\n",
    "data = pd.get_dummies(data, columns=['X3'], drop_first=True)\n",
    "\n",
    "data"
   ]
  },
  {
   "cell_type": "markdown",
   "id": "ce62f7c8",
   "metadata": {},
   "source": [
    "## Regression & Classification\n",
    "\n",
    "| Model | Function |\n",
    "| :---: | :------: |\n",
    "| Linear | `sm.OLS` |\n",
    "| Logit | `sm.Logit` |\n",
    "| Poisson | `sm.GLM` with `family=sm.families.Poisson()` |\n",
    "| Gamma | `sm.GLM` with `family=sm.families.Gamma()` |\n",
    "| Negative Binomial | `sm.GLM` with `family=sm.families.NegativeBinomial()` |\n",
    "| Zero-Inflated Poisson | `ZeroInflatedPoisson` |\n",
    "| Zero-Inflated Negative Binomial | `ZeroInflatedNegativeBinomial` |\n",
    "| Robust Regression | `sm.RLM` |\n",
    "| Quantile Regression | `sm.QuantReg` |"
   ]
  },
  {
   "cell_type": "code",
   "execution_count": 3,
   "id": "8677038c",
   "metadata": {},
   "outputs": [
    {
     "ename": "KeyError",
     "evalue": "\"['X3'] not in index\"",
     "output_type": "error",
     "traceback": [
      "\u001b[1;31m---------------------------------------------------------------------------\u001b[0m",
      "\u001b[1;31mKeyError\u001b[0m                                  Traceback (most recent call last)",
      "Cell \u001b[1;32mIn[3], line 1\u001b[0m\n\u001b[1;32m----> 1\u001b[0m model \u001b[38;5;241m=\u001b[39m sm\u001b[38;5;241m.\u001b[39mOLS(data[\u001b[38;5;124m'\u001b[39m\u001b[38;5;124mTarget\u001b[39m\u001b[38;5;124m'\u001b[39m], \u001b[43mdata\u001b[49m\u001b[43m[\u001b[49m\u001b[43m[\u001b[49m\u001b[38;5;124;43m'\u001b[39;49m\u001b[38;5;124;43mX1\u001b[39;49m\u001b[38;5;124;43m'\u001b[39;49m\u001b[43m,\u001b[49m\u001b[43m \u001b[49m\u001b[38;5;124;43m'\u001b[39;49m\u001b[38;5;124;43mX2\u001b[39;49m\u001b[38;5;124;43m'\u001b[39;49m\u001b[43m,\u001b[49m\u001b[43m \u001b[49m\u001b[38;5;124;43m'\u001b[39;49m\u001b[38;5;124;43mX3\u001b[39;49m\u001b[38;5;124;43m'\u001b[39;49m\u001b[43m]\u001b[49m\u001b[43m]\u001b[49m)\n\u001b[0;32m      2\u001b[0m model\u001b[38;5;241m.\u001b[39mfit()\n\u001b[0;32m      4\u001b[0m model\u001b[38;5;241m.\u001b[39msummary()\n",
      "File \u001b[1;32m~\\AppData\\Roaming\\jupyterlab-desktop\\jlab_server\\lib\\site-packages\\pandas\\core\\frame.py:3767\u001b[0m, in \u001b[0;36mDataFrame.__getitem__\u001b[1;34m(self, key)\u001b[0m\n\u001b[0;32m   3765\u001b[0m     \u001b[38;5;28;01mif\u001b[39;00m is_iterator(key):\n\u001b[0;32m   3766\u001b[0m         key \u001b[38;5;241m=\u001b[39m \u001b[38;5;28mlist\u001b[39m(key)\n\u001b[1;32m-> 3767\u001b[0m     indexer \u001b[38;5;241m=\u001b[39m \u001b[38;5;28;43mself\u001b[39;49m\u001b[38;5;241;43m.\u001b[39;49m\u001b[43mcolumns\u001b[49m\u001b[38;5;241;43m.\u001b[39;49m\u001b[43m_get_indexer_strict\u001b[49m\u001b[43m(\u001b[49m\u001b[43mkey\u001b[49m\u001b[43m,\u001b[49m\u001b[43m \u001b[49m\u001b[38;5;124;43m\"\u001b[39;49m\u001b[38;5;124;43mcolumns\u001b[39;49m\u001b[38;5;124;43m\"\u001b[39;49m\u001b[43m)\u001b[49m[\u001b[38;5;241m1\u001b[39m]\n\u001b[0;32m   3769\u001b[0m \u001b[38;5;66;03m# take() does not accept boolean indexers\u001b[39;00m\n\u001b[0;32m   3770\u001b[0m \u001b[38;5;28;01mif\u001b[39;00m \u001b[38;5;28mgetattr\u001b[39m(indexer, \u001b[38;5;124m\"\u001b[39m\u001b[38;5;124mdtype\u001b[39m\u001b[38;5;124m\"\u001b[39m, \u001b[38;5;28;01mNone\u001b[39;00m) \u001b[38;5;241m==\u001b[39m \u001b[38;5;28mbool\u001b[39m:\n",
      "File \u001b[1;32m~\\AppData\\Roaming\\jupyterlab-desktop\\jlab_server\\lib\\site-packages\\pandas\\core\\indexes\\base.py:5877\u001b[0m, in \u001b[0;36mIndex._get_indexer_strict\u001b[1;34m(self, key, axis_name)\u001b[0m\n\u001b[0;32m   5874\u001b[0m \u001b[38;5;28;01melse\u001b[39;00m:\n\u001b[0;32m   5875\u001b[0m     keyarr, indexer, new_indexer \u001b[38;5;241m=\u001b[39m \u001b[38;5;28mself\u001b[39m\u001b[38;5;241m.\u001b[39m_reindex_non_unique(keyarr)\n\u001b[1;32m-> 5877\u001b[0m \u001b[38;5;28;43mself\u001b[39;49m\u001b[38;5;241;43m.\u001b[39;49m\u001b[43m_raise_if_missing\u001b[49m\u001b[43m(\u001b[49m\u001b[43mkeyarr\u001b[49m\u001b[43m,\u001b[49m\u001b[43m \u001b[49m\u001b[43mindexer\u001b[49m\u001b[43m,\u001b[49m\u001b[43m \u001b[49m\u001b[43maxis_name\u001b[49m\u001b[43m)\u001b[49m\n\u001b[0;32m   5879\u001b[0m keyarr \u001b[38;5;241m=\u001b[39m \u001b[38;5;28mself\u001b[39m\u001b[38;5;241m.\u001b[39mtake(indexer)\n\u001b[0;32m   5880\u001b[0m \u001b[38;5;28;01mif\u001b[39;00m \u001b[38;5;28misinstance\u001b[39m(key, Index):\n\u001b[0;32m   5881\u001b[0m     \u001b[38;5;66;03m# GH 42790 - Preserve name from an Index\u001b[39;00m\n",
      "File \u001b[1;32m~\\AppData\\Roaming\\jupyterlab-desktop\\jlab_server\\lib\\site-packages\\pandas\\core\\indexes\\base.py:5941\u001b[0m, in \u001b[0;36mIndex._raise_if_missing\u001b[1;34m(self, key, indexer, axis_name)\u001b[0m\n\u001b[0;32m   5938\u001b[0m     \u001b[38;5;28;01mraise\u001b[39;00m \u001b[38;5;167;01mKeyError\u001b[39;00m(\u001b[38;5;124mf\u001b[39m\u001b[38;5;124m\"\u001b[39m\u001b[38;5;124mNone of [\u001b[39m\u001b[38;5;132;01m{\u001b[39;00mkey\u001b[38;5;132;01m}\u001b[39;00m\u001b[38;5;124m] are in the [\u001b[39m\u001b[38;5;132;01m{\u001b[39;00maxis_name\u001b[38;5;132;01m}\u001b[39;00m\u001b[38;5;124m]\u001b[39m\u001b[38;5;124m\"\u001b[39m)\n\u001b[0;32m   5940\u001b[0m not_found \u001b[38;5;241m=\u001b[39m \u001b[38;5;28mlist\u001b[39m(ensure_index(key)[missing_mask\u001b[38;5;241m.\u001b[39mnonzero()[\u001b[38;5;241m0\u001b[39m]]\u001b[38;5;241m.\u001b[39munique())\n\u001b[1;32m-> 5941\u001b[0m \u001b[38;5;28;01mraise\u001b[39;00m \u001b[38;5;167;01mKeyError\u001b[39;00m(\u001b[38;5;124mf\u001b[39m\u001b[38;5;124m\"\u001b[39m\u001b[38;5;132;01m{\u001b[39;00mnot_found\u001b[38;5;132;01m}\u001b[39;00m\u001b[38;5;124m not in index\u001b[39m\u001b[38;5;124m\"\u001b[39m)\n",
      "\u001b[1;31mKeyError\u001b[0m: \"['X3'] not in index\""
     ]
    }
   ],
   "source": [
    "model = sm.OLS(data['Target'], data[['X1', 'X2', 'X3']])\n",
    "model.fit()\n",
    "\n",
    "model.summary()"
   ]
  },
  {
   "cell_type": "markdown",
   "id": "b1af8fc7",
   "metadata": {},
   "source": [
    "## ANOVA & ANCOVA\n",
    "\n",
    "**ANOVA**"
   ]
  },
  {
   "cell_type": "code",
   "execution_count": null,
   "id": "c3dad72f",
   "metadata": {},
   "outputs": [],
   "source": [
    "from statsmodels.formula.api import ols\n",
    "\n",
    "model = ols('Target ~ X3', data=data)\n",
    "model.fit()\n",
    "\n",
    "anova_table = sm.stats.anova_lm(model, typ=2)\n",
    "anova_table"
   ]
  },
  {
   "cell_type": "markdown",
   "id": "7f3e8019",
   "metadata": {},
   "source": [
    "**ANCOVA**\n",
    "cambia solo in ols"
   ]
  },
  {
   "cell_type": "code",
   "execution_count": null,
   "id": "aa57d35b",
   "metadata": {},
   "outputs": [],
   "source": [
    "from statsmodels.formula.api import ols\n",
    "\n",
    "model = ols('Target ~ X1 + X2 + X3', data=data)\n",
    "model.fit()\n",
    "\n",
    "anova_table = sm.stats.anova_lm(model, typ=2)\n",
    "anova_table"
   ]
  },
  {
   "cell_type": "markdown",
   "id": "1bcf6509",
   "metadata": {},
   "source": [
    "## Time Series\n",
    "\n",
    "### ARIMA\n",
    "### SARIMA\n",
    "### VAR\n",
    "\n",
    "\n",
    "## Panel Data\n",
    "\n",
    "\n",
    "## Tests\n",
    "\n",
    "| Category | Type | Function |\n",
    "| :------: | :--: | :------: | \n",
    "| ANOVA & ANCOVA    |                        | `sm.stats.anova_lm`         |\n",
    "| Autocorrelation   | Ljung-Box              | `sm.stats.diagnostic.acorr_ljungbox` |\n",
    "| Homoschedasticity | Breusch–Pagan          | `sm.stats.het_breuschpagan` |\n",
    "|                   | White                  | `sm.stats.het_white`        |\n",
    "| Normality         | D'Agostino-Pearson     | `sm.stats.normaltest`       |\n",
    "|                   | Kolmogorov-Smirnov     | `sm.stats.kstest`           |\n",
    "|                   | Shapiro-Wilk           | `sm.stats.shapiro`          |\n",
    "| Parameter Values  | Likelihood Ratio       | `compare_lr_test`           |\n",
    "|                   | Lagrange Multipliers   | `score_test`                |\n",
    "|                   | Wald                   | `wald_test`                 |\n",
    "| Seasonality       | Kwiatkowski-Phillips-Schmidt-Shin (KPSS) | `sm.tsa.kpss` |\n",
    "| Stationarity      | Dickey-Fuller (ADF)    | `sm.tsa.stattools.adfuller` |\n",
    "| Time Series Causality | Granger            | `sm.tsa.stattools.grangercausalitytests` |"
   ]
  }
 ],
 "metadata": {
  "jupytext": {
   "formats": "md:myst",
   "text_representation": {
    "extension": ".md",
    "format_name": "myst",
    "format_version": 0.13,
    "jupytext_version": "1.11.5"
   }
  },
  "kernelspec": {
   "display_name": "Python 3",
   "language": "python",
   "name": "python3"
  },
  "language_info": {
   "codemirror_mode": {
    "name": "ipython",
    "version": 3
   },
   "file_extension": ".py",
   "mimetype": "text/x-python",
   "name": "python",
   "nbconvert_exporter": "python",
   "pygments_lexer": "ipython3",
   "version": "3.8.18"
  },
  "source_map": [
   13,
   21,
   25,
   41,
   58,
   63,
   69,
   77,
   81,
   89
  ]
 },
 "nbformat": 4,
 "nbformat_minor": 5
}