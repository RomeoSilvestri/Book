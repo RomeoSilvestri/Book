{
 "cells": [
  {
   "cell_type": "markdown",
   "id": "b7aec5d2",
   "metadata": {},
   "source": [
    "# Statsmodels\n",
    "\n",
    "![](images/statsmodels.png)\n",
    "\n",
    "Statsmodels provides statistical models and tools for data analysis. It is designed to support the estimation and testing of statistical models in various contexts, including econometrics, linear and non-linear regression, time series analysis, and more. The library is divided into different modules that cover a wide range of statistical techniques and allows users to perform hypothesis testing, statistical modeling, and exploration of relationships within datasets."
   ]
  },
  {
   "cell_type": "code",
   "execution_count": 1,
   "id": "354dbf80",
   "metadata": {},
   "outputs": [],
   "source": [
    "import statsmodels.api as sm"
   ]
  },
  {
   "cell_type": "markdown",
   "id": "fe832ece",
   "metadata": {},
   "source": [
    "## Tests\n",
    "\n",
    "**ANOVA test**\n",
    "\n",
    "## Regression & Classification\n",
    "\n",
    "| Model | Function |\n",
    "| :---: | :------: |\n",
    "| Linear | `sm.OLS` |\n",
    "| Logit | `sm.Logit` |\n",
    "| Poisson | `sm.GLM` with `family=sm.families.Poisson()` |\n",
    "| Gamma | `sm.GLM` with `family=sm.families.Gamma()` |\n",
    "| Negative Binomial | `sm.GLM` with `family=sm.families.NegativeBinomial()` |\n",
    "| Zero-Inflated Poisson | `ZeroInflatedPoisson` |\n",
    "| Zero-Inflated Negative Binomial | `ZeroInflatedNegativeBinomial` |\n",
    "| Robust Regression | `sm.RLM` |\n",
    "| Quantile Regression | `sm.QuantReg` |\n",
    "\n",
    "\n",
    "## ANOVA & ANCOVA\n",
    "\n",
    "**ANOVA**"
   ]
  },
  {
   "cell_type": "code",
   "execution_count": 2,
   "id": "543aac96",
   "metadata": {},
   "outputs": [
    {
     "ename": "SyntaxError",
     "evalue": "invalid syntax (1336634960.py, line 3)",
     "output_type": "error",
     "traceback": [
      "\u001b[1;36m  Cell \u001b[1;32mIn[2], line 3\u001b[1;36m\u001b[0m\n\u001b[1;33m    model = ols( ~ , data=data)\u001b[0m\n\u001b[1;37m                   ^\u001b[0m\n\u001b[1;31mSyntaxError\u001b[0m\u001b[1;31m:\u001b[0m invalid syntax\n"
     ]
    }
   ],
   "source": [
    "from statsmodels.formula.api import ols\n",
    "\n",
    "model = ols( ~ , data=data)\n",
    "model.fit()\n",
    "model.summary()"
   ]
  },
  {
   "cell_type": "markdown",
   "id": "94f50c10",
   "metadata": {},
   "source": [
    "**ANCOVA**\n",
    "cambia solo in ols"
   ]
  },
  {
   "cell_type": "code",
   "execution_count": null,
   "id": "85832b90",
   "metadata": {},
   "outputs": [],
   "source": [
    "from statsmodels.formula.api import ols\n",
    "\n",
    "model = ols( ~ , data=data)\n",
    "model.fit()\n",
    "model.summary()"
   ]
  },
  {
   "cell_type": "markdown",
   "id": "debeca7d",
   "metadata": {},
   "source": [
    "## Time Series\n",
    "\n",
    "### ARIMA\n",
    "### SARIMA\n",
    "### VAR\n",
    "\n",
    "\n",
    "## Panel Data"
   ]
  }
 ],
 "metadata": {
  "jupytext": {
   "formats": "md:myst",
   "text_representation": {
    "extension": ".md",
    "format_name": "myst",
    "format_version": 0.13,
    "jupytext_version": "1.11.5"
   }
  },
  "kernelspec": {
   "display_name": "Python 3",
   "language": "python",
   "name": "python3"
  },
  "language_info": {
   "codemirror_mode": {
    "name": "ipython",
    "version": 3
   },
   "file_extension": ".py",
   "mimetype": "text/x-python",
   "name": "python",
   "nbconvert_exporter": "python",
   "pygments_lexer": "ipython3",
   "version": "3.8.18"
  },
  "source_map": [
   13,
   21,
   23,
   47,
   53,
   57,
   63
  ]
 },
 "nbformat": 4,
 "nbformat_minor": 5
}