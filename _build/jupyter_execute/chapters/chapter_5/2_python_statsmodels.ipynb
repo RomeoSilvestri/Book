{
 "cells": [
  {
   "cell_type": "markdown",
   "id": "0f01f254",
   "metadata": {},
   "source": [
    "# Statsmodels\n",
    "\n",
    "![](images/statsmodeld.png)\n",
    "\n",
    "Statsmodels provides statistical models and tools for data analysis. It is designed to support the estimation and testing of statistical models in various contexts, including econometrics, linear and non-linear regression, time series analysis, and more. The library is divided into different modules that cover a wide range of statistical techniques and allows users to perform hypothesis testing, statistical modeling, and exploration of relationships within datasets."
   ]
  },
  {
   "cell_type": "code",
   "execution_count": 1,
   "id": "24839233",
   "metadata": {},
   "outputs": [
    {
     "ename": "ModuleNotFoundError",
     "evalue": "No module named 'statsmodels'",
     "output_type": "error",
     "traceback": [
      "\u001b[1;31m---------------------------------------------------------------------------\u001b[0m",
      "\u001b[1;31mModuleNotFoundError\u001b[0m                       Traceback (most recent call last)",
      "Cell \u001b[1;32mIn[1], line 1\u001b[0m\n\u001b[1;32m----> 1\u001b[0m \u001b[38;5;28;01mimport\u001b[39;00m \u001b[38;5;21;01mstatsmodels\u001b[39;00m\u001b[38;5;21;01m.\u001b[39;00m\u001b[38;5;21;01mapi\u001b[39;00m \u001b[38;5;28;01mas\u001b[39;00m \u001b[38;5;21;01msm\u001b[39;00m\n",
      "\u001b[1;31mModuleNotFoundError\u001b[0m: No module named 'statsmodels'"
     ]
    }
   ],
   "source": [
    "import statsmodels.api as sm"
   ]
  },
  {
   "cell_type": "markdown",
   "id": "b05add02",
   "metadata": {},
   "source": [
    "## Tests\n",
    "\n",
    "**ANOVA test**\n",
    "\n",
    "## Regression & Classification\n",
    "\n",
    "| Model | Function |\n",
    "| :---: | :------: |\n",
    "| Linear | `sm.OLS` |\n",
    "| Logit | `sm.Logit` |\n",
    "| Poisson | `sm.GLM` with `family=sm.families.Poisson()` |\n",
    "| Gamma | `sm.GLM` with `family=sm.families.Gamma()` |\n",
    "| Negative Binomial | `sm.GLM` with `family=sm.families.NegativeBinomial()` |\n",
    "| Zero-Inflated Poisson | `ZeroInflatedPoisson` |\n",
    "| Zero-Inflated Negative Binomial | `ZeroInflatedNegativeBinomial` |\n",
    "| Robust Regression | `sm.RLM` |\n",
    "| Quantile Regression | `sm.QuantReg` |\n",
    "\n",
    "\n",
    "## ANOVA & ANCOVA\n",
    "\n",
    "**ANOVA**"
   ]
  },
  {
   "cell_type": "code",
   "execution_count": null,
   "id": "4f348753",
   "metadata": {},
   "outputs": [],
   "source": [
    "from statsmodels.formula.api import ols\n",
    "\n",
    "model = ols( ~ , data=data)\n",
    "model.fit()\n",
    "model.summary()"
   ]
  },
  {
   "cell_type": "markdown",
   "id": "a62b8ff7",
   "metadata": {},
   "source": [
    "**ANCOVA**\n",
    "cambia solo in ols"
   ]
  },
  {
   "cell_type": "code",
   "execution_count": null,
   "id": "5fc15357",
   "metadata": {},
   "outputs": [],
   "source": [
    "from statsmodels.formula.api import ols\n",
    "\n",
    "model = ols( ~ , data=data)\n",
    "model.fit()\n",
    "model.summary()"
   ]
  },
  {
   "cell_type": "markdown",
   "id": "906dc4aa",
   "metadata": {},
   "source": [
    "## Time Series\n",
    "\n",
    "### ARIMA\n",
    "### SARIMA\n",
    "### VAR\n",
    "\n",
    "\n",
    "## Panel Data"
   ]
  }
 ],
 "metadata": {
  "jupytext": {
   "formats": "md:myst",
   "text_representation": {
    "extension": ".md",
    "format_name": "myst",
    "format_version": 0.13,
    "jupytext_version": "1.11.5"
   }
  },
  "kernelspec": {
   "display_name": "Python 3",
   "language": "python",
   "name": "python3"
  },
  "language_info": {
   "codemirror_mode": {
    "name": "ipython",
    "version": 3
   },
   "file_extension": ".py",
   "mimetype": "text/x-python",
   "name": "python",
   "nbconvert_exporter": "python",
   "pygments_lexer": "ipython3",
   "version": "3.8.18"
  },
  "source_map": [
   13,
   21,
   23,
   47,
   53,
   57,
   63
  ]
 },
 "nbformat": 4,
 "nbformat_minor": 5
}