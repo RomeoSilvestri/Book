{
 "cells": [
  {
   "cell_type": "markdown",
   "id": "79c60fa9",
   "metadata": {},
   "source": [
    "# Python - Basics\n",
    "\n",
    "Python is a verstile high-level programming language known for its simplicity and readability. It's widely used in data science. Its rich ecosystem of libraries, such as NumPy, Pandas, and Matplotlib, provides powerful tools for data manipulation, analysis, and visualization. Python's simplicity and flexibility make it a popular choice for data scientists, enabling them to efficiently tackle complex data-driven problems.\n",
    "\n",
    "**Input and Output**\n",
    "\n",
    "In Python, you can use the `input` function to prompt the user for input. It displays a message to the user, waits for them to enter a value, and then returns the input as a string."
   ]
  },
  {
   "cell_type": "code",
   "execution_count": 1,
   "id": "0063629d",
   "metadata": {},
   "outputs": [],
   "source": [
    "# name = input('Please enter your name: ')"
   ]
  },
  {
   "cell_type": "markdown",
   "id": "76dcac10",
   "metadata": {},
   "source": [
    "The `print` function is used to display data as output. It takes one or more arguments and prints them to the console or standard output stream, separated by spaces."
   ]
  },
  {
   "cell_type": "code",
   "execution_count": 2,
   "id": "6ec4618a",
   "metadata": {},
   "outputs": [
    {
     "name": "stdout",
     "output_type": "stream",
     "text": [
      "Hello World!\n"
     ]
    }
   ],
   "source": [
    "print('Hello World!')"
   ]
  },
  {
   "cell_type": "code",
   "execution_count": 3,
   "id": "37e3f524",
   "metadata": {},
   "outputs": [
    {
     "name": "stdout",
     "output_type": "stream",
     "text": [
      "Hello World! This is the number: 1\n",
      "Hello World! This is the number: 1\n"
     ]
    }
   ],
   "source": [
    "one = 1\n",
    "print('Hello World! This is the number:', one)         # print with space\n",
    "print('Hello World! This is the number: ' + str(one))  # print without space"
   ]
  },
  {
   "cell_type": "markdown",
   "id": "0939faeb",
   "metadata": {},
   "source": [
    "**Assignment**\n",
    "\n",
    "The `=` operator is used for assignment. It assigns the value on the right side to the variable on the left side."
   ]
  },
  {
   "cell_type": "code",
   "execution_count": 4,
   "id": "9edd421a",
   "metadata": {},
   "outputs": [],
   "source": [
    "a = 'apple'                             # assignment\n",
    "\n",
    "a, b, c = 'apple', 'banana', 'cherry'   # multiple assignment\n",
    "a = b = c = 'apple'\n",
    "\n",
    "fruits = ['apple', 'banana', 'cherry']  \n",
    "a, b, c = fruits"
   ]
  },
  {
   "cell_type": "markdown",
   "id": "c04e0942",
   "metadata": {},
   "source": [
    "**Escape Characters**\n",
    "\n",
    "Escape characters in programming are special characters, typically preceded by a backslash (\\). They are used to change the interpretation of the character that follows, often for including special characters in strings or representing hard-to-type characters in code.\n",
    "\n",
    "| Operator | Description   |\n",
    "| :------: | :---------:   |\n",
    "| `\\'`     | single quote  |\n",
    "| `\\\"`     | double quotes |\n",
    "| `\\\\`     | backslash     |\n",
    "| `\\n`     | newline       |\n",
    "| `\\t`     | tab           |\n",
    "\n",
    "\n",
    "## Basic Operations\n",
    "\n",
    "**Arithmetic**\n",
    "\n",
    "| Operator | Description                       |\n",
    "| :------: | :---------:                       |\n",
    "| `+`      | addition                          |\n",
    "| `-`      | subtraction                       |\n",
    "| `*`      | multiplication                    |\n",
    "| `/`      | division                          |\n",
    "| `**`     | exponentiation                    |\n",
    "| `//`     | integer division / floor division |\n",
    "| `%`      | modulo                            |\n",
    "\n",
    "**Comparison**\n",
    "\n",
    "| Operator     | Description                          |\n",
    "| :------:     | :---------:                          |\n",
    "| `x == y `    | is `x` equal to `y`?                 |\n",
    "| `x != y`     | is `x` not equal to `y`?             |\n",
    "| `x > y`      | is `x` greater than `y`?             |\n",
    "| `x >= y`     | is `x` greater than or equal to `y`? |\n",
    "| `x < y`      | is `x` less than `y`?                |\n",
    "| `x <= y`     | is `x` less than or equal to `y`?    |\n",
    "| `x is y`     | is `x` the same object as `y`?       |\n",
    "| `x is not y` | is not `x` the same object as `y`?   |\n",
    "\n",
    "**Logical**\n",
    "\n",
    "| Operator  | Description                          |\n",
    "| :------:  | :---------:                          |\n",
    "| `x and y` | are `x` and `y` both True?           |\n",
    "| `x or y`  | is at least one of `x` and `y` True? |\n",
    "| `not x`   | is `x` False?                        |\n",
    "\n",
    "**Membership**\n",
    "\n",
    "| Operator     | Description        |\n",
    "| :------:     | :---------:        |\n",
    "| `x in y`     | is `x` in `y`?     |\n",
    "| `x not in y` | is not `x` in `y`? |\n",
    "\n",
    "**Basic Arithmetic Functions**\n",
    "\n",
    "| Type                      | Library     | Function                                    |\n",
    "| :--:                      | :-----:     | :------:                                    |\n",
    "| Absolute Value            | `/`         | `abs`                                       |\n",
    "| Exponential and Logarithm | `math`      | `exp`, `log`                                |\n",
    "| Factorial                 | `math`      | `factorial`                                 |\n",
    "| Power and Square Root     | `math`      | `pow`, `sqrt`                               |\n",
    "| Rounding                  | `/`, `math` | `round`, `floor`, `ceil`, `trunc`           |\n",
    "| Trigonometryc             | `math`      | `sin`, `cos`, `tan`, `asin`, `acos`, `atan` |\n",
    "\n",
    "\n",
    "## Variables\n",
    "\n",
    "In programming languages, variables are placeholders for storing and manipulating data.\n",
    "\n",
    "**Data Types**\n",
    "\n",
    "Data Types represent individual pieces of data and define the type of information they can hold. Common data types include integers, floating-point numbers, characters, and Boolean values.\n",
    "\n",
    "| Category | Type                      |\n",
    "| :------: | :--:                      |\n",
    "| Binary   | `bytes`, `memoryview`     |\n",
    "| Boolean  | `bool`                    |\n",
    "| None     | `NoneType`                |\n",
    "| Numeric  | `int`, `float`, `complex` |\n",
    "| Sequence | `range`                   |\n",
    "| String   | `str`                     |\n",
    "\n",
    "**Data Structures**\n",
    "\n",
    "Data Structures are more complex than basic data types and can hold collections of data.\n",
    "\n",
    "| Category | Structure          |\n",
    "| :------: | :-------:          |\n",
    "| Binary   | `bytearray`        |\n",
    "| Mapping  | `dict`             |\n",
    "| Sequence | `list`, `tuple`    |\n",
    "| Set      | `set`, `frozenset` |\n",
    "\n",
    "Data Structures Features:\n",
    "1) Tuple: ordered, unchangeable and allows duplicates\n",
    "2) List: ordered, changeable and allows duplicates\n",
    "3) Set: unordered (and unindexed), unchangeable and without duplicates\n",
    "4) Dictionary: ordered*, changeable and without duplicate members\n",
    "\n",
    "Casting: refers to the explicit conversion of an object or value from one data type to another. It is achieved using functions like `int`, `float`, `str`, etc. Casting allows for changing the type of data, facilitating compatibility and desired operations between different data types.\n",
    "\n",
    "Basic Operations:\\\n",
    "Get Type: `type` function\\\n",
    "Get Length: `len` function\n",
    "\n",
    "\n",
    "### Strings\n",
    "\n",
    "Strings are sequences of characters enclosed in single or double quotes. They are immutable, meaning their values cannot be changed after creation. Strings support various operations like slicing, concatenation and formatting, making them suitable for text manipulation and data representation.\n",
    "\n",
    "**Basic Operations**"
   ]
  },
  {
   "cell_type": "code",
   "execution_count": 5,
   "id": "8baf933b",
   "metadata": {},
   "outputs": [
    {
     "name": "stdout",
     "output_type": "stream",
     "text": [
      "<class 'str'>\n",
      "13\n"
     ]
    }
   ],
   "source": [
    "sentence = 'Hello, World!'\n",
    "\n",
    "print(type(sentence))\n",
    "print(len(sentence))"
   ]
  },
  {
   "cell_type": "code",
   "execution_count": 6,
   "id": "69e29e46",
   "metadata": {},
   "outputs": [
    {
     "name": "stdout",
     "output_type": "stream",
     "text": [
      "H\n",
      "Hello\n",
      "World!\n",
      "World\n"
     ]
    }
   ],
   "source": [
    "print(sentence[0])      # slicing\n",
    "print(sentence[:5])\n",
    "print(sentence[7:])\n",
    "print(sentence[-6:-1])  "
   ]
  },
  {
   "cell_type": "code",
   "execution_count": 7,
   "id": "8a6799c3",
   "metadata": {},
   "outputs": [
    {
     "name": "stdout",
     "output_type": "stream",
     "text": [
      "True\n",
      "False\n"
     ]
    }
   ],
   "source": [
    "print('World' in sentence)\n",
    "print('World' not in sentence)"
   ]
  },
  {
   "cell_type": "code",
   "execution_count": 8,
   "id": "8daeec2f",
   "metadata": {},
   "outputs": [
    {
     "name": "stdout",
     "output_type": "stream",
     "text": [
      "Hello World\n"
     ]
    }
   ],
   "source": [
    "w1 = 'Hello'        # concatenate\n",
    "w2 = 'World'\n",
    "\n",
    "w3 = w1 + ' ' + w2  \n",
    "print(w3)"
   ]
  },
  {
   "cell_type": "markdown",
   "id": "79cd9ea0",
   "metadata": {},
   "source": [
    "**Methods**\n",
    "\n",
    "| Method | Paramethers | Description |\n",
    "| :----: | :---------: | :---------: |\n",
    "| `capitalize`                | /                         | Converts the first character to upper case |\n",
    "| `casefold`, `lower`         | /                         | Converts string into lower case            |\n",
    "| `count`                     | value, start, end         | Returns the number of times a specified value occurs |   \n",
    "| `find`, `index`             | value, start, end         | Searches the string for a specified value and returns the position of where it was found |\n",
    "| `format`                    | value1, ..., valueN       | Formats specified values in a string       |\n",
    "| `join`                      | iterable                  | Joins the elements of an iterable to the end of the string |\n",
    "| `replace`                   | oldvalue, newvalue, count | Returns a string where a specified value is replaced with a specified value |\n",
    "| `rfind`, `rindex`           | value, start, end         | Searches the string for a specified value and returns the last position of where it was found |\n",
    "| `split`                     | separator, maxsplit       | Splits the string at the specified separator, and returns a list |\n",
    "| `splitlines`                | keeplinebreaks            | Splits the string at line breaks and returns a list |                           \n",
    "| `strip`, `lstrip`, `rstrip` | characters                | Returns a trimmed version of the string |\n",
    "| `title`                     | /                         | Converts the first character of each word to upper case |\n",
    "| `upper`                     | /                         | Converts a string into upper case |\n",
    "\n",
    "\n",
    "### Tuple\n",
    "\n",
    "Tuples are ordered collections of elements enclosed in parentheses. They are immutable, meaning their values cannot be modified once defined. Tuples can store different data types and are commonly used to group related data or as return values for functions, providing a convenient way to ensure data integrity and prevent accidental modification.\n",
    "\n",
    "**Creation**"
   ]
  },
  {
   "cell_type": "code",
   "execution_count": 9,
   "id": "951a6028",
   "metadata": {},
   "outputs": [],
   "source": [
    "tp = ()                                       # empty\n",
    "tp = ('apple',)                               # one element\n",
    "tp = ('apple', 'cherry', 'banana', 'orange')"
   ]
  },
  {
   "cell_type": "markdown",
   "id": "4de88fa4",
   "metadata": {},
   "source": [
    "**Access**"
   ]
  },
  {
   "cell_type": "code",
   "execution_count": 10,
   "id": "8921556a",
   "metadata": {},
   "outputs": [
    {
     "name": "stdout",
     "output_type": "stream",
     "text": [
      "('apple', 'cherry')\n",
      "apple\n",
      "cherry\n",
      "banana\n",
      "orange\n"
     ]
    }
   ],
   "source": [
    "print(tp[:2])  # slicing\n",
    "\n",
    "for x in tp:   # loop (all elements)\n",
    "  print(x)"
   ]
  },
  {
   "cell_type": "markdown",
   "id": "cbae572c",
   "metadata": {},
   "source": [
    "**Check Elements**"
   ]
  },
  {
   "cell_type": "code",
   "execution_count": 11,
   "id": "cc6afb12",
   "metadata": {},
   "outputs": [
    {
     "name": "stdout",
     "output_type": "stream",
     "text": [
      "True\n",
      "False\n"
     ]
    }
   ],
   "source": [
    "print('cherry' in tp)\n",
    "print('cherry' not in tp)"
   ]
  },
  {
   "cell_type": "markdown",
   "id": "c1ba838a",
   "metadata": {},
   "source": [
    "**Insertion**"
   ]
  },
  {
   "cell_type": "code",
   "execution_count": 12,
   "id": "9cc33c8c",
   "metadata": {},
   "outputs": [
    {
     "name": "stdout",
     "output_type": "stream",
     "text": [
      "('apple', 'cherry', 'banana', 'orange')\n"
     ]
    }
   ],
   "source": [
    "# 1) conversion into a list (with list constructor)\n",
    "\n",
    "# 2) '+' operator (can add any iterable)\n",
    "\n",
    "tp_1 = ('apple', 'cherry')\n",
    "tp_2 = ('banana', 'orange')\n",
    "tp_3 = tp_1 + tp_2 \n",
    "print(tp_3)"
   ]
  },
  {
   "cell_type": "markdown",
   "id": "85f2b049",
   "metadata": {},
   "source": [
    "**Deletion**"
   ]
  },
  {
   "cell_type": "code",
   "execution_count": 13,
   "id": "2a2747ce",
   "metadata": {},
   "outputs": [],
   "source": [
    "# 1) conversion into a list\n",
    "\n",
    "# 2) delete the entire tuple\n",
    "\n",
    "# del tp"
   ]
  },
  {
   "cell_type": "markdown",
   "id": "edd98121",
   "metadata": {},
   "source": [
    "**Update**"
   ]
  },
  {
   "cell_type": "code",
   "execution_count": 14,
   "id": "aa30131e",
   "metadata": {},
   "outputs": [],
   "source": [
    "# conversion into a list"
   ]
  },
  {
   "cell_type": "markdown",
   "id": "70d97028",
   "metadata": {},
   "source": [
    "**Sort**"
   ]
  },
  {
   "cell_type": "code",
   "execution_count": 15,
   "id": "a41fbb7c",
   "metadata": {},
   "outputs": [
    {
     "name": "stdout",
     "output_type": "stream",
     "text": [
      "('apple', 'cherry', 'banana', 'orange')\n",
      "['apple', 'banana', 'cherry', 'orange']\n"
     ]
    }
   ],
   "source": [
    "# 1) conversion into a list\n",
    "\n",
    "# 2) sorted function\n",
    "\n",
    "tp_sort = sorted(tp)\n",
    "print(tp)\n",
    "print(tp_sort)"
   ]
  },
  {
   "cell_type": "markdown",
   "id": "d0cba61f",
   "metadata": {},
   "source": [
    "**Copy**"
   ]
  },
  {
   "cell_type": "code",
   "execution_count": 16,
   "id": "de86af67",
   "metadata": {},
   "outputs": [
    {
     "name": "stdout",
     "output_type": "stream",
     "text": [
      "('apple', 'cherry', 'banana', 'orange')\n",
      "('apple', 'cherry', 'banana', 'orange')\n"
     ]
    }
   ],
   "source": [
    "# 1) slicing\n",
    "\n",
    "tp_copy = tp[:]\n",
    "print(tp_copy)\n",
    "\n",
    "\n",
    "# 2) constructor\n",
    "\n",
    "tp_copy = tuple(tp)\n",
    "print(tp_copy)"
   ]
  },
  {
   "cell_type": "markdown",
   "id": "accdbf85",
   "metadata": {},
   "source": [
    "**Unpack**"
   ]
  },
  {
   "cell_type": "code",
   "execution_count": 17,
   "id": "6ab9f40e",
   "metadata": {},
   "outputs": [],
   "source": [
    "apple, cherry, banana, orange = tp\n",
    "apple, *others = tp"
   ]
  },
  {
   "cell_type": "markdown",
   "id": "b023e3dc",
   "metadata": {},
   "source": [
    "**Comprehension**"
   ]
  },
  {
   "cell_type": "code",
   "execution_count": 18,
   "id": "3f409b5e",
   "metadata": {},
   "outputs": [
    {
     "name": "stdout",
     "output_type": "stream",
     "text": [
      "('apple', 'banana', 'orange')\n"
     ]
    }
   ],
   "source": [
    "tp_new = tuple(x for x in tp if 'a' in x)\n",
    "print(tp_new)"
   ]
  },
  {
   "cell_type": "markdown",
   "id": "432ac96f",
   "metadata": {},
   "source": [
    "**Methods**\n",
    "\n",
    "| Method  | Paramethers | Description |\n",
    "| :----:  | :---------: | :---------: |\n",
    "| `count` | element     | Returns the number of times a specified value occurs in a tuple |\n",
    "| `index` | element     | Searches the tuple for a specified value and returns the position of where it was found |\n",
    "\n",
    "\n",
    "### List\n",
    "\n",
    "Lists are ordered and mutable collections of elements enclosed in square brackets. They can hold values of different types and allow for dynamic resizing, appending, and modification of elements. Lists are versatile data structures, supporting operations like indexing, slicing, and list comprehensions, making them useful for storing and manipulating data in a flexible manner.\n",
    "\n",
    "**Creation**"
   ]
  },
  {
   "cell_type": "code",
   "execution_count": 19,
   "id": "613e5487",
   "metadata": {},
   "outputs": [],
   "source": [
    "ls = []                                       # empty\n",
    "ls = ['apple', 'cherry', 'banana', 'orange']"
   ]
  },
  {
   "cell_type": "markdown",
   "id": "0a7619eb",
   "metadata": {},
   "source": [
    "**Access**"
   ]
  },
  {
   "cell_type": "code",
   "execution_count": 20,
   "id": "d134fe60",
   "metadata": {},
   "outputs": [
    {
     "name": "stdout",
     "output_type": "stream",
     "text": [
      "['apple', 'cherry']\n",
      "apple\n",
      "cherry\n",
      "banana\n",
      "orange\n"
     ]
    }
   ],
   "source": [
    "print(ls[:2])  # slicing\n",
    "\n",
    "for x in ls:   # loop\n",
    "  print(x)"
   ]
  },
  {
   "cell_type": "markdown",
   "id": "3441b673",
   "metadata": {},
   "source": [
    "**Check Elements**"
   ]
  },
  {
   "cell_type": "code",
   "execution_count": 21,
   "id": "36772abc",
   "metadata": {},
   "outputs": [
    {
     "name": "stdout",
     "output_type": "stream",
     "text": [
      "True\n",
      "False\n"
     ]
    }
   ],
   "source": [
    "print('cherry' in ls)\n",
    "print('cherry' not in ls)"
   ]
  },
  {
   "cell_type": "markdown",
   "id": "c643bce5",
   "metadata": {},
   "source": [
    "**Insertion**"
   ]
  },
  {
   "cell_type": "code",
   "execution_count": 22,
   "id": "4baf89f7",
   "metadata": {},
   "outputs": [
    {
     "name": "stdout",
     "output_type": "stream",
     "text": [
      "('apple', 'banana', 'cherry', 'orange')\n",
      "['apple', 'cherry', 'banana', 'orange', 'strawberry']\n",
      "['apple', 'peach', 'cherry', 'banana', 'orange', 'strawberry']\n",
      "['apple', 'peach', 'cherry', 'banana', 'orange', 'strawberry', 'lemon', 'lime']\n"
     ]
    }
   ],
   "source": [
    "# 1) '+' operator\n",
    "\n",
    "ls_1 = ('apple', 'banana')\n",
    "ls_2 = ('cherry', 'orange')\n",
    "ls_3 = ls_1 + ls_2 \n",
    "print(ls_3)\n",
    "\n",
    "\n",
    "# 2) append: adds an element at the end of the list\n",
    "\n",
    "ls.append('strawberry')\n",
    "print(ls)\n",
    "\n",
    "\n",
    "# 3) insert: adds an element at the specified position\n",
    "\n",
    "ls.insert(1, 'peach')\n",
    "print(ls)\n",
    "\n",
    "\n",
    "# 4) extend: adds elements of a list (or any iterable), to the end of the current list\n",
    "\n",
    "ls_ext = ['lemon', 'lime']\n",
    "ls.extend(ls_ext)\n",
    "print(ls)"
   ]
  },
  {
   "cell_type": "markdown",
   "id": "44e6b9e8",
   "metadata": {},
   "source": [
    "**Deletion**"
   ]
  },
  {
   "cell_type": "code",
   "execution_count": 23,
   "id": "21f0ffbd",
   "metadata": {},
   "outputs": [
    {
     "name": "stdout",
     "output_type": "stream",
     "text": [
      "['apple', 'peach', 'cherry', 'banana', 'orange', 'strawberry', 'lemon']\n",
      "['apple', 'cherry', 'banana', 'orange', 'strawberry', 'lemon']\n",
      "['apple', 'banana', 'orange', 'strawberry', 'lemon']\n"
     ]
    }
   ],
   "source": [
    "# 1) remove: removes the element with the specified value\n",
    "\n",
    "ls.remove('lime')\n",
    "print(ls)\n",
    "\n",
    "\n",
    "# 2) pop: removes the element at the specified position\n",
    "\n",
    "ls.pop(1)\n",
    "print(ls)\n",
    "\n",
    "\n",
    "# 3) del: removes the item at the specified position; if the position of the item is not specified, the iterator is deleted\n",
    "\n",
    "# del ls\n",
    "del ls[1]\n",
    "print(ls)\n",
    "\n",
    "\n",
    "# 4) clear: removes all the elements from the iterable\n",
    "\n",
    "# ls.clear()\n",
    "# print(ls)"
   ]
  },
  {
   "cell_type": "markdown",
   "id": "800e1a5f",
   "metadata": {},
   "source": [
    "**Update**"
   ]
  },
  {
   "cell_type": "code",
   "execution_count": 24,
   "id": "2b07c7bd",
   "metadata": {},
   "outputs": [
    {
     "name": "stdout",
     "output_type": "stream",
     "text": [
      "['apple', 'grapes', 'orange', 'strawberry', 'lemon']\n"
     ]
    }
   ],
   "source": [
    "ls[1] = 'grapes'  # slicing\n",
    "print(ls)"
   ]
  },
  {
   "cell_type": "markdown",
   "id": "36b50c25",
   "metadata": {},
   "source": [
    "**Sort**"
   ]
  },
  {
   "cell_type": "code",
   "execution_count": 25,
   "id": "469ce940",
   "metadata": {},
   "outputs": [
    {
     "name": "stdout",
     "output_type": "stream",
     "text": [
      "['apple', 'grapes', 'lemon', 'orange', 'strawberry']\n",
      "['strawberry', 'orange', 'lemon', 'grapes', 'apple']\n",
      "['apple', 'grapes', 'lemon', 'orange', 'strawberry']\n"
     ]
    }
   ],
   "source": [
    "# 1) sort method\n",
    "\n",
    "ls.sort()\n",
    "print(ls)\n",
    "\n",
    "\n",
    "# 2) reverse method\n",
    "\n",
    "ls.reverse()\n",
    "print(ls)\n",
    "\n",
    "\n",
    "# 3) sorted function\n",
    "\n",
    "ls_sort = sorted(ls)\n",
    "print(ls_sort)"
   ]
  },
  {
   "cell_type": "markdown",
   "id": "c2c86293",
   "metadata": {},
   "source": [
    "**Copy**"
   ]
  },
  {
   "cell_type": "code",
   "execution_count": 26,
   "id": "89b63a80",
   "metadata": {},
   "outputs": [
    {
     "name": "stdout",
     "output_type": "stream",
     "text": [
      "['strawberry', 'orange', 'lemon', 'grapes', 'apple']\n",
      "['strawberry', 'orange', 'lemon', 'grapes', 'apple']\n",
      "['strawberry', 'orange', 'lemon', 'grapes', 'apple']\n"
     ]
    }
   ],
   "source": [
    "# 1) slicing\n",
    "\n",
    "ls_copy = ls[:]\n",
    "print(ls_copy)\n",
    "\n",
    "\n",
    "# 2) constructor\n",
    "\n",
    "ls_copy = list(ls)\n",
    "print(ls_copy)\n",
    "\n",
    "# 3) copy: returns a copy of the list\n",
    "\n",
    "ls_copy = ls.copy()\n",
    "print(ls_copy)"
   ]
  },
  {
   "cell_type": "markdown",
   "id": "58a045ec",
   "metadata": {},
   "source": [
    "**Unpack**"
   ]
  },
  {
   "cell_type": "code",
   "execution_count": 27,
   "id": "83f9889c",
   "metadata": {},
   "outputs": [],
   "source": [
    "strawberry, orange, lemon, grapes, apple = ls\n",
    "strawberry, *others = ls"
   ]
  },
  {
   "cell_type": "markdown",
   "id": "86bbf787",
   "metadata": {},
   "source": [
    "**Comprehension**"
   ]
  },
  {
   "cell_type": "code",
   "execution_count": 28,
   "id": "69d66736",
   "metadata": {},
   "outputs": [
    {
     "name": "stdout",
     "output_type": "stream",
     "text": [
      "['strawberry', 'orange', 'grapes', 'apple']\n"
     ]
    }
   ],
   "source": [
    "ls_new = [x for x in ls if 'a' in x]\n",
    "print(ls_new)"
   ]
  },
  {
   "cell_type": "markdown",
   "id": "74e0bfb0",
   "metadata": {},
   "source": [
    "**Methods**\n",
    "\n",
    "| Method    | Paramethers | Description |\n",
    "| :----:    | :---------: | :---------: |\n",
    "| `append`  | element                          | Adds an element at the end of the list |\n",
    "| `clear`   | /                                | Removes all the elements from the list |\n",
    "| `copy`    | /                                | Returns a copy of the list |\n",
    "| `count`   | element                          | Returns the number of times a specified value occurs in a list |\n",
    "| `extend`  | iterable                         | Adds elements of a list (or any iterable), to the end of the current list |\n",
    "| `index`   | element                          | Searches the list for a specified value and returns the position of where it was found |\n",
    "| `insert`  | position, element                | Adds an element at the specified position |\n",
    "| `pop`     | position                         | Removes the element at the specified position |\n",
    "| `remove`  | element                          | Removes the element with the specified value |\n",
    "| `reverse` | /                                | Reverses the order of the list |\n",
    "| `sort`    | reverse=True/False, key=function | Sorts the list |\n",
    "\n",
    "\n",
    "### Set\n",
    "\n",
    "Sets are unordered and mutable collections of unique elements. They provide efficient membership testing and operations like union, intersection, and difference. Sets do not allow duplicate values, making them useful for eliminating duplicates or checking for membership in a collection of items.\n",
    "\n",
    "**Creation**"
   ]
  },
  {
   "cell_type": "code",
   "execution_count": 29,
   "id": "45d9cecc",
   "metadata": {},
   "outputs": [],
   "source": [
    "st = set()                                    # empty\n",
    "st = {'apple', 'cherry', 'banana', 'orange'}"
   ]
  },
  {
   "cell_type": "markdown",
   "id": "bc4c50a5",
   "metadata": {},
   "source": [
    "**Access**"
   ]
  },
  {
   "cell_type": "code",
   "execution_count": 30,
   "id": "3623f605",
   "metadata": {},
   "outputs": [
    {
     "name": "stdout",
     "output_type": "stream",
     "text": [
      "apple\n",
      "orange\n",
      "banana\n",
      "cherry\n"
     ]
    }
   ],
   "source": [
    "for x in st:  # loop\n",
    "  print(x)"
   ]
  },
  {
   "cell_type": "markdown",
   "id": "c9832a6e",
   "metadata": {},
   "source": [
    "**Check Elements**"
   ]
  },
  {
   "cell_type": "code",
   "execution_count": 31,
   "id": "cf4d9acc",
   "metadata": {},
   "outputs": [
    {
     "name": "stdout",
     "output_type": "stream",
     "text": [
      "True\n",
      "False\n"
     ]
    }
   ],
   "source": [
    "print('cherry' in tp)\n",
    "print('cherry' not in tp)"
   ]
  },
  {
   "cell_type": "markdown",
   "id": "5e7df6da",
   "metadata": {},
   "source": [
    "**Insertion**"
   ]
  },
  {
   "cell_type": "code",
   "execution_count": 32,
   "id": "1475efae",
   "metadata": {},
   "outputs": [
    {
     "name": "stdout",
     "output_type": "stream",
     "text": [
      "{'strawberry', 'cherry', 'apple', 'orange', 'banana'}\n",
      "{'apple', 'orange', 'cherry', 'lemon', 'banana', 'lime'}\n",
      "{'apple', 'orange', 'banana', 'cherry'}\n",
      "{'strawberry', 'cherry', 'lemon', 'lime', 'apple', 'orange', 'banana'}\n"
     ]
    }
   ],
   "source": [
    "# 1) add: adds an element to the set\n",
    "\n",
    "st.add('strawberry')\n",
    "print(st)\n",
    "\n",
    "\n",
    "# 2) '|' operator or union method: return a set containing the union of sets\n",
    "\n",
    "st_original = {'apple', 'cherry', 'banana', 'orange'}\n",
    "st_plus = {'lemon', 'lime'}\n",
    "\n",
    "st_union = st_original | st_plus\n",
    "st_original.union(st_plus)\n",
    "\n",
    "print(st_union)\n",
    "print(st_original)\n",
    "\n",
    "\n",
    "# 3) update: update the set with the union of this set and others\n",
    "\n",
    "st.update(st_plus)\n",
    "print(st)"
   ]
  },
  {
   "cell_type": "markdown",
   "id": "b9bdf082",
   "metadata": {},
   "source": [
    "**Deletion**"
   ]
  },
  {
   "cell_type": "code",
   "execution_count": 33,
   "id": "798be694",
   "metadata": {},
   "outputs": [
    {
     "name": "stdout",
     "output_type": "stream",
     "text": [
      "{'strawberry', 'cherry', 'apple', 'orange', 'banana'}\n",
      "{'cherry', 'apple', 'orange', 'banana'}\n"
     ]
    }
   ],
   "source": [
    "# 1) remove / discard : removes the element with the specified value\n",
    "# - > discard doesn't give errors\n",
    "\n",
    "st.remove('lemon')\n",
    "st.discard('lime')\n",
    "print(st)\n",
    "\n",
    "\n",
    "# 2) pop: removes a random element from the set\n",
    "\n",
    "st.pop()\n",
    "print(st)\n",
    "\n",
    "\n",
    "# 3) del - > as the lists (but the index cannot be inserted)\n",
    "\n",
    "# del st\n",
    "\n",
    "\n",
    "# 4) clear\n",
    "\n",
    "# st.clear()\n",
    "# print(st)"
   ]
  },
  {
   "cell_type": "markdown",
   "id": "e649fb55",
   "metadata": {},
   "source": [
    "**Update:** impossible\n",
    "\n",
    "**Sort**"
   ]
  },
  {
   "cell_type": "code",
   "execution_count": 34,
   "id": "c2404f87",
   "metadata": {},
   "outputs": [
    {
     "name": "stdout",
     "output_type": "stream",
     "text": [
      "['apple', 'banana', 'cherry', 'orange']\n"
     ]
    }
   ],
   "source": [
    "# 1) conversion into a list\n",
    "\n",
    "# 2) sorted function\n",
    "\n",
    "st_sort = sorted(st)\n",
    "print(st_sort)"
   ]
  },
  {
   "cell_type": "markdown",
   "id": "852306eb",
   "metadata": {},
   "source": [
    "**Copy**"
   ]
  },
  {
   "cell_type": "code",
   "execution_count": 35,
   "id": "fc7108dd",
   "metadata": {},
   "outputs": [
    {
     "name": "stdout",
     "output_type": "stream",
     "text": [
      "{'apple', 'orange', 'banana', 'cherry'}\n",
      "{'apple', 'orange', 'banana', 'cherry'}\n"
     ]
    }
   ],
   "source": [
    "# 1) constructor\n",
    "\n",
    "st_copy = set(st)\n",
    "print(st_copy)\n",
    "\n",
    "\n",
    "# 2) copy: returns a copy of the set\n",
    "\n",
    "st_copy = st.copy()\n",
    "print(st_copy)"
   ]
  },
  {
   "cell_type": "markdown",
   "id": "9ad00196",
   "metadata": {},
   "source": [
    "**Unpack:** impossible\n",
    "\n",
    "**Comprehension**"
   ]
  },
  {
   "cell_type": "code",
   "execution_count": 36,
   "id": "43ec80e4",
   "metadata": {},
   "outputs": [
    {
     "name": "stdout",
     "output_type": "stream",
     "text": [
      "{'apple', 'orange', 'banana'}\n"
     ]
    }
   ],
   "source": [
    "st_new = {x for x in st if 'a' in x}\n",
    "print(st_new)"
   ]
  },
  {
   "cell_type": "markdown",
   "id": "b2a1edfa",
   "metadata": {},
   "source": [
    "**Methods**\n",
    "\n",
    "| Method                        | Paramethers     | Description |\n",
    "| :----:                        | :---------:     | :---------: |\n",
    "| `add`                         | element         | Adds an element to the set |\n",
    "| `clear`                       | /               | Removes all the elements from the set |\n",
    "| `copy`                        | /               | Returns a copy of the set |\n",
    "| `difference`                  | set             | Returns a set containing the difference between two sets |\n",
    "| `difference_update`           | set             | Removes the elements in this set that are also included in another specified set |\n",
    "| `discard`                     | value           | Removes the specified value |\n",
    "| `intersection`                | set1, ..., setN | Returns a set, that is the intersection of two other sets |\n",
    "| `intersection_update`         | set1, ..., setN | Removes the elements in this set that are not present in other specified sets |\n",
    "| `isdisjoint`                  | set             | Returns whether two sets have a intersection or not |\n",
    "| `issubset`                    | set             | Returns whether another set contains this set or not |\n",
    "| `issuperset`                  | set             | Returns whether this set contains another set or not |\n",
    "| `pop`                         | /               | Removes a random element from the set |\n",
    "| `remove`                      | element         | Removes the element with the specified value |\n",
    "| `symmetric_difference`        | set             | Returns a set with the symmetric differences of two sets |\n",
    "| `symmetric_difference_update` | set             | Inserts the symmetric differences from this set and another |\n",
    "| `union`                       | /               | Return a set containing the union of sets |\n",
    "| `update`                      | iterable        | Update the set with the union of this set and other iterables |\n",
    "\n",
    "\n",
    "### Dictionary\n",
    "\n",
    "Dictionaries are unordered collections of key-value pairs enclosed. They provide efficient value retrieval based on unique keys. Dictionaries allow for adding, modifying, and deleting key-value pairs, making them useful for organizing and accessing data based on custom identifiers.\n",
    "\n",
    "**Creation**"
   ]
  },
  {
   "cell_type": "code",
   "execution_count": 37,
   "id": "366cd2da",
   "metadata": {},
   "outputs": [],
   "source": [
    "dc = {\n",
    "  'brand': 'Ford',\n",
    "  'model': 'Mustang',\n",
    "  'year': 1964\n",
    "}"
   ]
  },
  {
   "cell_type": "markdown",
   "id": "c014099f",
   "metadata": {},
   "source": [
    "**Access**"
   ]
  },
  {
   "cell_type": "code",
   "execution_count": 38,
   "id": "65337bcc",
   "metadata": {},
   "outputs": [
    {
     "name": "stdout",
     "output_type": "stream",
     "text": [
      "brand\n",
      "model\n",
      "year\n",
      "brand\n",
      "model\n",
      "year\n"
     ]
    }
   ],
   "source": [
    "# 1) all keys\n",
    "\n",
    "for x in dc:\n",
    "  print(x)\n",
    "\n",
    "\n",
    "for x in dc.keys():\n",
    "  print(x)\n",
    "\n",
    "\n",
    "dc_key = dc.keys()  # list of keys"
   ]
  },
  {
   "cell_type": "code",
   "execution_count": 39,
   "id": "d4dc38bf",
   "metadata": {},
   "outputs": [
    {
     "name": "stdout",
     "output_type": "stream",
     "text": [
      "Ford\n",
      "Mustang\n",
      "1964\n",
      "Ford\n",
      "Mustang\n",
      "1964\n"
     ]
    }
   ],
   "source": [
    "# 2) all values\n",
    "\n",
    "for x in dc:\n",
    "  print(dc[x])\n",
    "\n",
    "\n",
    "for x in dc.values():\n",
    "  print(x)\n",
    "\n",
    "\n",
    "dc_val = dc.values()  # list of values"
   ]
  },
  {
   "cell_type": "code",
   "execution_count": 40,
   "id": "e99032fe",
   "metadata": {},
   "outputs": [
    {
     "name": "stdout",
     "output_type": "stream",
     "text": [
      "Mustang\n",
      "Mustang\n"
     ]
    }
   ],
   "source": [
    "# 3) specific value\n",
    "\n",
    "print(dc['model'])      # slicing\n",
    "\n",
    "print(dc.get('model'))  # get method"
   ]
  },
  {
   "cell_type": "code",
   "execution_count": 41,
   "id": "d3f3fc08",
   "metadata": {},
   "outputs": [
    {
     "name": "stdout",
     "output_type": "stream",
     "text": [
      "brand Ford\n",
      "model Mustang\n",
      "year 1964\n",
      "dict_items([('brand', 'Ford'), ('model', 'Mustang'), ('year', 1964)])\n"
     ]
    }
   ],
   "source": [
    "# 4) all items \n",
    "\n",
    "for x, y in dc.items():\n",
    "  print(x, y)\n",
    "\n",
    "\n",
    "dc_item = dc.items()  # list of items\n",
    "print(dc_item)"
   ]
  },
  {
   "cell_type": "markdown",
   "id": "17f9fed4",
   "metadata": {},
   "source": [
    "**Insertion**"
   ]
  },
  {
   "cell_type": "code",
   "execution_count": 42,
   "id": "7d24c609",
   "metadata": {},
   "outputs": [
    {
     "name": "stdout",
     "output_type": "stream",
     "text": [
      "{'brand': 'Ford', 'model': 'Mustang', 'year': 1964, 'speed': 300}\n",
      "{'brand': 'Ford', 'model': 'Mustang', 'year': 1964, 'speed': 300, 'color': 'red'}\n"
     ]
    }
   ],
   "source": [
    "# 1) slicing\n",
    "\n",
    "dc['speed'] = 300\n",
    "print(dc)\n",
    "\n",
    "\n",
    "# 2) update method\n",
    "\n",
    "dc.update({'color': 'red'})\n",
    "print(dc)"
   ]
  },
  {
   "cell_type": "markdown",
   "id": "f798928f",
   "metadata": {},
   "source": [
    "**Deletion**"
   ]
  },
  {
   "cell_type": "code",
   "execution_count": 43,
   "id": "57058f7b",
   "metadata": {},
   "outputs": [
    {
     "name": "stdout",
     "output_type": "stream",
     "text": [
      "{'brand': 'Ford', 'model': 'Mustang', 'year': 1964}\n",
      "{'brand': 'Ford', 'model': 'Mustang'}\n"
     ]
    }
   ],
   "source": [
    "# 1) pop / del : removes the item with the specified key\n",
    "# - > del can delete the whole dictionary\n",
    "\n",
    "dc.pop('speed')\n",
    "del dc['color']\n",
    "print(dc)\n",
    "\n",
    "\n",
    "# 2) popitem: removes the last inserted key-value pair\n",
    "\n",
    "dc.popitem()\n",
    "print(dc)\n",
    "\n",
    "\n",
    "# 3) clear: removes all the elements from the dictionary\n",
    "\n",
    "# dc.clear()\n",
    "# print(dc)"
   ]
  },
  {
   "cell_type": "markdown",
   "id": "fa31e5ba",
   "metadata": {},
   "source": [
    "**Update**"
   ]
  },
  {
   "cell_type": "code",
   "execution_count": 44,
   "id": "7f3de0f4",
   "metadata": {},
   "outputs": [
    {
     "name": "stdout",
     "output_type": "stream",
     "text": [
      "{'brand': 'Ferrari', 'model': 'California'}\n"
     ]
    }
   ],
   "source": [
    "dc['brand'] = 'Ferrari'\n",
    "dc['model'] = 'California'\n",
    "print(dc)"
   ]
  },
  {
   "cell_type": "markdown",
   "id": "6bc93370",
   "metadata": {},
   "source": [
    "**Sort**"
   ]
  },
  {
   "cell_type": "code",
   "execution_count": 45,
   "id": "723c1cae",
   "metadata": {},
   "outputs": [
    {
     "name": "stdout",
     "output_type": "stream",
     "text": [
      "['brand', 'model']\n",
      "['California', 'Ferrari']\n"
     ]
    }
   ],
   "source": [
    "dc_key_sort = sorted(dc.keys())\n",
    "dc_val_sort = sorted(dc.values())\n",
    "\n",
    "print(dc_key_sort)\n",
    "print(dc_val_sort)"
   ]
  },
  {
   "cell_type": "markdown",
   "id": "4f3f23cc",
   "metadata": {},
   "source": [
    "**Copy**"
   ]
  },
  {
   "cell_type": "code",
   "execution_count": 46,
   "id": "3482c3b8",
   "metadata": {},
   "outputs": [
    {
     "name": "stdout",
     "output_type": "stream",
     "text": [
      "{'brand': 'Ferrari', 'model': 'California'}\n",
      "{'brand': 'Ferrari', 'model': 'California'}\n"
     ]
    }
   ],
   "source": [
    "# 1) constructor\n",
    "\n",
    "dc_copy = dict(dc)\n",
    "print(dc_copy)\n",
    "\n",
    "\n",
    "# 2) copy method\n",
    "\n",
    "dc_copy = dc.copy()\n",
    "print(dc_copy)"
   ]
  },
  {
   "cell_type": "markdown",
   "id": "cdfeddb5",
   "metadata": {},
   "source": [
    "**Unpack**"
   ]
  },
  {
   "cell_type": "code",
   "execution_count": 47,
   "id": "31a4cceb",
   "metadata": {},
   "outputs": [],
   "source": [
    "brand, model = dc.keys()\n",
    "Ferrari, California = dc.values()"
   ]
  },
  {
   "cell_type": "markdown",
   "id": "6247e23c",
   "metadata": {},
   "source": [
    "**Comprehension**"
   ]
  },
  {
   "cell_type": "code",
   "execution_count": 48,
   "id": "41949403",
   "metadata": {},
   "outputs": [
    {
     "name": "stdout",
     "output_type": "stream",
     "text": [
      "{'brand': 'Ferrari', 'model': 'California'}\n"
     ]
    }
   ],
   "source": [
    "dc_new = {x: y for x, y in dc.items() if 'a' in y}\n",
    "print(dc_new)"
   ]
  },
  {
   "cell_type": "markdown",
   "id": "e6cbb930",
   "metadata": {},
   "source": [
    "**Methods**\n",
    "\n",
    "| Method       | Paramethers | Description |\n",
    "| :----:       | :---------: | :---------: |\n",
    "| `clear`      | /           | Removes all the elements from the set |\n",
    "| `copy`       | /           | Returns a copy of the set |\n",
    "| `fromkeys`   | keys, value | Returns a dictionary with the specified keys and value |\n",
    "| `get`        | key, value  | Returns the value of the specified key |\n",
    "| `items`      | /           | Returns a list containing a tuple for each key value pair |\n",
    "| `keys`       | /           | Returns a list containing the dictionary's keys |\n",
    "| `pop`        | key, value  | Removes the element with the specified key |\n",
    "| `popitem`    | /           | Removes the last inserted key-value pair |\n",
    "| `setdefault` | key, value  | Returns the value of the specified key; if the key does not exist, insert the key, with the specified value |\n",
    "| `values`     | /           | Returns a list of all the values in the dictionary |\n",
    "| `update`     | iterable    | Updates the dictionary with the union of this dictionary and other iterables |\n",
    "\n",
    "\n",
    "## Flow Control\n",
    "\n",
    "In programming, \"flow control\" refers to how a program manages the sequence of instructions or operations. It determines the order in which instructions are executed, allowing control over the path through which the program progresses. Flow control involves techniques such as conditions, loops, and control structures to direct program execution based on specific conditions or criteria. It is crucial for creating programs that perform desired operations consistently and handle different situations appropriately.\n",
    "\n",
    "### If-Else\n",
    "\n",
    "`if`: executes a block of code if a certain condition is true\\\n",
    "`elif`: provides an additional condition to check if the preceding if statement is false\\\n",
    "`else`: specifies a block of code to execute when all preceding conditions in the if and elif statements are false"
   ]
  },
  {
   "cell_type": "code",
   "execution_count": 49,
   "id": "629b9845",
   "metadata": {},
   "outputs": [
    {
     "name": "stdout",
     "output_type": "stream",
     "text": [
      "a is smaller than b\n"
     ]
    }
   ],
   "source": [
    "a = 5\n",
    "b = 10\n",
    "\n",
    "if a > b:\n",
    "  print('a is greater than b')\n",
    "elif a == b:\n",
    "  print('a and b are equal')\n",
    "else:\n",
    "  print('a is smaller than b')"
   ]
  },
  {
   "cell_type": "code",
   "execution_count": 50,
   "id": "5845d62d",
   "metadata": {},
   "outputs": [],
   "source": [
    "if a > b:  # if statement cannot be empty, so put the pass statement to avoid \n",
    "           # getting an error if there is no content\n",
    "  pass"
   ]
  },
  {
   "cell_type": "markdown",
   "id": "1b9d1ec2",
   "metadata": {},
   "source": [
    "### Try-Except\n",
    "\n",
    "`try`: tries to execute a block of code checking for exceptions\\\n",
    "`except`: catches and handles specific exceptions that may occur within the try block\\\n",
    "`else`: specifies a block of code to execute if no exceptions are raised in the try block"
   ]
  },
  {
   "cell_type": "code",
   "execution_count": 51,
   "id": "de70cdf4",
   "metadata": {},
   "outputs": [
    {
     "name": "stdout",
     "output_type": "stream",
     "text": [
      "An exception occurred\n",
      "Variable X is not defined\n",
      "Hello\n",
      "Nothing went wrong\n"
     ]
    }
   ],
   "source": [
    "try:\n",
    "  print(X)\n",
    "except:\n",
    "  print('An exception occurred')\n",
    "  \n",
    "try:\n",
    "  print(X)\n",
    "except NameError:\n",
    "  print('Variable X is not defined')\n",
    "except:\n",
    "  print('Something else went wrong')\n",
    "  \n",
    "try:\n",
    "  print('Hello')\n",
    "except:\n",
    "  print('Something went wrong')\n",
    "else:\n",
    "  print('Nothing went wrong')"
   ]
  },
  {
   "cell_type": "markdown",
   "id": "3b640dc8",
   "metadata": {},
   "source": [
    "### Loops\n",
    "\n",
    "`while`: executes a set of statements as long as a condition is true\\\n",
    "`for`: executes a set of statements, once for each item in an object\n",
    "\n",
    "`break`: stops the loop even if the while condition is true\\\n",
    "`continue`: stops the current iteration, and continue with the next\\\n",
    "`pass`: allows to avoid syntax errors and keep the structure of the code intact, even if there is no specific implementation for a certain part\n",
    "\n",
    "**While**"
   ]
  },
  {
   "cell_type": "code",
   "execution_count": 52,
   "id": "9d713c66",
   "metadata": {},
   "outputs": [
    {
     "name": "stdout",
     "output_type": "stream",
     "text": [
      "1\n",
      "2\n",
      "3\n",
      "4\n",
      "5\n",
      "6\n"
     ]
    }
   ],
   "source": [
    "i = 0       \n",
    "while i < 6:\n",
    "  i += 1\n",
    "  print(i)"
   ]
  },
  {
   "cell_type": "code",
   "execution_count": 53,
   "id": "f9dee836",
   "metadata": {},
   "outputs": [
    {
     "name": "stdout",
     "output_type": "stream",
     "text": [
      "1\n",
      "2\n",
      "4\n",
      "5\n",
      "6\n"
     ]
    }
   ],
   "source": [
    "i = 0\n",
    "while i < 6:\n",
    "  i += 1\n",
    "  if i == 3:\n",
    "    continue\n",
    "  print(i)"
   ]
  },
  {
   "cell_type": "code",
   "execution_count": 54,
   "id": "c1341e6f",
   "metadata": {},
   "outputs": [
    {
     "name": "stdout",
     "output_type": "stream",
     "text": [
      "1\n",
      "2\n"
     ]
    }
   ],
   "source": [
    "i = 0\n",
    "while i < 6:\n",
    "  i += 1\n",
    "  if i == 3:\n",
    "    break\n",
    "  print(i)"
   ]
  },
  {
   "cell_type": "markdown",
   "id": "16850db6",
   "metadata": {},
   "source": [
    "**For**"
   ]
  },
  {
   "cell_type": "code",
   "execution_count": 55,
   "id": "6a4d3160",
   "metadata": {},
   "outputs": [
    {
     "name": "stdout",
     "output_type": "stream",
     "text": [
      "1\n",
      "2\n",
      "3\n",
      "4\n",
      "5\n"
     ]
    }
   ],
   "source": [
    "for x in range(1, 6):\n",
    "  print(x)"
   ]
  },
  {
   "cell_type": "code",
   "execution_count": 56,
   "id": "a7d7f9a0",
   "metadata": {},
   "outputs": [
    {
     "name": "stdout",
     "output_type": "stream",
     "text": [
      "b\n",
      "a\n",
      "n\n",
      "a\n",
      "n\n",
      "a\n"
     ]
    }
   ],
   "source": [
    "for x in 'banana':  # loop through string\n",
    "  print(x)"
   ]
  },
  {
   "cell_type": "code",
   "execution_count": 57,
   "id": "aa0ded8e",
   "metadata": {},
   "outputs": [
    {
     "name": "stdout",
     "output_type": "stream",
     "text": [
      "apple\n",
      "banana\n",
      "cherry\n"
     ]
    }
   ],
   "source": [
    "fruits = ['apple', 'banana', 'cherry']  # loop through elements\n",
    "for x in fruits:\n",
    "  print(x)"
   ]
  },
  {
   "cell_type": "code",
   "execution_count": 58,
   "id": "bb4dd03b",
   "metadata": {},
   "outputs": [
    {
     "name": "stdout",
     "output_type": "stream",
     "text": [
      "red apple\n",
      "red banana\n",
      "red cherry\n",
      "big apple\n",
      "big banana\n",
      "big cherry\n",
      "tasty apple\n",
      "tasty banana\n",
      "tasty cherry\n"
     ]
    }
   ],
   "source": [
    "adj = ['red', 'big', 'tasty']           # nested loops\n",
    "fruits = ['apple', 'banana', 'cherry']\n",
    "for x in adj:\n",
    "  for y in fruits:\n",
    "    print(x, y)"
   ]
  },
  {
   "cell_type": "markdown",
   "id": "7cb88c1d",
   "metadata": {},
   "source": [
    "## Functions\n",
    "\n",
    "A function is a self-contained and reusable block of code that performs a specific task or set of tasks. Functions are designed to take input values (called parameters or arguments), process them, and often return a result. They are used to modularize code, promote reusability, and make programs more organized and maintainable. Functions play a fundamental role in structuring and managing the flow of a program's logic.\n",
    "\n",
    "The `def` statement is used to define functions, allowing the creation of reusable blocks of code. The `return` statement is used within a function to specify the value to be outputted or returned. It provides the result back to the caller and terminates the function."
   ]
  },
  {
   "cell_type": "code",
   "execution_count": 59,
   "id": "f1c1867b",
   "metadata": {},
   "outputs": [
    {
     "name": "stdout",
     "output_type": "stream",
     "text": [
      "Hello from a function\n"
     ]
    }
   ],
   "source": [
    "def my_function():                # simple function\n",
    "  print('Hello from a function')\n",
    "\n",
    "my_function()  # print a string"
   ]
  },
  {
   "cell_type": "code",
   "execution_count": 60,
   "id": "a1be0ee6",
   "metadata": {},
   "outputs": [
    {
     "name": "stdout",
     "output_type": "stream",
     "text": [
      "15\n"
     ]
    }
   ],
   "source": [
    "def my_function(x):  # function with a parameter and return\n",
    "  return 5 * x\n",
    "\n",
    "print(my_function(3))"
   ]
  },
  {
   "cell_type": "code",
   "execution_count": 61,
   "id": "f8f4f73f",
   "metadata": {},
   "outputs": [
    {
     "name": "stdout",
     "output_type": "stream",
     "text": [
      "I am from Germany\n"
     ]
    }
   ],
   "source": [
    "def my_function(country = 'Italy'):  # function with a default parameter\n",
    "  print('I am from ' + country)\n",
    "\n",
    "my_function('Germany')"
   ]
  },
  {
   "cell_type": "markdown",
   "id": "0d5f09d7",
   "metadata": {},
   "source": [
    "If the number of arguments to be passed into a function is unknown, add an `*` before the parameter name in the function definition. This way, the function will receive a tuple of parameters and can access the items accordingly."
   ]
  },
  {
   "cell_type": "code",
   "execution_count": 62,
   "id": "485ced6b",
   "metadata": {},
   "outputs": [
    {
     "name": "stdout",
     "output_type": "stream",
     "text": [
      "The youngest child is Linus\n"
     ]
    }
   ],
   "source": [
    "def my_function(*kids):  # function with an arbitrary number of parameters\n",
    "  print('The youngest child is ' + kids[2])\n",
    "\n",
    "my_function('Emil', 'Tobias', 'Linus')"
   ]
  },
  {
   "cell_type": "markdown",
   "id": "56c7bd8e",
   "metadata": {},
   "source": [
    "If the number of keyword arguments to be passed into the function is unknown, two asterisks `**` should be added before the parameter name in the function definition. This way, the function will receive a dictionary of arguments and can access the items accordingly."
   ]
  },
  {
   "cell_type": "code",
   "execution_count": 63,
   "id": "07fede73",
   "metadata": {},
   "outputs": [
    {
     "name": "stdout",
     "output_type": "stream",
     "text": [
      "His last name is Rossi\n"
     ]
    }
   ],
   "source": [
    "def my_function(**kid):\n",
    "  print('His last name is ' + kid['lname'])\n",
    "\n",
    "my_function(fname = 'Tobias', lname = 'Rossi')"
   ]
  },
  {
   "cell_type": "markdown",
   "id": "8bd13366",
   "metadata": {},
   "source": [
    "## Methods\n",
    "\n",
    "A method is a function that is associated with an object or a class. It defines the behavior or actions that objects of that class can perform. Methods operate on the data or attributes of an object and can be called to perform specific operations. Methods are a fundamental concept in object-oriented programming and help encapsulate behavior within objects, making code more organized and reusable.\n",
    "\n",
    "In python, functions can be called directly by their name and they operate on the input arguments provided to them, instead methods are accessed through objects and are called using the dot notation.\n",
    "\n",
    "\n",
    "## Classes\n",
    "\n",
    "In Python, classes are blueprints for creating objects that encapsulate data and functionality. They define the structure and behavior of objects through attributes (variables) and methods (specific functions). Classes provide a way to organize and modularize code, promoting code reusability and maintainability. Objects created from classes have their own unique state and can interact with each other through method calls and attribute access.\n",
    "\n",
    "`self` parameter: is a reference to the current instance of the class, and is used to access variables that belongs to the class; it can have any name\\\n",
    "`__init__()`: is always executed when the class is being initiated; it's used to assign values to object properties, or other operations that are necessary to do when the object is being created\\\n",
    "`__str__()`: controls what should be returned when the class object is represented as a string; if it's not set, the string representation of the object is returned"
   ]
  },
  {
   "cell_type": "code",
   "execution_count": 64,
   "id": "854950e4",
   "metadata": {},
   "outputs": [
    {
     "name": "stdout",
     "output_type": "stream",
     "text": [
      "John\n",
      "36\n",
      "John(36)\n",
      "Hello, my name is John\n"
     ]
    }
   ],
   "source": [
    "class Person:\n",
    "\n",
    "  def __init__(self, name, age):\n",
    "    self.name = name\n",
    "    self.age = age\n",
    "\n",
    "  def __str__(self):\n",
    "    return f'{self.name}({self.age})'\n",
    "    \n",
    "  def my_function(self):\n",
    "    print('Hello, my name is ' + self.name)\n",
    "\n",
    "person_1 = Person('John', 36)\n",
    "\n",
    "print(person_1.name)\n",
    "print(person_1.age)\n",
    "print(person_1)\n",
    "person_1.my_function()"
   ]
  },
  {
   "cell_type": "markdown",
   "id": "13945607",
   "metadata": {},
   "source": [
    "The methods we’ve seen so far are sometimes calles \"regular\" methods, they act on an instance of the class (i.e., take self as an argument). There are also class methods that act on the actual class. Class methods are often used as constructors and they are defined using the `@classmethod` decorator."
   ]
  },
  {
   "cell_type": "code",
   "execution_count": 65,
   "id": "cc8710ec",
   "metadata": {},
   "outputs": [
    {
     "data": {
      "text/plain": [
       "'John Rambo'"
      ]
     },
     "execution_count": 65,
     "metadata": {},
     "output_type": "execute_result"
    }
   ],
   "source": [
    "class Member:\n",
    "\n",
    "    def __init__(self, first, last):\n",
    "        self.first = first\n",
    "        self.last = last\n",
    "        self.email = first.lower() + '.' + last.lower() + '@gmail.com'\n",
    "        \n",
    "    def full_name(self):\n",
    "        return f'{self.first} {self.last}'\n",
    "    \n",
    "    @classmethod                           # decorator\n",
    "    def from_csv(cls, csv_name):\n",
    "        first, last = csv_name.split(',')\n",
    "        return cls(first, last)\n",
    "\n",
    "member_1 = Member.from_csv('John,Rambo')\n",
    "member_1.full_name()"
   ]
  },
  {
   "cell_type": "markdown",
   "id": "ae32cfaa",
   "metadata": {},
   "source": [
    "There is a third kind of method called a static method. Static methods do not operate on either the instance or the class, they are just simple functions. But we might want to include them in the class because they are somehow related to the class. They are defined using the `@staticmethod` decorator.\n",
    "\n",
    "\n",
    "## Libraries\n",
    "\n",
    "Libraries are pre-written collections of code modules or functions that offer specific functionalities. They simplify development by providing ready-made solutions for common tasks, saving time and effort. Libraries are essential for reusing code, enhancing efficiency, and building upon existing code to create software applications."
   ]
  }
 ],
 "metadata": {
  "jupytext": {
   "formats": "md:myst",
   "text_representation": {
    "extension": ".md",
    "format_name": "myst",
    "format_version": 0.13,
    "jupytext_version": "1.11.5"
   }
  },
  "kernelspec": {
   "display_name": "Python 3",
   "language": "python",
   "name": "python3"
  },
  "language_info": {
   "codemirror_mode": {
    "name": "ipython",
    "version": 3
   },
   "file_extension": ".py",
   "mimetype": "text/x-python",
   "name": "python",
   "nbconvert_exporter": "python",
   "pygments_lexer": "ipython3",
   "version": "3.8.18"
  },
  "source_map": [
   13,
   23,
   25,
   29,
   33,
   37,
   43,
   51,
   167,
   174,
   181,
   186,
   192,
   219,
   223,
   227,
   232,
   236,
   239,
   243,
   252,
   256,
   262,
   266,
   268,
   272,
   280,
   284,
   295,
   299,
   302,
   306,
   309,
   325,
   328,
   332,
   337,
   341,
   344,
   348,
   374,
   378,
   402,
   406,
   409,
   413,
   430,
   434,
   450,
   454,
   457,
   461,
   464,
   489,
   492,
   496,
   499,
   503,
   506,
   510,
   533,
   537,
   561,
   567,
   574,
   578,
   589,
   595,
   598,
   629,
   635,
   639,
   653,
   667,
   675,
   684,
   688,
   699,
   703,
   722,
   726,
   730,
   734,
   740,
   744,
   755,
   759,
   762,
   766,
   769,
   798,
   810,
   814,
   823,
   842,
   856,
   863,
   872,
   879,
   883,
   888,
   893,
   899,
   905,
   914,
   921,
   928,
   933,
   937,
   942,
   946,
   951,
   969,
   988,
   992,
   1010
  ]
 },
 "nbformat": 4,
 "nbformat_minor": 5
}