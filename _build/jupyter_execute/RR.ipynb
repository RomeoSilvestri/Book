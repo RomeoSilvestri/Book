{
 "cells": [
  {
   "cell_type": "markdown",
   "id": "b5455c68",
   "metadata": {},
   "source": [
    "# R\n",
    "\n",
    "**Output:**\n",
    "\n",
    "Print strings: *print*\\\n",
    "Print strings + variables: *paste*, *paste0*"
   ]
  },
  {
   "cell_type": "code",
   "execution_count": null,
   "id": "d3dc5074",
   "metadata": {},
   "outputs": [],
   "source": [
    "print('Hello World!')\n",
    "\n",
    "one=1\n",
    "print(paste(\"Hello World! I'm the number:\", one))    # print with space\n",
    "print(paste0(\"Hello World! I'm the number: \", one))  # print without space"
   ]
  },
  {
   "cell_type": "markdown",
   "id": "3ca788ca",
   "metadata": {},
   "source": [
    "**Basic arithmetic operations:**\n",
    "\n",
    "\\+ addition, - subtraction, * multiplication, / division\\\n",
    "^ power, %% modulus, %/% integer division\\\n",
    "\n",
    "*Comparison*\n",
    "== equal, != not equal\\\n",
    "< less than, <= less than or equal to, > greater than, >= greater than or equal to\\\n",
    "\n",
    "*Logical*\n",
    "& and, | or, !() not\\\n",
    "&& , ||  lazy versions (the execution of an operation is aborted as soon as a condition is not met)\\\n",
    "\\\n",
    "*Identity*\\\n",
    "Identity operators are used to compare the objects, not if they are equal,\\\n",
    "but if they are actually the same object, with the same memory location\\\n",
    "is, is not\\\n",
    "\\\n",
    "*Membership*\\\n",
    "Membership operators are used to test if a sequence is presented in an object\\\n",
    "%in%"
   ]
  },
  {
   "cell_type": "code",
   "execution_count": null,
   "id": "288b10e7",
   "metadata": {},
   "outputs": [],
   "source": [
    "5 + 2    # -> 7\n",
    "5 - 2    # -> 3\n",
    "5 * 2    # -> 10\n",
    "5 / 2    # -> 2.5\n",
    "5 ^ 2    # -> 25\n",
    "5 %% 2   # -> 1\n",
    "5 %/% 2  # -> 2\n",
    "\n",
    "5 == 2  # -> False  comparison\n",
    "5 != 2  # -> True\n",
    "\n",
    "5 > 2 & 5 < 10     # -> True  logical\n",
    "5 > 10 | 5 < 10    # -> True\n",
    "!(5 > 2 & 5 < 10)  # -> False"
   ]
  },
  {
   "cell_type": "markdown",
   "id": "b4bb0b2f",
   "metadata": {},
   "source": [
    "**Basic arithmetic functions:**\\\n",
    "Exponential and Logarithm: exp(), log()\\\n",
    "Trigonometric functions: sin(), cos(), tan(), asin(), acos(), atan()\\\n",
    "Other mathematical functions: abs(), sqrt()"
   ]
  },
  {
   "cell_type": "code",
   "execution_count": null,
   "id": "ec1a5da7",
   "metadata": {},
   "outputs": [],
   "source": [
    "exp(5)    # -> 148.413\n",
    "log(5)    # -> 1.609  natural logarithm\n",
    "log(5,2)  # -> 2.322  logarithm in base 2\n",
    "sin(0.5)  # -> 0.479\n",
    "abs(-5)   # -> 5"
   ]
  },
  {
   "cell_type": "markdown",
   "id": "bbe762b1",
   "metadata": {},
   "source": [
    "\\\n",
    "**Variables:**\\\n",
    "\\\n",
    "*Data Types*\\\n",
    "Numeric Types: *integer*, *numeric*, *complex*\\\n",
    "Text Type: *character*\\\n",
    "Boolean Type:\t*logical*\\\n",
    "Binary Types:\t*raw*"
   ]
  },
  {
   "cell_type": "code",
   "execution_count": null,
   "id": "eb7760b2",
   "metadata": {},
   "outputs": [],
   "source": [
    "# Assignment\n",
    "\n",
    "x = 5\n",
    "y = 'John'\n",
    "a = b = c = 'apple'  # multiple assignment\n",
    "\n",
    "\n",
    "# Casting\n",
    "\n",
    "d = as.integer(5.8)  # -> 5\n",
    "d = as.integer('5')  # -> 5\n",
    "d = as.numeric(5)    # -> 5.0\n",
    "d = as.character(5)  # -> '5'\n",
    "\n",
    "\n",
    "# Get Type\n",
    "\n",
    "typeof(x)  # basic type of the object\n",
    "class(x)   # class of the object, which may be a base class or a user-defined class\n",
    "mode(x)    # mode of the object, which indicates how the data is stored in memory"
   ]
  }
 ],
 "metadata": {
  "jupytext": {
   "formats": "md:myst",
   "text_representation": {
    "extension": ".md",
    "format_name": "myst",
    "format_version": 0.13,
    "jupytext_version": "1.11.5"
   }
  },
  "kernelspec": {
   "display_name": "R",
   "language": "R",
   "name": "ir"
  },
  "source_map": [
   13,
   22,
   28,
   51,
   66,
   72,
   78,
   88
  ]
 },
 "nbformat": 4,
 "nbformat_minor": 5
}