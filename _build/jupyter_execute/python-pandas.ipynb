{
 "cells": [
  {
   "cell_type": "markdown",
   "id": "4866829a",
   "metadata": {},
   "source": [
    "# Pandas\n",
    "\n",
    "Pandas is a powerful Python library for data manipulation and analysis. It provides data structures and functions to efficiently work with structured data, such as tabular data and time series. Pandas introduces two primary data structures, namely Series and DataFrame, which allow for easy indexing, slicing, filtering, and transformation of data. With Pandas, you can handle missing data, perform statistical calculations, apply data reshaping operations, and visualize data. It also integrates well with other libraries, such as NumPy and Matplotlib, making it a popular choice for data analysis tasks, data cleaning, preprocessing, and exploratory data analysis (EDA)."
   ]
  },
  {
   "cell_type": "code",
   "execution_count": null,
   "id": "a17e91c9",
   "metadata": {},
   "outputs": [],
   "source": [
    "import pandas as pd"
   ]
  },
  {
   "cell_type": "markdown",
   "id": "62357d66",
   "metadata": {},
   "source": [
    "## Series\n",
    "\n",
    "### Creation"
   ]
  },
  {
   "cell_type": "code",
   "execution_count": null,
   "id": "14bd4935",
   "metadata": {},
   "outputs": [],
   "source": [
    "sr = pd.Series(data = [10, 20, 30], name = 'sum_10')  # simple creation with name\n",
    "sr"
   ]
  },
  {
   "cell_type": "code",
   "execution_count": null,
   "id": "21ef5e23",
   "metadata": {},
   "outputs": [],
   "source": [
    "sr2 = pd.Series(data = [10, 20, 30],  # creation with indexes\n",
    "          index = ['a', 'b', 'c'])\n",
    "sr2"
   ]
  },
  {
   "cell_type": "code",
   "execution_count": null,
   "id": "6c9dfb77",
   "metadata": {},
   "outputs": [],
   "source": [
    "sr3 = pd.Series(data = {'a': 10, 'b': 20, 'c': 30})  # creation from dictionary\n",
    "sr3"
   ]
  },
  {
   "cell_type": "markdown",
   "id": "fa8fe1f5",
   "metadata": {},
   "source": [
    "`name`: returns the name of the series\\\n",
    "`rename`: changes the name\\\n",
    "`dtype`: returns the type of the elements in the series\\\n",
    "`index`: returns the indexes of the series\\\n",
    "`to_numpy`: access data underlying the array"
   ]
  },
  {
   "cell_type": "code",
   "execution_count": null,
   "id": "8d147b6d",
   "metadata": {},
   "outputs": [],
   "source": [
    "print(sr.name)\n",
    "print(sr.rename('sum'))\n",
    "print(sr.dtype)\n",
    "print(sr.index)\n",
    "print(sr.to_numpy())"
   ]
  },
  {
   "cell_type": "markdown",
   "id": "b544fcef",
   "metadata": {},
   "source": [
    "### Access, Operations, Functions\n",
    "\n",
    "Just as Numpy's arrays\n",
    "\n",
    "\n",
    "### Series of Strings Methods\n",
    "\n",
    "| Method | Paramethers | Description |\n",
    "| :----: | :---------: | :---------: |\n",
    "| `str.cat`         | others=None, sep=None | Concatenates strings in the series with given separator |\n",
    "| `str.split`       | pat*=None, n=-1       | Splits strings in the series around given separator from the beginning |\n",
    "| `str.rsplit`      | pat*=None, n=-1       | Splits strings in the series around given separator from the end |\n",
    "| `str.get`         | i                     | Extracts element from each component at specified position in the series |\n",
    "| `str.join`        | sep                   | Joins lists contained as elements in the series with passed delimiter |\n",
    "| `str.get_dummies` | sep*='|'              | Splits strings on the separator returning dataframe of dummy variables |\n",
    "| `str.contains`    | pat, regex*=True      | Returns boolean series if each string contains pattern/regex |\n",
    "| `str.replace`     | pat, repl, n=-1, regex*=True | Replaces occurrences of pattern/regex with some other string or the return value of a callable given the occurrence |\n",
    "\n",
    "Others as python-basics: `str.capitalize`, `str.casefold`, `str.lower`, `str.upper`, `str.len`, ...\n",
    "\n",
    "\n",
    "## Dataframe\n",
    "\n",
    "### Creation"
   ]
  },
  {
   "cell_type": "code",
   "execution_count": null,
   "id": "09d4a781",
   "metadata": {},
   "outputs": [],
   "source": [
    "df = pd.DataFrame([[1, 2, 3],  # simple dataframe creation (from lists)\n",
    "              [4, 5, 6],\n",
    "              [7, 8, 9]])"
   ]
  },
  {
   "cell_type": "code",
   "execution_count": null,
   "id": "92566aca",
   "metadata": {},
   "outputs": [],
   "source": [
    "df = pd.DataFrame([[1, 2, 3],  # creation with indexes and colunms names\n",
    "              [4, 5, 6],\n",
    "              [7, 8, 9]],\n",
    "             index = ['R1', 'R2', 'R3'],\n",
    "             columns = ['C1', 'C2', 'C3'])"
   ]
  },
  {
   "cell_type": "markdown",
   "id": "de8d5b58",
   "metadata": {},
   "source": [
    "**Creation from a Support**\n",
    "\n",
    "| Support | Example |\n",
    "| :-----: | :-----: |\n",
    "| Array | `pd.DataFrame(np.array([['Tom', 7], ['Mike', 15], ['Tiffany', 3]]))` |\n",
    "| Dictionary | `pd.DataFrame({'Name': ['Tom', 'Mike', 'Tiffany'], 'Number': [7, 15, 3]})` |\n",
    "| List | `pd.DataFrame([['Tom', 7], ['Mike', 15], ['Tiffany', 3]])` |\n",
    "| List of Dictionaries | `pd.DataFrame({'Name': 'Tom', 'Number': 7}, {'Name': 'Mike', 'Number': 15}, {'Name': 'Tiffany', 'Number': 3}` |\n",
    "| Series | `pd.DataFrame({'Name': pd.Series(['Tom', 'Mike', 'Tiffany']), 'Number': pd.Series([7, 15, 3])})` |\n",
    "| Tuple | `pd.DataFrame(zip(['Tom', 'Mike', 'Tiffany'], [7, 15, 3]))` |\n",
    "\n",
    "**Creation from File**\n",
    "\n",
    "| File | Function |\n",
    "| :--: | :------: |\n",
    "| CSV | `read_csv` |\n",
    "| Excel | `read_excel` |\n",
    "| Html | `read_html` |\n",
    "| Json | `read_json` |\n",
    "| Text | `read_csv` with `delimiter='\\t'` |\n",
    "\n",
    "### Access\n",
    "\n",
    "1) Indexing with `[]`"
   ]
  },
  {
   "cell_type": "code",
   "execution_count": null,
   "id": "94a1e39a",
   "metadata": {},
   "outputs": [],
   "source": [
    "df['C1']  # returns a series from a column"
   ]
  },
  {
   "cell_type": "code",
   "execution_count": null,
   "id": "663bca2c",
   "metadata": {},
   "outputs": [],
   "source": [
    "df[['C1']]  # returns a dataframe from a column\n",
    "\n",
    "# df[0:1]  returns a dataframe from a row"
   ]
  },
  {
   "cell_type": "code",
   "execution_count": null,
   "id": "97169c5f",
   "metadata": {},
   "outputs": [],
   "source": [
    "df[['C1', 'C2']]  # returns a dataframe with multiple columns\n",
    "\n",
    "# df[0:2]  returns a dataframe with multiple rows"
   ]
  },
  {
   "cell_type": "markdown",
   "id": "9dd07ba7",
   "metadata": {},
   "source": [
    "2) Boolean indexing\n",
    "\n",
    "Boolean indexing in Pandas is a technique where you filter rows from a DataFrame by using a series of boolean values. Each boolean value indicates whether a specific condition is met for its corresponding row. By applying this boolean series as an index to the DataFrame, you retrieve only the rows that fulfill the condition. It's a convenient method for extracting subsets of data that adhere to specific logical requirements."
   ]
  },
  {
   "cell_type": "code",
   "execution_count": null,
   "id": "8de77884",
   "metadata": {},
   "outputs": [],
   "source": [
    "df[df['C1'] > 1]"
   ]
  },
  {
   "cell_type": "markdown",
   "id": "69122ba2",
   "metadata": {},
   "source": [
    "It returns an Object for single selection, Series for one row/column, otherwise DataFrame\n",
    "\n",
    "3) `loc` method\n",
    "\n",
    "Using the `loc` function in Pandas involves selecting data from a DataFrame based on label-based indexing. You specify row and column labels to access specific data points. This method is particularly useful when you want to work with data using its meaningful labels rather than numeric positions. It provides a convenient way to extract data based on labels, enhancing readability and understanding."
   ]
  },
  {
   "cell_type": "code",
   "execution_count": null,
   "id": "40c292d9",
   "metadata": {},
   "outputs": [],
   "source": [
    "df.loc[['R1', 'R2'], ['C1']]"
   ]
  },
  {
   "cell_type": "markdown",
   "id": "852b6a23",
   "metadata": {},
   "source": [
    "It returns an Object for single selection, Series for one row/column, otherwise DataFrame\n",
    "\n",
    "4) `iloc` method\n",
    "\n",
    "Using `iloc` in Pandas means selecting data from a DataFrame by specifying integer-based row and column indices. This approach lets you retrieve data using numerical positions, offering a precise way to extract information from specific locations within the DataFrame. It's particularly useful for numeric-oriented data retrieval tasks."
   ]
  },
  {
   "cell_type": "code",
   "execution_count": null,
   "id": "d6bc2955",
   "metadata": {},
   "outputs": [],
   "source": [
    "df.iloc[[0, 1], [0]]"
   ]
  },
  {
   "cell_type": "markdown",
   "id": "6834acb7",
   "metadata": {},
   "source": [
    "It returns an Object for single selection, Series for one row/column, otherwise DataFrame\n",
    "\n",
    "5) `query` method\n",
    "\n",
    "The `query` function in Pandas allows you to filter a DataFrame by providing a string expression that represents a condition. This expression is evaluated to produce a boolean series that identifies rows matching the condition. This function simplifies the process of filtering data based on specific criteria, making the code more concise and readable. It's a helpful tool for selecting rows that meet certain conditions in a more intuitive and SQL-like manner."
   ]
  },
  {
   "cell_type": "code",
   "execution_count": null,
   "id": "7f15c338",
   "metadata": {},
   "outputs": [],
   "source": [
    "df.query('C1 > 1 & C2 == 5')"
   ]
  },
  {
   "cell_type": "markdown",
   "id": "55e3f6b0",
   "metadata": {},
   "source": [
    "It returns an Object for single selection, Series for one row/column, otherwise DataFrame\n",
    "\n",
    "### Inspection"
   ]
  },
  {
   "cell_type": "code",
   "execution_count": null,
   "id": "2aeb50c5",
   "metadata": {},
   "outputs": [],
   "source": [
    "df = pd.read_csv('cycling_data.csv')"
   ]
  },
  {
   "cell_type": "markdown",
   "id": "89cee3bf",
   "metadata": {},
   "source": [
    "`head`: returns the firsts n rows (default = 5) of the dataframe\\\n",
    "`tail`: returns the lasts n rows (default = 5) of the dataframe\\\n",
    "`shape`: returns the shape of the dataframe\\\n",
    "`dtypes`: returns the type of the elements in the dataframe\\\n",
    "`info`: returns information about the dataframe itself, such as dtypes, memory usages and non-null values\\\n",
    "`describe`: provides summary statistics of the values within a dataframe\n",
    "\n",
    "Examples:"
   ]
  },
  {
   "cell_type": "code",
   "execution_count": null,
   "id": "0f585b55",
   "metadata": {},
   "outputs": [],
   "source": [
    "df.head(10)  # shows the firsts 10 rows"
   ]
  },
  {
   "cell_type": "code",
   "execution_count": null,
   "id": "c6413a99",
   "metadata": {},
   "outputs": [],
   "source": [
    "df.tail(10)  # shows the lasts 10 rows"
   ]
  },
  {
   "cell_type": "code",
   "execution_count": null,
   "id": "a4cc82cf",
   "metadata": {},
   "outputs": [],
   "source": [
    "df.shape  # shape[0] are rows, shape[1] are columns"
   ]
  },
  {
   "cell_type": "code",
   "execution_count": null,
   "id": "691b14f4",
   "metadata": {},
   "outputs": [],
   "source": [
    "df.dtypes"
   ]
  },
  {
   "cell_type": "code",
   "execution_count": null,
   "id": "02ce0012",
   "metadata": {},
   "outputs": [],
   "source": [
    "df.info()"
   ]
  },
  {
   "cell_type": "code",
   "execution_count": null,
   "id": "cb08b2c0",
   "metadata": {},
   "outputs": [],
   "source": [
    "df.describe()\n",
    "\n",
    "# df.describe(include='all')  include all the summaries"
   ]
  },
  {
   "cell_type": "markdown",
   "id": "5d3927dd",
   "metadata": {},
   "source": [
    "### View vs Copy\n",
    "\n",
    "A **view** of a DataFrame is a representation that provides access to a subset of the original data. Changes made to the view will affect the original DataFrame, as they both share the same underlying data.\n",
    "\n",
    "A **copy** of a DataFrame is an independent duplicate with identical data to the original at the time of copying. Modifications to a copy do not impact the original DataFrame, and vice versa."
   ]
  },
  {
   "cell_type": "code",
   "execution_count": null,
   "id": "cfd94cde",
   "metadata": {},
   "outputs": [],
   "source": [
    "df_copy = df.copy()"
   ]
  },
  {
   "cell_type": "markdown",
   "id": "5c550296",
   "metadata": {},
   "source": [
    "It is important to note that accessing the dataframe via [], Boolean indexing, or query generates a copy of the original dataframe, whereas the loc and iloc functions use a view. Consequently, it is necessary to use these two functions to modify values within the original dataset.\n",
    "\n",
    "### Operations\n",
    "\n",
    "**Rename**"
   ]
  },
  {
   "cell_type": "code",
   "execution_count": null,
   "id": "308dfef8",
   "metadata": {},
   "outputs": [],
   "source": [
    "df = df.rename(columns={'Date': 'Datetime', 'Comments': 'Notes'})  # rename columns\n",
    "# df.rename(columns={'Date': 'Datetime', 'Comments': 'Notes'}, inplace=True)  equivalent\n",
    "\n",
    "df.head()"
   ]
  },
  {
   "cell_type": "code",
   "execution_count": null,
   "id": "7a112c58",
   "metadata": {},
   "outputs": [],
   "source": [
    "df = df.rename(index={0: 'row_1', 2: 'row_3'})  # rename rows\n",
    "# df.rename(index={0: 'row_1', 2: 'row_3'}, inplace=True)  equivalent\n",
    "\n",
    "df.head()"
   ]
  },
  {
   "cell_type": "code",
   "execution_count": null,
   "id": "c64977e3",
   "metadata": {},
   "outputs": [],
   "source": [
    "df = df.set_index('Datetime')\n",
    "df.head()"
   ]
  },
  {
   "cell_type": "code",
   "execution_count": null,
   "id": "e9fd782e",
   "metadata": {},
   "outputs": [],
   "source": [
    "df = df.reset_index()\n",
    "df.head()"
   ]
  },
  {
   "cell_type": "markdown",
   "id": "e519dc93",
   "metadata": {},
   "source": [
    "**Add** and **Remove**\n",
    "\n",
    "This section only considers cases where only one row/column is to be added or deleted. The results can be easily generalized to the case of multiple rows or columns (see also the next section), for example, using Dataframes instead of Series.\n",
    "\n",
    "1) Add Column"
   ]
  },
  {
   "cell_type": "code",
   "execution_count": null,
   "id": "88de54e4",
   "metadata": {},
   "outputs": [],
   "source": [
    "df['Avg Speed'] = df['Distance'] * 1000 / df['Time']  # direct method (using series)\n",
    "# df['Avg Speed'] = pd.Series([6, 5, 6, ...])  example with explicit series\n",
    "\n",
    "# Alternatives\n",
    "# 1) df.loc[:, 'Avg Speed'] = df['Distance'] * 1000 / df['Time']  # loc\n",
    "# 2) df.iloc[:, df.shape[1]] = df['Distance'] * 1000 / df['Time']  #iloc\n",
    "#    df.columns = [*df.columns[:-1], 'Avg Speed']\n",
    "\n",
    "df.head()"
   ]
  },
  {
   "cell_type": "markdown",
   "id": "ea2f9dcd",
   "metadata": {},
   "source": [
    "2) Remove Column"
   ]
  },
  {
   "cell_type": "code",
   "execution_count": null,
   "id": "3d2c672e",
   "metadata": {},
   "outputs": [],
   "source": [
    "df = df.drop(columns=['Avg Speed'])\n",
    "df.head()"
   ]
  },
  {
   "cell_type": "markdown",
   "id": "7890b83b",
   "metadata": {},
   "source": [
    "3) Add Row"
   ]
  },
  {
   "cell_type": "code",
   "execution_count": null,
   "id": "ae597b82",
   "metadata": {},
   "outputs": [],
   "source": [
    "new_row = pd.Series(['12 Oct 2019, 00:10:57', 'Morning Ride', 'Ride',\n",
    "                    2331, 12.67, 'Washed and oiled bike last night'],\n",
    "                    index = df.columns)\n",
    "df.loc[df.index.max() + 1] = new_row\n",
    "\n",
    "# Alternative\n",
    "# df.iloc[df.shape[0]] = new_row\n",
    "\n",
    "df.tail()"
   ]
  },
  {
   "cell_type": "markdown",
   "id": "869492af",
   "metadata": {},
   "source": [
    "4) Remove Row"
   ]
  },
  {
   "cell_type": "code",
   "execution_count": null,
   "id": "5fef4023",
   "metadata": {},
   "outputs": [],
   "source": [
    "df = df.drop(index=[30, 31, 32, 33])\n",
    "# df = df.drop(index=df.index[30:])  equivalent\n",
    "\n",
    "df.tail()"
   ]
  },
  {
   "cell_type": "markdown",
   "id": "82515a30",
   "metadata": {},
   "source": [
    "**Reshape**\n",
    "\n",
    "1) Pivot\n",
    "\n",
    "![](reshaping_pivot.png)"
   ]
  },
  {
   "cell_type": "code",
   "execution_count": null,
   "id": "c4a75cc4",
   "metadata": {},
   "outputs": [],
   "source": [
    "df = pd.DataFrame({'foo': ['one', 'one', 'one', 'two', 'two', 'two'],\n",
    "                    'bar': ['A', 'B', 'C', 'A', 'B', 'C'],\n",
    "                    'baz': [1, 2, 3, 4, 5, 6],\n",
    "                    'zoo': ['x', 'y', 'z', 'q', 'w', 't']})\n",
    "df.pivot(index = 'foo', columns = 'bar', values = 'baz')"
   ]
  },
  {
   "cell_type": "markdown",
   "id": "12f7eaea",
   "metadata": {},
   "source": [
    "2) Stack\n",
    "\n",
    "![](reshaping_stack.png)"
   ]
  },
  {
   "cell_type": "code",
   "execution_count": null,
   "id": "c2f3e94f",
   "metadata": {},
   "outputs": [],
   "source": [
    "index_tuples = [('bar', 'one'), ('bar', 'two'), ('baz', 'one'), ('baz', 'two')]\n",
    "multi_index = pd.MultiIndex.from_tuples(index_tuples, names=['first', 'second'])\n",
    "\n",
    "data = {'A': [1, 3, 5, 7],\n",
    "        'B': [2, 4, 6, 8]}\n",
    "df2 = pd.DataFrame(data, index=multi_index)\n",
    "\n",
    "df_stacked = df2.stack()\n",
    "df_stacked"
   ]
  },
  {
   "cell_type": "markdown",
   "id": "804947b4",
   "metadata": {},
   "source": [
    "3) Unstack\n",
    "\n",
    "![](reshaping_unstack.png)\n",
    "![](reshaping_unstack_0.png)\n",
    "![](reshaping_unstack_1.png)"
   ]
  },
  {
   "cell_type": "code",
   "execution_count": null,
   "id": "8bde1c01",
   "metadata": {},
   "outputs": [],
   "source": [
    "df_stacked.unstack()\n",
    "\n",
    "# df_stacked.unstack(0)  or  df_stacked.unstack('first')\n",
    "# df_stacked.unstack(1)  or  df_stacked.unstack('second')"
   ]
  },
  {
   "cell_type": "markdown",
   "id": "f017ca08",
   "metadata": {},
   "source": [
    "4) Melt\n",
    "\n",
    "![](reshaping_melt.png)"
   ]
  },
  {
   "cell_type": "code",
   "execution_count": null,
   "id": "c28bcd90",
   "metadata": {},
   "outputs": [],
   "source": [
    "df3 = pd.DataFrame({'first': ['John', 'Mary'],\n",
    "                    'last': ['Doe', 'Bo'],\n",
    "                    'height': [5.5, 6.0],\n",
    "                    'weight': [130, 150]})\n",
    "                    \n",
    "df3.melt(id_vars=['first', 'last'])"
   ]
  },
  {
   "cell_type": "markdown",
   "id": "4eb7b769",
   "metadata": {},
   "source": [
    "**Multiple Dataframes**\n",
    "\n",
    "Concatenating two DataFrames in pandas is the process of combining them together to create a single DataFrame. This can be done either by concatenating along rows, which results in vertically stacking the DataFrames, or by concatenating along columns, which results in horizontally expanding the DataFrame. The distinction lies in whether the DataFrames are being extended vertically (rows) or horizontally (columns). The `concat` function in pandas is used for this operation, allowing for flexible combination of DataFrames based on the desired axis."
   ]
  },
  {
   "cell_type": "code",
   "execution_count": null,
   "id": "8805f06d",
   "metadata": {},
   "outputs": [],
   "source": [
    "df1 = pd.DataFrame({'A': [1, 3, 5],\n",
    "                    'B': [2, 4, 6]})\n",
    "df2 = pd.DataFrame({'A': [7, 9, 11],\n",
    "                    'B': [8, 10, 12]})"
   ]
  },
  {
   "cell_type": "code",
   "execution_count": null,
   "id": "0e46b234",
   "metadata": {},
   "outputs": [],
   "source": [
    "pd.concat((df1, df2), axis=0, ignore_index=True)  # concatenate by rows"
   ]
  },
  {
   "cell_type": "code",
   "execution_count": null,
   "id": "5e585d67",
   "metadata": {},
   "outputs": [],
   "source": [
    "pd.concat((df1, df2), axis=1, ignore_index=True)  # concatenate by columns"
   ]
  },
  {
   "cell_type": "markdown",
   "id": "ecf208c6",
   "metadata": {},
   "source": [
    "Merging two DataFrames in pandas is akin to performing SQL joins. It involves combining datasets based on common columns or indices, resulting in a unified DataFrame. The process, achieved using the `merge` function, is conceptually similar to SQL joins, where you define key columns for matching and specify the type of join (inner, outer, left, right) to determine how non-matching entries are handled. This enables you to consolidate data from distinct sources into a cohesive DataFrame, much like SQL joins bring together information from different database tables."
   ]
  },
  {
   "cell_type": "code",
   "execution_count": null,
   "id": "84ca34ec",
   "metadata": {},
   "outputs": [],
   "source": [
    "df1 = pd.DataFrame({\"name\": ['Magneto', 'Storm', 'Mystique', 'Batman', 'Joker', 'Catwoman', 'Hellboy'],\n",
    "                    'alignment': ['bad', 'good', 'bad', 'good', 'bad', 'bad', 'good'],\n",
    "                    'gender': ['male', 'female', 'female', 'male', 'male', 'female', 'male'],\n",
    "                    'publisher': ['Marvel', 'Marvel', 'Marvel', 'DC', 'DC', 'DC', 'Dark Horse Comics']})\n",
    "df2 = pd.DataFrame({'publisher': ['DC', 'Marvel', 'Image'],\n",
    "                    'year_founded': [1934, 1939, 1992]})\n",
    "                    \n",
    "pd.merge(df1, df2, how='inner', on='publisher')"
   ]
  },
  {
   "cell_type": "markdown",
   "id": "3505166a",
   "metadata": {},
   "source": [
    "### Methods\n",
    "\n",
    "| Method | Paramethers | Description |\n",
    "| :----: | :---------: | :---------: |\n",
    "| `apply`           | func, axis=0                                  | Applies a function along an axis of the dataframe |\n",
    "| `drop_duplicates` | subset*=None, inplace=False                   | Returns dataFrame with duplicate rows removed |\n",
    "| `dropna`          | axis=0, subset*=None, inplace=False           | Removes missing values |\n",
    "| `duplicated`      | subset*=None                                  | Returns boolean series denoting duplicate rows |\n",
    "| `fillna`          | value=None, method=None, inplace=False        | Fills na/nan values using the specified method |\n",
    "| `groupby`         | by=None                                       | Groups dataframe using a mapper or by a series of columns |\n",
    "| `map`             | func                                          | Apples a function to a dataframe elementwise |\n",
    "| `sort_values`     | by, axis=0, ascending=True, inplace=False     | Sorts by the values along either axis |\n",
    "\n",
    "**Examples**"
   ]
  },
  {
   "cell_type": "code",
   "execution_count": null,
   "id": "6ab3e9c9",
   "metadata": {},
   "outputs": [],
   "source": [
    "import numpy as np\n",
    "\n",
    "df = pd.DataFrame({\n",
    "  'Name': ['Alice', 'Alice', 'Alice', 'Bob', 'Bob', 'Charlie', 'David'],\n",
    "  'Age': [22, 22, 22, 23, 23, 20, 19],\n",
    "  'Grade': [85, 85, np.nan, 78, 69, 85, 92]})"
   ]
  },
  {
   "cell_type": "code",
   "execution_count": null,
   "id": "93cef047",
   "metadata": {},
   "outputs": [],
   "source": [
    "df['Grade_sqrt'] = df['Grade'].apply(np.sqrt)\n",
    "df"
   ]
  },
  {
   "cell_type": "code",
   "execution_count": null,
   "id": "1ba9eddf",
   "metadata": {},
   "outputs": [],
   "source": [
    "age_mapping = {True: 'Young', False: 'Old'}\n",
    "df['Age_category'] = df['Age'] <= 22\n",
    "df['Age_category'] = df['Age_category'].map(age_mapping)\n",
    "df"
   ]
  },
  {
   "cell_type": "code",
   "execution_count": null,
   "id": "b97a62f3",
   "metadata": {},
   "outputs": [],
   "source": [
    "df.sort_values(by='Age')"
   ]
  },
  {
   "cell_type": "code",
   "execution_count": null,
   "id": "1b386965",
   "metadata": {},
   "outputs": [],
   "source": [
    "df.groupby('Age')['Grade'].mean()"
   ]
  },
  {
   "cell_type": "code",
   "execution_count": null,
   "id": "f7abe281",
   "metadata": {},
   "outputs": [],
   "source": [
    "df['Duplicated'] = df.duplicated(subset='Name')\n",
    "df"
   ]
  },
  {
   "cell_type": "code",
   "execution_count": null,
   "id": "8fb77a1d",
   "metadata": {},
   "outputs": [],
   "source": [
    "df.drop_duplicates(subset='Name', inplace=True)"
   ]
  }
 ],
 "metadata": {
  "jupytext": {
   "formats": "md:myst",
   "text_representation": {
    "extension": ".md",
    "format_name": "myst",
    "format_version": 0.13,
    "jupytext_version": "1.11.5"
   }
  },
  "kernelspec": {
   "display_name": "Python 3",
   "language": "python",
   "name": "python3"
  },
  "source_map": [
   13,
   19,
   21,
   27,
   32,
   38,
   41,
   49,
   55,
   82,
   88,
   94,
   121,
   125,
   131,
   135,
   141,
   143,
   149,
   151,
   158,
   160,
   166,
   168,
   173,
   175,
   186,
   190,
   194,
   198,
   202,
   206,
   210,
   218,
   220,
   228,
   235,
   242,
   247,
   250,
   257,
   267,
   270,
   273,
   276,
   286,
   289,
   294,
   302,
   308,
   314,
   324,
   332,
   337,
   343,
   350,
   356,
   363,
   367,
   369,
   373,
   382,
   399,
   408,
   413,
   420,
   424,
   428,
   433
  ]
 },
 "nbformat": 4,
 "nbformat_minor": 5
}