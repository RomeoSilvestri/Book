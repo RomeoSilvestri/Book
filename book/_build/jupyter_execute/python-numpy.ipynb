{
 "cells": [
  {
   "cell_type": "markdown",
   "id": "860ed450",
   "metadata": {},
   "source": [
    "# Numpy\n",
    "\n",
    "NumPy is a powerful Python library for numerical computation. It provides efficient multi-dimensional array operations, along with a wide range of mathematical functions. NumPy's compact syntax and high-performance capabilities make it essential for scientific and data-related tasks."
   ]
  },
  {
   "cell_type": "code",
   "execution_count": 1,
   "id": "e50bb01a",
   "metadata": {},
   "outputs": [],
   "source": [
    "import numpy as np"
   ]
  },
  {
   "cell_type": "markdown",
   "id": "8d8abe53",
   "metadata": {},
   "source": [
    "**Data Types**\n",
    "\n",
    "NumPy introduces specialized data types that are more memory-efficient and offer faster computations compared to the built-in Python data types. These NumPy data types are designed to handle large arrays efficiently, enabling vectorized operations and better numerical precision. In contrast, the standard Python data types are more general-purpose but may not perform as efficiently when dealing with large-scale numerical computations.\n",
    "\n",
    "| Category | Type                      |\n",
    "| :------: | :--:                      |\n",
    "| Boolean  | `bool` |\n",
    "| Complex  | `complex64`, `complex128`, `complex256` |\n",
    "| Float    | `float16`, `float32`, `float64`, `float128` |\n",
    "| Integer  | `int8`, `int16`, `int32`, `int64`, `uint8`, `uint16`, `uint32`, `uint64`   |\n",
    "| Object   | `object` |\n",
    "| String   | `str`, `unicode` |\n",
    "\n",
    "\n",
    "## Creation"
   ]
  },
  {
   "cell_type": "code",
   "execution_count": 2,
   "id": "45edf265",
   "metadata": {},
   "outputs": [
    {
     "data": {
      "text/plain": [
       "array([1, 2, 3, 4, 5])"
      ]
     },
     "execution_count": 2,
     "metadata": {},
     "output_type": "execute_result"
    }
   ],
   "source": [
    "my_array = np.array([1, 2, 3, 4, 5])  # simple array creation\n",
    "my_array"
   ]
  },
  {
   "cell_type": "code",
   "execution_count": 3,
   "id": "5e589800",
   "metadata": {},
   "outputs": [
    {
     "name": "stdout",
     "output_type": "stream",
     "text": [
      "<class 'numpy.ndarray'>\n"
     ]
    }
   ],
   "source": [
    "print(type(my_array))"
   ]
  },
  {
   "cell_type": "markdown",
   "id": "782b3c9b",
   "metadata": {},
   "source": [
    "`ndim`: returns the number of dimensions of an array\\\n",
    "`shape`: returns the number of elements in each dimension (like calling *len* on each dimension)\\\n",
    "`size`: returns the total number of elements in an array (i.e., the product of *shape*)"
   ]
  },
  {
   "cell_type": "code",
   "execution_count": 4,
   "id": "e1d3f0b5",
   "metadata": {},
   "outputs": [],
   "source": [
    "array_0d = np.array(1)                                                \n",
    "array_1d = np.array([1, 2, 3, 4, 5, 6])\n",
    "array_2d = np.array([[1, 2, 3], [4, 5, 6]])\n",
    "array_3d = np.array([[[1, 2, 3], [4, 5, 6]], [[3, 2, 1], [6, 5, 4]]])"
   ]
  },
  {
   "cell_type": "code",
   "execution_count": 5,
   "id": "7c299b93",
   "metadata": {},
   "outputs": [
    {
     "data": {
      "text/plain": [
       "array([[1, 2],\n",
       "       [3, 4],\n",
       "       [5, 6]])"
      ]
     },
     "execution_count": 5,
     "metadata": {},
     "output_type": "execute_result"
    }
   ],
   "source": [
    "list_2d = [[1, 2], [3, 4], [5, 6]]  # creation from list\n",
    "array_2d = np.array(list_2d)\n",
    "array_2d"
   ]
  },
  {
   "cell_type": "code",
   "execution_count": 6,
   "id": "a3fb9da6",
   "metadata": {},
   "outputs": [
    {
     "name": "stdout",
     "output_type": "stream",
     "text": [
      "2\n",
      "(3, 2)\n",
      "6\n"
     ]
    }
   ],
   "source": [
    "print(np.ndim(array_2d))\n",
    "print(np.shape(array_2d))\n",
    "print(np.size(array_2d))"
   ]
  },
  {
   "cell_type": "markdown",
   "id": "8fa18138",
   "metadata": {},
   "source": [
    "**Functions**\n",
    "\n",
    "| Function      | Paramethers | Description | \n",
    "| :------:      | :---------: | :---------: |\n",
    "| `arange`      | start, stop, step*, dtype*=None ... | Returns evenly spaced values within a given interval |\n",
    "| `diag`        | v, k*=0 | Returns a diagonal 2d-array extracting the values in the array |\n",
    "| `empty`       | shape, dtype*=float ... | Returns a new empty array of given shape and type |\n",
    "| `eye`         | N, M*=None, k*=0, dtype*=float ... | Returns a new identity 2d-array of given number of row (and columns) and type |\n",
    "| `full`        | shape, fill_value, dtype*=None ... | Returns a new array of given shape and type, filled with a specific value |\n",
    "| `identity`    | n, dtype*=None ... | Returns a new identity quadratic 2d-array of given number of row and columns |\n",
    "| `linspace`    | start, stop, num*=50, dtype*=None ... | Returns evenly spaced numbers over a specified interval |\n",
    "| `ones`        | shape, dtype*=None ... | Returns a new array of given shape and type, filled with ones |\n",
    "| `random.choice` | a, size*=None, replace*=True, p*=None | Generates random values from a given 1d-array in a given shape with specific probabilities |\n",
    "| `random.rand` | d0, d1, ..., dN | Generates random values between 0 and 1 in a given shape |\n",
    "| `random.randint` | low, high*=None, size*=None, dtype*=None | Generates random integer values between *start* and *end* in a given shape |\n",
    "| `zeros`       | shape, dtype*=float ... | Returns a new array of given shape and type, filled with zeros |\n",
    "\n",
    "***Examples***"
   ]
  },
  {
   "cell_type": "code",
   "execution_count": 7,
   "id": "c41e7c65",
   "metadata": {},
   "outputs": [
    {
     "data": {
      "text/plain": [
       "array([1, 2, 3, 4])"
      ]
     },
     "execution_count": 7,
     "metadata": {},
     "output_type": "execute_result"
    }
   ],
   "source": [
    "np.arange(1, 5)"
   ]
  },
  {
   "cell_type": "code",
   "execution_count": 8,
   "id": "9240e765",
   "metadata": {},
   "outputs": [
    {
     "data": {
      "text/plain": [
       "array([ 0,  2,  4,  6,  8, 10])"
      ]
     },
     "execution_count": 8,
     "metadata": {},
     "output_type": "execute_result"
    }
   ],
   "source": [
    "np.arange(0, 11, 2)"
   ]
  },
  {
   "cell_type": "code",
   "execution_count": 9,
   "id": "64901832",
   "metadata": {},
   "outputs": [
    {
     "data": {
      "text/plain": [
       "array([[1, 0, 0],\n",
       "       [0, 2, 0],\n",
       "       [0, 0, 3]])"
      ]
     },
     "execution_count": 9,
     "metadata": {},
     "output_type": "execute_result"
    }
   ],
   "source": [
    "np.diag([1, 2, 3])"
   ]
  },
  {
   "cell_type": "code",
   "execution_count": 10,
   "id": "e5cf2b1e",
   "metadata": {},
   "outputs": [
    {
     "data": {
      "text/plain": [
       "array([[1.22387499e-311, 3.16202013e-322, 0.00000000e+000,\n",
       "        0.00000000e+000],\n",
       "       [1.89146896e-307, 5.35309111e-038, 1.45139825e+165,\n",
       "        3.85478169e-057],\n",
       "       [2.52618877e-052, 5.99041058e-038, 3.60500781e+175,\n",
       "        1.84752675e+184]])"
      ]
     },
     "execution_count": 10,
     "metadata": {},
     "output_type": "execute_result"
    }
   ],
   "source": [
    "np.empty((3, 4))"
   ]
  },
  {
   "cell_type": "code",
   "execution_count": 11,
   "id": "1c2afde0",
   "metadata": {},
   "outputs": [
    {
     "data": {
      "text/plain": [
       "array([[1., 0., 0., 0.],\n",
       "       [0., 1., 0., 0.],\n",
       "       [0., 0., 1., 0.]])"
      ]
     },
     "execution_count": 11,
     "metadata": {},
     "output_type": "execute_result"
    }
   ],
   "source": [
    "np.eye(3, 4)"
   ]
  },
  {
   "cell_type": "code",
   "execution_count": 12,
   "id": "bf8d0197",
   "metadata": {},
   "outputs": [
    {
     "data": {
      "text/plain": [
       "array([[3.14, 3.14, 3.14, 3.14],\n",
       "       [3.14, 3.14, 3.14, 3.14],\n",
       "       [3.14, 3.14, 3.14, 3.14]])"
      ]
     },
     "execution_count": 12,
     "metadata": {},
     "output_type": "execute_result"
    }
   ],
   "source": [
    "np.full((3, 4), 3.14)"
   ]
  },
  {
   "cell_type": "code",
   "execution_count": 13,
   "id": "f683ca5c",
   "metadata": {},
   "outputs": [
    {
     "data": {
      "text/plain": [
       "array([[1., 0., 0.],\n",
       "       [0., 1., 0.],\n",
       "       [0., 0., 1.]])"
      ]
     },
     "execution_count": 13,
     "metadata": {},
     "output_type": "execute_result"
    }
   ],
   "source": [
    "np.identity(3)"
   ]
  },
  {
   "cell_type": "code",
   "execution_count": 14,
   "id": "670a8b65",
   "metadata": {},
   "outputs": [
    {
     "data": {
      "text/plain": [
       "array([ 0. ,  2.5,  5. ,  7.5, 10. ])"
      ]
     },
     "execution_count": 14,
     "metadata": {},
     "output_type": "execute_result"
    }
   ],
   "source": [
    "np.linspace(0, 10, 5)"
   ]
  },
  {
   "cell_type": "code",
   "execution_count": 15,
   "id": "fdbc51c1",
   "metadata": {},
   "outputs": [
    {
     "data": {
      "text/plain": [
       "array([[1., 1., 1., 1.],\n",
       "       [1., 1., 1., 1.],\n",
       "       [1., 1., 1., 1.]])"
      ]
     },
     "execution_count": 15,
     "metadata": {},
     "output_type": "execute_result"
    }
   ],
   "source": [
    "np.ones((3, 4))"
   ]
  },
  {
   "cell_type": "code",
   "execution_count": 16,
   "id": "e37d71ce",
   "metadata": {},
   "outputs": [
    {
     "data": {
      "text/plain": [
       "array([[2, 1, 4, 1],\n",
       "       [2, 4, 5, 5],\n",
       "       [2, 2, 5, 3]])"
      ]
     },
     "execution_count": 16,
     "metadata": {},
     "output_type": "execute_result"
    }
   ],
   "source": [
    "np.random.choice([1, 2, 3, 4, 5], (3, 4))"
   ]
  },
  {
   "cell_type": "code",
   "execution_count": 17,
   "id": "6fcec3b8",
   "metadata": {},
   "outputs": [
    {
     "data": {
      "text/plain": [
       "array([[0.35152307, 0.99437551, 0.28554118, 0.08016896],\n",
       "       [0.18401713, 0.85224588, 0.72484307, 0.19189875],\n",
       "       [0.29250809, 0.67266329, 0.26374992, 0.73304179]])"
      ]
     },
     "execution_count": 17,
     "metadata": {},
     "output_type": "execute_result"
    }
   ],
   "source": [
    "np.random.rand(3, 4)"
   ]
  },
  {
   "cell_type": "code",
   "execution_count": 18,
   "id": "0da70b95",
   "metadata": {},
   "outputs": [
    {
     "data": {
      "text/plain": [
       "array([[47, -5, 43, 18],\n",
       "       [-2, 32, 35, 11],\n",
       "       [29, 41, 43, -9]])"
      ]
     },
     "execution_count": 18,
     "metadata": {},
     "output_type": "execute_result"
    }
   ],
   "source": [
    "np.random.randint(-10, 50, (3, 4))"
   ]
  },
  {
   "cell_type": "code",
   "execution_count": 19,
   "id": "21fa2a57",
   "metadata": {},
   "outputs": [
    {
     "data": {
      "text/plain": [
       "array([[0., 0., 0., 0.],\n",
       "       [0., 0., 0., 0.],\n",
       "       [0., 0., 0., 0.]])"
      ]
     },
     "execution_count": 19,
     "metadata": {},
     "output_type": "execute_result"
    }
   ],
   "source": [
    "np.zeros((3, 4))"
   ]
  },
  {
   "cell_type": "markdown",
   "id": "909952ea",
   "metadata": {},
   "source": [
    "## Access\n",
    "\n",
    "Array **indexing** is the same as accessing an array element.\\\n",
    "You can access an array element by referring to its index number.\\\n",
    "As usual, the indexes in NumPy arrays start with 0, meaning that the first element has index 0, and the second has index 1 etc."
   ]
  },
  {
   "cell_type": "code",
   "execution_count": 20,
   "id": "becc5a5b",
   "metadata": {},
   "outputs": [
    {
     "name": "stdout",
     "output_type": "stream",
     "text": [
      "1st row and 2nd column:  2\n"
     ]
    }
   ],
   "source": [
    "arr = np.array([[1,2,3,4], [5,6,7,8]])\n",
    "\n",
    "print('1st row and 2nd column: ', arr[0, 1])"
   ]
  },
  {
   "cell_type": "markdown",
   "id": "7af8b2eb",
   "metadata": {},
   "source": [
    "Array **slicing** in python means taking elements from one given index to another given index.\\\n",
    "We pass slice instead of index like this: *[start:end]*.\\\n",
    "We can also define a step, like this: *[start:end:step]*.\n",
    "\n",
    "If we don't pass start its considered 0.\\\n",
    "If we don't pass end its considered length of array in that dimension.\\\n",
    "If we don't pass step its considered 1."
   ]
  },
  {
   "cell_type": "code",
   "execution_count": 21,
   "id": "b1c62eb8",
   "metadata": {},
   "outputs": [
    {
     "name": "stdout",
     "output_type": "stream",
     "text": [
      "From the 2nd row, slice elements from column 1 to 4 (not included):  [6 7 8]\n"
     ]
    }
   ],
   "source": [
    "print('From the 2nd row, slice elements from column 1 to 4 (not included): ', arr[1, 1:4])"
   ]
  },
  {
   "cell_type": "markdown",
   "id": "9db6f3f7",
   "metadata": {},
   "source": [
    "Array **iterating** means going through elements one by one. You can iterate through the elements of an array using the for loop."
   ]
  },
  {
   "cell_type": "code",
   "execution_count": 22,
   "id": "c5dc6b57",
   "metadata": {},
   "outputs": [
    {
     "name": "stdout",
     "output_type": "stream",
     "text": [
      "[1 2 3 4]\n",
      "[5 6 7 8]\n"
     ]
    }
   ],
   "source": [
    "for x in arr:  # iterate through all the rows\n",
    "  print(x)"
   ]
  },
  {
   "cell_type": "code",
   "execution_count": 23,
   "id": "966c43fe",
   "metadata": {},
   "outputs": [
    {
     "name": "stdout",
     "output_type": "stream",
     "text": [
      "1\n",
      "2\n",
      "3\n",
      "4\n",
      "5\n",
      "6\n",
      "7\n",
      "8\n"
     ]
    }
   ],
   "source": [
    "for x in arr:  # 1) iterate through all the elements\n",
    "  for y in x:\n",
    "    print(y)"
   ]
  },
  {
   "cell_type": "markdown",
   "id": "91ca9341",
   "metadata": {},
   "source": [
    "To iterate through the elements of an array, the `nditer`(op, flags*=None, op_dtypes*=None ...) function or the `ndenumerate`(arr) function can be used:"
   ]
  },
  {
   "cell_type": "code",
   "execution_count": 24,
   "id": "8a8f6741",
   "metadata": {},
   "outputs": [
    {
     "name": "stdout",
     "output_type": "stream",
     "text": [
      "1\n",
      "2\n",
      "3\n",
      "4\n",
      "5\n",
      "6\n",
      "7\n",
      "8\n"
     ]
    }
   ],
   "source": [
    "for x in np.nditer(arr):  # 2) iterate through all the elements\n",
    "  print(x)"
   ]
  },
  {
   "cell_type": "code",
   "execution_count": 25,
   "id": "bf25c99a",
   "metadata": {},
   "outputs": [
    {
     "name": "stdout",
     "output_type": "stream",
     "text": [
      "1\n",
      "3\n",
      "5\n",
      "7\n"
     ]
    }
   ],
   "source": [
    "# 3) iterate through all the elements skipping 1 element at a time\n",
    "\n",
    "for x in np.nditer(arr[:, ::2]):\n",
    "  print(x)"
   ]
  },
  {
   "cell_type": "code",
   "execution_count": 26,
   "id": "ee347f68",
   "metadata": {},
   "outputs": [
    {
     "name": "stdout",
     "output_type": "stream",
     "text": [
      "b'1'\n",
      "b'2'\n",
      "b'3'\n",
      "b'4'\n",
      "b'5'\n",
      "b'6'\n",
      "b'7'\n",
      "b'8'\n"
     ]
    }
   ],
   "source": [
    "# 4) iterate through all the elements changing the data type in-place\n",
    "\n",
    "for x in np.nditer(arr, flags=['buffered'], op_dtypes=['S']):\n",
    "  print(x)"
   ]
  },
  {
   "cell_type": "code",
   "execution_count": 27,
   "id": "8b35be7c",
   "metadata": {},
   "outputs": [
    {
     "name": "stdout",
     "output_type": "stream",
     "text": [
      "(0, 0) 1\n",
      "(0, 1) 2\n",
      "(0, 2) 3\n",
      "(0, 3) 4\n",
      "(1, 0) 5\n",
      "(1, 1) 6\n",
      "(1, 2) 7\n",
      "(1, 3) 8\n"
     ]
    }
   ],
   "source": [
    "# 5) iterate through all the elements printing the indexes\n",
    "\n",
    "for idx, x in np.ndenumerate(arr):\n",
    "  print(idx, x)"
   ]
  },
  {
   "cell_type": "markdown",
   "id": "6e7bc0f3",
   "metadata": {},
   "source": [
    "Array **filtering** refers to the operation of extracting elements from an array that meet a particular condition, creating a new array that contains only those selected elements."
   ]
  },
  {
   "cell_type": "code",
   "execution_count": 28,
   "id": "d29b4a47",
   "metadata": {},
   "outputs": [
    {
     "name": "stdout",
     "output_type": "stream",
     "text": [
      "[2 4 6 8]\n"
     ]
    }
   ],
   "source": [
    "print(arr[arr % 2 == 0])"
   ]
  },
  {
   "cell_type": "markdown",
   "id": "36c0de83",
   "metadata": {},
   "source": [
    "Array **searching** refers to the process of finding specific elements or their indices within an array based on a given condition or value. To search for element indexes, the `where`(condition) function can be used:"
   ]
  },
  {
   "cell_type": "code",
   "execution_count": 29,
   "id": "befde7a7",
   "metadata": {},
   "outputs": [
    {
     "name": "stdout",
     "output_type": "stream",
     "text": [
      "[[False  True False  True]\n",
      " [False  True False  True]]\n",
      "(array([0, 0, 1, 1], dtype=int64), array([1, 3, 1, 3], dtype=int64))\n"
     ]
    }
   ],
   "source": [
    "print(arr % 2 == 0)\n",
    "print(np.where(arr % 2 == 0))"
   ]
  },
  {
   "cell_type": "markdown",
   "id": "08ee1e48",
   "metadata": {},
   "source": [
    "## Operations\n",
    "\n",
    "**Elementwise**\n",
    "\n",
    "Elementwise operations involve performing mathematical operations independently on each element of a set. They enable efficient processing of large datasets and are commonly used in programming and mathematical computations."
   ]
  },
  {
   "cell_type": "code",
   "execution_count": 30,
   "id": "ecfd63ce",
   "metadata": {},
   "outputs": [],
   "source": [
    "array_x = np.array([[1,2,3], [4,5,6]])     # 2x3\n",
    "array_y = np.array([[12,11,10], [9,8,7]])  # 2x3\n",
    "array_z = np.array([[1], [2], [3]])        # 3x1\n",
    "array_w = np.array([[1, 2, 3]])            # 1x3"
   ]
  },
  {
   "cell_type": "code",
   "execution_count": 31,
   "id": "46228296",
   "metadata": {},
   "outputs": [
    {
     "data": {
      "text/plain": [
       "array([[2, 3, 4],\n",
       "       [5, 6, 7]])"
      ]
     },
     "execution_count": 31,
     "metadata": {},
     "output_type": "execute_result"
    }
   ],
   "source": [
    "array_x + 1  # operation between array and scalar"
   ]
  },
  {
   "cell_type": "code",
   "execution_count": 32,
   "id": "b5fca541",
   "metadata": {},
   "outputs": [
    {
     "data": {
      "text/plain": [
       "array([[13, 13, 13],\n",
       "       [13, 13, 13]])"
      ]
     },
     "execution_count": 32,
     "metadata": {},
     "output_type": "execute_result"
    }
   ],
   "source": [
    "array_x + array_y  # operation between two arrays"
   ]
  },
  {
   "cell_type": "code",
   "execution_count": 33,
   "id": "08554adb",
   "metadata": {},
   "outputs": [
    {
     "data": {
      "text/plain": [
       "array([[False, False, False],\n",
       "       [False, False, False]])"
      ]
     },
     "execution_count": 33,
     "metadata": {},
     "output_type": "execute_result"
    }
   ],
   "source": [
    "array_x == array_y  # compares the elements of two arrays by returning an array                     # of Boolean values indicating which elements are equal"
   ]
  },
  {
   "cell_type": "code",
   "execution_count": 34,
   "id": "bbade1cd",
   "metadata": {},
   "outputs": [
    {
     "data": {
      "text/plain": [
       "True"
      ]
     },
     "execution_count": 34,
     "metadata": {},
     "output_type": "execute_result"
    }
   ],
   "source": [
    "np.array_equal(x, y)  # checks whether two arrays are identical"
   ]
  },
  {
   "cell_type": "code",
   "execution_count": 35,
   "id": "b6b8b792",
   "metadata": {},
   "outputs": [
    {
     "data": {
      "text/plain": [
       "array([[14],\n",
       "       [32]])"
      ]
     },
     "execution_count": 35,
     "metadata": {},
     "output_type": "execute_result"
    }
   ],
   "source": [
    "np.dot(array_x, array_z)  # scalar product between arrays\n",
    "\n",
    "# array_x @ array_z  # equivalent"
   ]
  },
  {
   "cell_type": "code",
   "execution_count": 36,
   "id": "b3b9dd10",
   "metadata": {},
   "outputs": [
    {
     "data": {
      "text/plain": [
       "array([[2, 3, 4],\n",
       "       [3, 4, 5],\n",
       "       [4, 5, 6]])"
      ]
     },
     "execution_count": 36,
     "metadata": {},
     "output_type": "execute_result"
    }
   ],
   "source": [
    "array_z + array_w  # broadcasting"
   ]
  },
  {
   "cell_type": "markdown",
   "id": "6af39e11",
   "metadata": {},
   "source": [
    "**Reshape**\n",
    "\n",
    "The `reshape` function in NumPy allows for changing the shape or dimensions of an array without altering its data. It enables reorganizing the elements of an array into a different shape while ensuring that the total number of elements remains the same. The reshape function does not change the array in place."
   ]
  },
  {
   "cell_type": "code",
   "execution_count": 37,
   "id": "98721fb5",
   "metadata": {},
   "outputs": [
    {
     "data": {
      "text/plain": [
       "array([[[1, 2],\n",
       "        [3, 4]],\n",
       "\n",
       "       [[5, 6],\n",
       "        [7, 8]]])"
      ]
     },
     "execution_count": 37,
     "metadata": {},
     "output_type": "execute_result"
    }
   ],
   "source": [
    "arr.reshape(4, 2)  # changes the shape\n",
    "\n",
    "arr.reshape(2, -1)  # changes the shape by recognizing missing dimensions\n",
    "\n",
    "arr.reshape(2, 2, 2)  # changes shape and dimensions"
   ]
  },
  {
   "cell_type": "markdown",
   "id": "3bbcfec5",
   "metadata": {},
   "source": [
    "The `resize` function in NumPy allows modifying the shape of an array, either by adding or removing elements, to fit the specified dimensions. It can resize the array inplace, altering its data, and can also introduce or discard elements based on the new shape."
   ]
  },
  {
   "cell_type": "code",
   "execution_count": 38,
   "id": "287825b5",
   "metadata": {},
   "outputs": [],
   "source": [
    "arr.resize(4, 2)  # changes the shape in place"
   ]
  },
  {
   "cell_type": "markdown",
   "id": "42342389",
   "metadata": {},
   "source": [
    "The `flatten` function in NumPy converts a multi-dimensional array into a 1D array by concatenating all the elements in a row-major order. It creates a flat array, which is useful for simplifying the array structure and iterating over the elements sequentially. The flatten function does not change the array in place."
   ]
  },
  {
   "cell_type": "code",
   "execution_count": 39,
   "id": "a19b2d41",
   "metadata": {},
   "outputs": [
    {
     "data": {
      "text/plain": [
       "array([1, 2, 3, 4, 5, 6, 7, 8])"
      ]
     },
     "execution_count": 39,
     "metadata": {},
     "output_type": "execute_result"
    }
   ],
   "source": [
    "arr.flatten()"
   ]
  },
  {
   "cell_type": "markdown",
   "id": "d9e31927",
   "metadata": {},
   "source": [
    "**Sort**\n",
    "\n",
    "The `sort` function in NumPy arranges the elements of an array in ascending order by default, or in descending order if specified. This enables efficient data analysis, searching, and retrieval of specific values within the array."
   ]
  },
  {
   "cell_type": "code",
   "execution_count": 40,
   "id": "7c587572",
   "metadata": {},
   "outputs": [
    {
     "data": {
      "text/plain": [
       "array([[1, 2],\n",
       "       [3, 4],\n",
       "       [5, 6],\n",
       "       [7, 8]])"
      ]
     },
     "execution_count": 40,
     "metadata": {},
     "output_type": "execute_result"
    }
   ],
   "source": [
    "np.sort(arr)"
   ]
  },
  {
   "cell_type": "markdown",
   "id": "69dd2c76",
   "metadata": {},
   "source": [
    "**Join** and **Split**\n",
    "\n",
    "Joining in NumPy usually refers to concatenating or combining arrays along a specified axis. Splitting, on the other hand, involves dividing an array into multiple smaller arrays along a specified axis.\n",
    "\n",
    "To do the join between two arrays there are basically two ways: chaining (`concatenate` function) joins two arrays without adding additional dimensions, while stacking (`stack` function) adds another dimension."
   ]
  },
  {
   "cell_type": "code",
   "execution_count": 41,
   "id": "3b70cc98",
   "metadata": {},
   "outputs": [
    {
     "name": "stdout",
     "output_type": "stream",
     "text": [
      "(2, 3) (2, 3)\n",
      "[[ 1  2  3]\n",
      " [ 4  5  6]\n",
      " [12 11 10]\n",
      " [ 9  8  7]]\n",
      "(4, 3)\n",
      "[[ 1  2  3 12 11 10]\n",
      " [ 4  5  6  9  8  7]]\n",
      "(2, 6)\n"
     ]
    }
   ],
   "source": [
    "print(np.shape(array_x), np.shape(array_y))\n",
    "\n",
    "array_c1 = np.concatenate((array_x, array_y))           # concatenates along columns\n",
    "print(array_c1)\n",
    "print(np.shape(array_c1))\n",
    "\n",
    "array_c2 = np.concatenate((array_x, array_y), axis=1)   # concatenates along rows\n",
    "print(array_c2)\n",
    "print(np.shape(array_c2))"
   ]
  },
  {
   "cell_type": "code",
   "execution_count": 42,
   "id": "3de3bee3",
   "metadata": {},
   "outputs": [
    {
     "name": "stdout",
     "output_type": "stream",
     "text": [
      "[[[ 1  2  3]\n",
      "  [ 4  5  6]]\n",
      "\n",
      " [[12 11 10]\n",
      "  [ 9  8  7]]]\n",
      "(2, 2, 3)\n",
      "[[[ 1  2  3]\n",
      "  [12 11 10]]\n",
      "\n",
      " [[ 4  5  6]\n",
      "  [ 9  8  7]]]\n",
      "(2, 2, 3)\n"
     ]
    }
   ],
   "source": [
    "array_s1 = np.stack((array_x, array_y))           # stacks two arrays along columns\n",
    "print(array_s1)\n",
    "print(np.shape(array_s1))\n",
    "\n",
    "array_s2 = np.stack((array_x, array_y), axis=1)   # stacks two arrays along rows\n",
    "print(array_s2)\n",
    "print(np.shape(array_s2))"
   ]
  },
  {
   "cell_type": "code",
   "execution_count": 43,
   "id": "f6635c1a",
   "metadata": {},
   "outputs": [
    {
     "name": "stdout",
     "output_type": "stream",
     "text": [
      "[[ 1  2  3 12 11 10]\n",
      " [ 4  5  6  9  8  7]]\n",
      "(2, 6)\n",
      "[[ 1  2  3]\n",
      " [ 4  5  6]\n",
      " [12 11 10]\n",
      " [ 9  8  7]]\n",
      "(4, 3)\n",
      "[[[ 1 12]\n",
      "  [ 2 11]\n",
      "  [ 3 10]]\n",
      "\n",
      " [[ 4  9]\n",
      "  [ 5  8]\n",
      "  [ 6  7]]]\n",
      "(2, 3, 2)\n"
     ]
    }
   ],
   "source": [
    "array_s3 = np.hstack((array_x, array_y))  # stacks horizontally (along columns)\n",
    "print(array_s3)\n",
    "print(np.shape(array_s3))\n",
    "\n",
    "array_s4 = np.vstack((array_x, array_y))  # stacks vertically (along rows)\n",
    "print(array_s4)\n",
    "print(np.shape(array_s4))\n",
    "\n",
    "array_s5 = np.dstack((array_x, array_y))  # stacks adding a depth dimension\n",
    "print(array_s5)\n",
    "print(np.shape(array_s5))"
   ]
  },
  {
   "cell_type": "markdown",
   "id": "731270c3",
   "metadata": {},
   "source": [
    "To split an array into many subarrays, the `array_split` functions or variants of the `split` function are used in a similar and opposite manner to the join functions."
   ]
  },
  {
   "cell_type": "code",
   "execution_count": 44,
   "id": "966e5813",
   "metadata": {},
   "outputs": [
    {
     "name": "stdout",
     "output_type": "stream",
     "text": [
      "[array([[1, 2, 3]]), array([[4, 5, 6]])]\n",
      "[array([[1, 2],\n",
      "       [4, 5]]), array([[3],\n",
      "       [6]])]\n"
     ]
    }
   ],
   "source": [
    "array_split1 = np.array_split(array_x, 2)          # splits an array into n arrays by columns\n",
    "print(array_split1)\n",
    "\n",
    "array_split2 = np.array_split(array_x, 2, axis=1)  # splits an array into n arrays by rows\n",
    "print(array_split2)\n",
    "\n",
    "# np.hsplit(array_x, 2)\n",
    "# np.vsplit(array_x, 2)\n",
    "# np.dsplit(array_x, 2)"
   ]
  },
  {
   "cell_type": "markdown",
   "id": "ecc81d36",
   "metadata": {},
   "source": [
    "## Functions\n",
    "\n",
    "| Category | Transformation | Function | Description | \n",
    "| :------: | :------------: | :------: | :---------: |\n",
    "| Arithmetic | 1 array -> 1 array | `absolute` | Computes the absolute values of the elements in an array |\n",
    "|            | | `cumsum` | Returns the cumulative sum of elements in an array along a specified axis |\n",
    "|            | | `cumprod` | Returns the cumulative product of elements in an array along a specified axis |\n",
    "|            | | `exp` | Computes the exponential values of the elements in an array |\n",
    "|            | | `log`, `log2`, `log10` | Compute the logarithms of the elements in an array |\n",
    "|            | 2 array -> 1 array | `add` | Performs element-wise addition between two arrays |\n",
    "|            | | `subtract` | Performs element-wise subtraction between two arrays |\n",
    "|            | | `multiply` | Performs element-wise multiplication between two arrays |\n",
    "|            | | `divide` | Performs element-wise division between two arrays |\n",
    "|            | | `divmod` | Returns the quotient and the remainder of element-wise division between two arrays |\n",
    "|            | | `power` | Raises the elements of an array to the power of corresponding elements in another array |\n",
    "|            | | `mod`, `remainder` | Returns the remainder of element-wise division between two arrays |\n",
    "|            | 1+ array -> 1 number | `sum` | Returns the sum of elements in an array |\n",
    "|            | | `prod` | Returns the product of elements in an array |\n",
    "| Linear Algebra | 1 array -> 1 array | `linealg.det` | Returns the determinant of a square matrix |\n",
    "|            | | `linalg.eig` | Returns the eigenvalues and eigenvectors of a square matrix |\n",
    "|            | | `linalg.inv` | Returns the inverse of a square matrix |\n",
    "|            | | `linalg.matrix_rank` | Returns the rank of a matrix |\n",
    "|            | | `linalg.norm` | Returns the Euclidean norm of a vector or the matrix norm of an array |\n",
    "|            | | `linalg.trace` | Returns the trace of a matrix |\n",
    "|            | | `linalg.svd`, `linalg.qr`, `linalg.lu` | Returns a specific decomposition of a matrix |\n",
    "|            | | `transpose` | Returns the transposed matrix |\n",
    "|            | 2 array -> 1 array | `dot`, `matmul`, `vdot` | Performs matrix multiplication between two arrays |\n",
    "| Rounding | 1 array -> 1 array | `fix`, `trunc` | Rounds the elements of an array towards zero to the nearest integer |\n",
    "|          | | `around` | Rounds the elements of an array to the specified number of decimals or to the nearest integer if no decimals are provided |\n",
    "|          | | `ceil` | Rounds the elements of an array up to the nearest integer |\n",
    "|          | | `floor` | Rounds the elements of an array down to the nearest integer |\n",
    "| Sets | 2 array -> 1 array | `unique` | Returns the sorted unique values in an array, removing any duplicates |\n",
    "|      | | `intersect1d` | Returns the sorted, unique values that are common to two input arrays |\n",
    "|      | | `setdiff1d` | Returns the sorted, unique values that are in one input array but not in the other |\n",
    "|      | | `union1d` | Returns the sorted, unique values from combining two input arrays, removing any duplicates |\n",
    "| Statistics | 1+ array -> 1 number | `min`, `max` | Returns the minimum / maximum value along a specified axis or the minimum / maximum element in an array |\n",
    "|            | | `mean` | Returns the arithmetic mean of elements in an array along a specified axis |\n",
    "|            | | `median` | Returns the median value of elements in an array along a specified axis |\n",
    "|            | | `quantile` | Returns the specified quantile(s) of elements in an array along a specified axis |\n",
    "| Trigonometric | 1 array -> 1 array | `sin`, `cos`, `tan` | Returns the specific trigonometric function of elements in an array |"
   ]
  }
 ],
 "metadata": {
  "jupytext": {
   "formats": "md:myst",
   "text_representation": {
    "extension": ".md",
    "format_name": "myst",
    "format_version": 0.13,
    "jupytext_version": "1.11.5"
   }
  },
  "kernelspec": {
   "display_name": "Python 3",
   "language": "python",
   "name": "python3"
  },
  "language_info": {
   "codemirror_mode": {
    "name": "ipython",
    "version": 3
   },
   "file_extension": ".py",
   "mimetype": "text/x-python",
   "name": "python",
   "nbconvert_exporter": "python",
   "pygments_lexer": "ipython3",
   "version": "3.10.11"
  },
  "source_map": [
   13,
   19,
   21,
   39,
   44,
   46,
   52,
   59,
   65,
   69,
   90,
   94,
   98,
   102,
   106,
   110,
   114,
   118,
   122,
   126,
   130,
   134,
   138,
   140,
   149,
   153,
   163,
   165,
   169,
   174,
   178,
   182,
   187,
   194,
   201,
   206,
   210,
   212,
   216,
   219,
   228,
   235,
   239,
   243,
   247,
   251,
   257,
   259,
   265,
   271,
   275,
   277,
   281,
   283,
   289,
   291,
   299,
   311,
   321,
   333,
   337,
   347
  ]
 },
 "nbformat": 4,
 "nbformat_minor": 5
}